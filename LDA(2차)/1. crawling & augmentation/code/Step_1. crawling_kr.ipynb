{
 "cells": [
  {
   "cell_type": "code",
   "execution_count": 5,
   "metadata": {},
   "outputs": [],
   "source": [
    "from selenium import webdriver\n",
    "from selenium.webdriver.chrome.service import Service as ChromeService\n",
    "from selenium.webdriver.chrome.options import Options as ChromeOptions\n",
    "from webdriver_manager.chrome import ChromeDriverManager\n",
    "from selenium.webdriver.common.by import By\n",
    "from selenium.webdriver.common.keys import Keys\n",
    "from bs4 import BeautifulSoup\n",
    "import time"
   ]
  },
  {
   "cell_type": "code",
   "execution_count": 6,
   "metadata": {},
   "outputs": [],
   "source": [
    "import pandas as pd"
   ]
  },
  {
   "cell_type": "code",
   "execution_count": 7,
   "metadata": {},
   "outputs": [],
   "source": [
    "options = ChromeOptions()\n",
    "service = ChromeService(executable_path=ChromeDriverManager().install())"
   ]
  },
  {
   "cell_type": "code",
   "execution_count": 20,
   "metadata": {},
   "outputs": [],
   "source": [
    "total_title_ko = []\n",
    "total_title_en = []\n",
    "total_journal = []\n",
    "total_date = []\n",
    "total_abstract= []"
   ]
  },
  {
   "cell_type": "code",
   "execution_count": 21,
   "metadata": {},
   "outputs": [],
   "source": [
    "browser = webdriver.Chrome(service=service, options=options)\n",
    "\n",
    "for page in range(0,2170,10):\n",
    "                  \n",
    "    browser.get(f\"https://www.riss.kr/search/Search.do?isDetailSearch=Y&searchGubun=true&viewYn=OP&queryText=znTitle%2C%E2%80%9C%EC%83%9D%ED%99%9C%EC%B2%B4%EC%9C%A1%E2%80%9D&strQuery=&exQuery=&exQueryText=&order=%2FDESC&onHanja=false&strSort=RANK&p_year1=&p_year2=&iStartCount={page}&orderBy=&mat_type=&mat_subtype=&fulltext_kind=&t_gubun=&learning_type=&ccl_code=&inside_outside=&fric_yn=&db_type=&image_yn=&gubun=&kdc=&ttsUseYn=&l_sub_code=&fsearchMethod=search&sflag=1&isFDetailSearch=N&pageNumber=1&resultKeyword=&fsearchSort=&fsearchOrder=&limiterList=&limiterListText=&facetList=&facetListText=&fsearchDB=&icate=re_a_kor&colName=re_a_kor&pageScale=10&isTab=Y&regnm=&dorg_storage=&language=&language_code=&clickKeyword=&relationKeyword=&query=\")\n",
    "    browser.implicitly_wait(10)\n",
    "\n",
    "\n",
    "\n",
    "\n",
    "\n",
    "    for i in range(1,11): # len(search_result_wrap)\n",
    "        paper = browser.find_element(By.XPATH, f'/html/body/div[1]/div[2]/div[4]/div/div[2]/div/div[3]/div[2]/ul/li[{i}]/div[2]/p[1]/a')\n",
    "        \n",
    "        time.sleep(1)\n",
    "        paper.click()\n",
    "        time.sleep(2)\n",
    "\n",
    "        # 논문명\n",
    "        try:\n",
    "            title = browser.find_element(By.CSS_SELECTOR, \"h3.title\").text.strip()\n",
    "            \n",
    "            if \" = \" in title:\n",
    "                title = title.split(' = ')\n",
    "\n",
    "            else:\n",
    "                title = [title,None]\n",
    "            \n",
    "                \n",
    "        except:\n",
    "            title = [None,None]\n",
    "        \n",
    "        total_title_ko.append(title[0])\n",
    "        total_title_en.append(title[1])\n",
    "        \n",
    "        \n",
    "        # 학술지\n",
    "        try:\n",
    "            journal = browser.find_element(By.CSS_SELECTOR, \"a.text.mgb7\").text.strip()\n",
    "            \n",
    "        except:\n",
    "            journal = None   \n",
    "        \n",
    "        total_journal.append(journal)\n",
    "        \n",
    "        # 발행년도\n",
    "        try:\n",
    "            date = browser.find_element(By.XPATH, '//*[@id=\"thesisInfoDiv\"]/div[2]/div[1]/ul/li[5]/div/p').text.strip()\n",
    "            \n",
    "        except:\n",
    "            date = None   \n",
    "        \n",
    "        total_date.append(date)\n",
    "        \n",
    "        # 초록\n",
    "        try:\n",
    "            all_abstract_part = browser.find_elements(By.CSS_SELECTOR, 'a.moreView')[1:4]\n",
    "            for moreView in all_abstract_part:\n",
    "                moreView.click()\n",
    "                time.sleep(1)\n",
    "            \n",
    "            abstract_part = browser.find_element(By.XPATH, '//*[@id=\"additionalInfoDiv\"]')\n",
    "            abstract = abstract_part.text.split(\"\\n\")\n",
    "            \n",
    "            en_abstract = None\n",
    "            for index, value in enumerate(abstract):\n",
    "                if \"다국어 초록\" in value:\n",
    "                    en_index = index\n",
    "                    en_abstract = abstract[en_index + 1].strip()\n",
    "            \n",
    "            total_abstract.append(en_abstract)\n",
    "        except:\n",
    "            total_abstract.append(None)\n",
    "        \n",
    "        # if \"다국어 초록\" in \n",
    "        # en_abstract_part = all_abstract_part.find_element(By.CSS_SELECTOR, 'a.moreView')\n",
    "        # abstract_click.click()\n",
    "        # # abstract_click = abstract_part.find_element(By.CSS_SELECTOR, 'a.moreView')\n",
    "        # # abstract_click.click()\n",
    "        # time.sleep(1)\n",
    "\n",
    "        # try:\n",
    "        #     abstract = browser.find_element(By.XPATH, 'div:contains(\"다국어 초록\")')\n",
    "        #     abstract = abstract.find_element(By.TAG_NAME, 'p').text.strip()\n",
    "\n",
    "        # except:\n",
    "        #     abstract = None   \n",
    "        \n",
    "        # total_abstract.append(abstract)\n",
    "        \n",
    "        \n",
    "        browser.back()\n",
    "        time.sleep(1)\n",
    "\n",
    "# abstract = browser.find_element(By.XPATH, '//*[@id=\"additionalInfoDiv\"]/div/div[1]/a')\n",
    "# abstract.click()\n",
    "# time.sleep(2)\n"
   ]
  },
  {
   "cell_type": "code",
   "execution_count": 22,
   "metadata": {},
   "outputs": [
    {
     "name": "stdout",
     "output_type": "stream",
     "text": [
      "2170\n",
      "2170\n",
      "2170\n",
      "2170\n",
      "2170\n"
     ]
    }
   ],
   "source": [
    "print(len(total_title_ko)) \n",
    "print(len(total_title_en))\n",
    "print(len(total_journal))\n",
    "print(len(total_date ))\n",
    "print(len(total_abstract))"
   ]
  },
  {
   "cell_type": "code",
   "execution_count": 23,
   "metadata": {},
   "outputs": [],
   "source": [
    "df = pd.DataFrame({\"Title_ko\":total_title_ko, \"Title_en\":total_title_en, \"Publised\":total_date, \"Journal\":total_journal, \"Abstract\":total_abstract})"
   ]
  },
  {
   "cell_type": "code",
   "execution_count": 24,
   "metadata": {},
   "outputs": [],
   "source": [
    "df.to_excel(\"./DataFrame_KR.xlsx\", index=False)"
   ]
  }
 ],
 "metadata": {
  "kernelspec": {
   "display_name": "PY39_",
   "language": "python",
   "name": "python3"
  },
  "language_info": {
   "codemirror_mode": {
    "name": "ipython",
    "version": 3
   },
   "file_extension": ".py",
   "mimetype": "text/x-python",
   "name": "python",
   "nbconvert_exporter": "python",
   "pygments_lexer": "ipython3",
   "version": "3.9.16"
  }
 },
 "nbformat": 4,
 "nbformat_minor": 2
}
