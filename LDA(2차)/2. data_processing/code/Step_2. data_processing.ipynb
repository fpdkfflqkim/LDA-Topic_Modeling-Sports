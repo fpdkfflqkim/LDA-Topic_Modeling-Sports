{
 "cells": [
  {
   "cell_type": "code",
   "execution_count": 1,
   "metadata": {},
   "outputs": [],
   "source": [
    "class myconfig():\n",
    "    jp_data_path = r\"C:\\Users\\user\\Desktop\\토픽 모델링\\2. 전처리\\data\\0.DataFrame_JP_all.xlsx\"\n",
    "    kr_data_path = r\"C:\\Users\\user\\Desktop\\토픽 모델링\\2. 전처리\\data\\0.DataFrame_KR_all.xlsx\"\n",
    "\n",
    "    jp_data_path_2 = r\"C:\\Users\\user\\Desktop\\토픽 모델링\\2. 전처리\\data\\1.DataFrame_JP_all_clean.xlsx\"\n",
    "    kr_data_path_2 = r\"C:\\Users\\user\\Desktop\\토픽 모델링\\2. 전처리\\data\\1.DataFrame_KR_all_clean.xlsx\"\n",
    "mcfg = myconfig()"
   ]
  },
  {
   "cell_type": "markdown",
   "metadata": {},
   "source": [
    "# 0. 데이터 불러오기"
   ]
  },
  {
   "cell_type": "code",
   "execution_count": 2,
   "metadata": {},
   "outputs": [],
   "source": [
    "import pandas as pd\n",
    "\n",
    "df_jp_v0 = pd.read_excel(mcfg.jp_data_path)\n",
    "df_kr_v0 = pd.read_excel(mcfg.kr_data_path)"
   ]
  },
  {
   "cell_type": "code",
   "execution_count": 3,
   "metadata": {},
   "outputs": [
    {
     "data": {
      "text/plain": [
       "Index(['no', 'Title', 'Journal', 'Publised', 'Abstract'], dtype='object')"
      ]
     },
     "execution_count": 3,
     "metadata": {},
     "output_type": "execute_result"
    }
   ],
   "source": [
    "df_jp_v0.columns"
   ]
  },
  {
   "cell_type": "code",
   "execution_count": 4,
   "metadata": {},
   "outputs": [],
   "source": [
    "df_jp_v1 = df_jp_v0[[\"Title\",\"Publised\",\"Journal\",\"Abstract\"]]\n",
    "df_kr_v1 = df_kr_v0[[\"Title\",\"Publised\",\"Journal\",\"Abstract\"]]"
   ]
  },
  {
   "cell_type": "code",
   "execution_count": 5,
   "metadata": {},
   "outputs": [],
   "source": [
    "import re\n",
    "\n",
    "def clean_text(input_text):\n",
    "    if pd.isna(input_text):  # NaN 값 체크\n",
    "        return input_text \n",
    "    \n",
    "    else:\n",
    "        # 정규식을 사용하여 영문자와 공백만 남기고 나머지는 제거\n",
    "        cleaned_text = re.sub(r'[^a-zA-Z\\s]', ' ', input_text)\n",
    "        cleaned_text = cleaned_text.strip()\n",
    "        cleaned_text = re.sub(r'\\s+', ' ', cleaned_text)\n",
    "        cleaned_text = cleaned_text.strip()\n",
    "        return cleaned_text\n",
    "    \n",
    "def clean_df(df, column):\n",
    "    df[column] = df[column].apply(clean_text)"
   ]
  },
  {
   "cell_type": "code",
   "execution_count": 7,
   "metadata": {},
   "outputs": [
    {
     "name": "stderr",
     "output_type": "stream",
     "text": [
      "C:\\Users\\user\\AppData\\Local\\Temp\\ipykernel_34400\\4243500651.py:16: SettingWithCopyWarning: \n",
      "A value is trying to be set on a copy of a slice from a DataFrame.\n",
      "Try using .loc[row_indexer,col_indexer] = value instead\n",
      "\n",
      "See the caveats in the documentation: https://pandas.pydata.org/pandas-docs/stable/user_guide/indexing.html#returning-a-view-versus-a-copy\n",
      "  df[column] = df[column].apply(clean_text)\n"
     ]
    }
   ],
   "source": [
    "clean_df(df_jp_v1,\"Abstract\")\n",
    "clean_df(df_kr_v1,\"Abstract\")"
   ]
  },
  {
   "cell_type": "code",
   "execution_count": 8,
   "metadata": {},
   "outputs": [],
   "source": [
    "df_jp_v1 = df_jp_v1.dropna(subset=['Abstract'])\n",
    "df_kr_v1 = df_kr_v1.dropna(subset=['Abstract'])"
   ]
  },
  {
   "cell_type": "code",
   "execution_count": 9,
   "metadata": {},
   "outputs": [],
   "source": [
    "df_jp_v1 = df_jp_v1[df_jp_v1['Abstract'].apply(len) >= 1]\n",
    "df_kr_v1 = df_kr_v1[df_kr_v1['Abstract'].apply(len) >= 1]"
   ]
  },
  {
   "cell_type": "code",
   "execution_count": 10,
   "metadata": {},
   "outputs": [],
   "source": [
    "# index 초기화\n",
    "df_jp_v1 = df_jp_v1.reset_index(drop=True)\n",
    "df_kr_v1 = df_kr_v1.reset_index(drop=True)"
   ]
  },
  {
   "cell_type": "markdown",
   "metadata": {},
   "source": [
    "## 1-5 엑셀로 저장"
   ]
  },
  {
   "cell_type": "code",
   "execution_count": 11,
   "metadata": {},
   "outputs": [],
   "source": [
    "df_jp_v1.to_excel(mcfg.jp_data_path_2, index=False)\n",
    "df_kr_v1.to_excel(mcfg.kr_data_path_2, index=False)"
   ]
  },
  {
   "cell_type": "code",
   "execution_count": null,
   "metadata": {},
   "outputs": [],
   "source": []
  }
 ],
 "metadata": {
  "kernelspec": {
   "display_name": "PY39_",
   "language": "python",
   "name": "python3"
  },
  "language_info": {
   "codemirror_mode": {
    "name": "ipython",
    "version": 3
   },
   "file_extension": ".py",
   "mimetype": "text/x-python",
   "name": "python",
   "nbconvert_exporter": "python",
   "pygments_lexer": "ipython3",
   "version": "3.9.16"
  }
 },
 "nbformat": 4,
 "nbformat_minor": 2
}
