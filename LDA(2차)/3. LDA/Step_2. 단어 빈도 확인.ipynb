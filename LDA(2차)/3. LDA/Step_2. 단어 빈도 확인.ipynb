{
 "cells": [
  {
   "cell_type": "code",
   "execution_count": 2,
   "metadata": {},
   "outputs": [],
   "source": [
    "# 라이브러리 불러오기\n",
    "import spacy\n",
    "import pandas as pd\n",
    "import re\n",
    "from spacy.lang.en import STOP_WORDS\n",
    "import matplotlib.pyplot as plt\n",
    "from sklearn.feature_extraction.text import CountVectorizer"
   ]
  },
  {
   "cell_type": "code",
   "execution_count": 16,
   "metadata": {},
   "outputs": [],
   "source": [
    "class myconfig():\n",
    "    jp_data_path = r\"C:\\Users\\user\\Desktop\\토픽 모델링\\2. 전처리\\data\\1.DataFrame_JP_all_clean.xlsx\"\n",
    "    kr_data_path = r\"C:\\Users\\user\\Desktop\\토픽 모델링\\2. 전처리\\data\\1.DataFrame_KR_all_clean.xlsx\"\n",
    "    stop_words_path = r\"C:\\Users\\user\\Desktop\\토픽 모델링\\3. LDA\\data\\불용어리스트.xlsx\"\n",
    "\n",
    "    all_data_path = r\"C:\\Users\\user\\Desktop\\토픽 모델링\\3. LDA\\data\\3.DataFrame_명사추가.xlsx\"\n",
    "    \n",
    "    freq_data_kr_path = r\"C:\\Users\\user\\Desktop\\토픽 모델링\\3. LDA\\data\\3.vocab_freq_kr.xlsx\"\n",
    "    freq_data_jp_path = r\"C:\\Users\\user\\Desktop\\토픽 모델링\\3. LDA\\data\\3.vocab_freq_jp.xlsx\"\n",
    "       \n",
    "    for_wc_kr_path = r\"C:\\Users\\user\\Desktop\\토픽 모델링\\3. LDA\\data\\3.wc용_data_kr.xlsx\"\n",
    "    for_wc__jp_path = r\"C:\\Users\\user\\Desktop\\토픽 모델링\\3. LDA\\data\\3.wc용_data_jp.xlsx\"\n",
    "    \n",
    "\n",
    "mcfg = myconfig()"
   ]
  },
  {
   "cell_type": "code",
   "execution_count": 4,
   "metadata": {},
   "outputs": [],
   "source": [
    "# 토크나이저 정의\n",
    "nlp = spacy.load('en_core_web_sm')"
   ]
  },
  {
   "cell_type": "code",
   "execution_count": 5,
   "metadata": {},
   "outputs": [],
   "source": [
    "# 불용어에 추가할 단어\n",
    "custom_stop_words = list(pd.read_excel(mcfg.stop_words_path)[\"stopwords\"])\n",
    "\n",
    "# 기존 불용어에 사용자 정의 불용어 추가\n",
    "for word in custom_stop_words:\n",
    "    nlp.vocab[word].is_stop = True\n",
    "\n",
    "# 다시 모델 로드 (불용어가 추가된 상태)\n",
    "# nlp = spacy.load(\"en_core_web_sm\")"
   ]
  },
  {
   "cell_type": "code",
   "execution_count": 6,
   "metadata": {},
   "outputs": [],
   "source": [
    "# 데이터 불러오기\n",
    "df_jp = pd.read_excel(mcfg.jp_data_path)\n",
    "df_kr = pd.read_excel(mcfg.kr_data_path)"
   ]
  },
  {
   "cell_type": "code",
   "execution_count": 7,
   "metadata": {},
   "outputs": [
    {
     "data": {
      "text/plain": [
       "239"
      ]
     },
     "execution_count": 7,
     "metadata": {},
     "output_type": "execute_result"
    }
   ],
   "source": [
    "len(df_jp)"
   ]
  },
  {
   "cell_type": "code",
   "execution_count": 8,
   "metadata": {},
   "outputs": [
    {
     "data": {
      "text/plain": [
       "1237"
      ]
     },
     "execution_count": 8,
     "metadata": {},
     "output_type": "execute_result"
    }
   ],
   "source": [
    "len(df_kr)"
   ]
  },
  {
   "cell_type": "code",
   "execution_count": 9,
   "metadata": {},
   "outputs": [
    {
     "data": {
      "text/html": [
       "<div>\n",
       "<style scoped>\n",
       "    .dataframe tbody tr th:only-of-type {\n",
       "        vertical-align: middle;\n",
       "    }\n",
       "\n",
       "    .dataframe tbody tr th {\n",
       "        vertical-align: top;\n",
       "    }\n",
       "\n",
       "    .dataframe thead th {\n",
       "        text-align: right;\n",
       "    }\n",
       "</style>\n",
       "<table border=\"1\" class=\"dataframe\">\n",
       "  <thead>\n",
       "    <tr style=\"text-align: right;\">\n",
       "      <th></th>\n",
       "      <th>Title</th>\n",
       "      <th>Publised</th>\n",
       "      <th>Journal</th>\n",
       "      <th>Abstract</th>\n",
       "    </tr>\n",
       "  </thead>\n",
       "  <tbody>\n",
       "    <tr>\n",
       "      <th>0</th>\n",
       "      <td>生涯スポーツ「ミニテニス」の効用</td>\n",
       "      <td>2011</td>\n",
       "      <td>日本橋学館大学紀要</td>\n",
       "      <td>This study focuses on mini tennis a regional s...</td>\n",
       "    </tr>\n",
       "    <tr>\n",
       "      <th>1</th>\n",
       "      <td>転倒経験と生涯スポーツとの関係</td>\n",
       "      <td>2009</td>\n",
       "      <td>理学療法学Supplement</td>\n",
       "      <td>The purpose of this study is to investigate th...</td>\n",
       "    </tr>\n",
       "    <tr>\n",
       "      <th>2</th>\n",
       "      <td>生涯スポーツと高校体育</td>\n",
       "      <td>2016</td>\n",
       "      <td>日本体育学会大会予稿集</td>\n",
       "      <td>The theme of this study was made possible by c...</td>\n",
       "    </tr>\n",
       "    <tr>\n",
       "      <th>3</th>\n",
       "      <td>生涯スポーツ（論）と学校体育</td>\n",
       "      <td>2016</td>\n",
       "      <td>日本体育学会大会予稿集</td>\n",
       "      <td>The purpose of this two year symposium is to e...</td>\n",
       "    </tr>\n",
       "    <tr>\n",
       "      <th>4</th>\n",
       "      <td>生涯スポーツと運動部活動</td>\n",
       "      <td>2016</td>\n",
       "      <td>日本体育学会大会予稿集</td>\n",
       "      <td>Lifelong sports have conceptual dimensions tha...</td>\n",
       "    </tr>\n",
       "    <tr>\n",
       "      <th>...</th>\n",
       "      <td>...</td>\n",
       "      <td>...</td>\n",
       "      <td>...</td>\n",
       "      <td>...</td>\n",
       "    </tr>\n",
       "    <tr>\n",
       "      <th>234</th>\n",
       "      <td>ライフスタイル・アプローチによるスポーツニーズの発掘に関する研究</td>\n",
       "      <td>2012</td>\n",
       "      <td>生涯スポーツ学研究</td>\n",
       "      <td>The purpose of this study is to explore sports...</td>\n",
       "    </tr>\n",
       "    <tr>\n",
       "      <th>235</th>\n",
       "      <td>地域スポーツクラブにみる営利・非営利の法人選択の一考察(大会報告論文:異領域で対話可能なシス...</td>\n",
       "      <td>2008</td>\n",
       "      <td>社会・経済システム</td>\n",
       "      <td>The market of social human service has been co...</td>\n",
       "    </tr>\n",
       "    <tr>\n",
       "      <th>236</th>\n",
       "      <td>東日本大震災で被災したスポーツ集団の復興プロセス</td>\n",
       "      <td>2012</td>\n",
       "      <td>スポーツ社会学研究</td>\n",
       "      <td>The Great East Japan Earthquake had a signific...</td>\n",
       "    </tr>\n",
       "    <tr>\n",
       "      <th>237</th>\n",
       "      <td>スポーツ欲求から公共性へ</td>\n",
       "      <td>2011</td>\n",
       "      <td>スポーツ社会学研究</td>\n",
       "      <td>According to the Cabinet Office s New Public d...</td>\n",
       "    </tr>\n",
       "    <tr>\n",
       "      <th>238</th>\n",
       "      <td>災害時における地域リハビリテーションの役割</td>\n",
       "      <td>2019</td>\n",
       "      <td>理学療法学Supplement</td>\n",
       "      <td>On April the Kumamoto earthquake caused widesp...</td>\n",
       "    </tr>\n",
       "  </tbody>\n",
       "</table>\n",
       "<p>239 rows × 4 columns</p>\n",
       "</div>"
      ],
      "text/plain": [
       "                                                 Title  Publised  \\\n",
       "0                                     生涯スポーツ「ミニテニス」の効用      2011   \n",
       "1                                      転倒経験と生涯スポーツとの関係      2009   \n",
       "2                                          生涯スポーツと高校体育      2016   \n",
       "3                                       生涯スポーツ（論）と学校体育      2016   \n",
       "4                                         生涯スポーツと運動部活動      2016   \n",
       "..                                                 ...       ...   \n",
       "234                   ライフスタイル・アプローチによるスポーツニーズの発掘に関する研究      2012   \n",
       "235  地域スポーツクラブにみる営利・非営利の法人選択の一考察(大会報告論文:異領域で対話可能なシス...      2008   \n",
       "236                           東日本大震災で被災したスポーツ集団の復興プロセス      2012   \n",
       "237                                       スポーツ欲求から公共性へ      2011   \n",
       "238                              災害時における地域リハビリテーションの役割      2019   \n",
       "\n",
       "             Journal                                           Abstract  \n",
       "0          日本橋学館大学紀要  This study focuses on mini tennis a regional s...  \n",
       "1    理学療法学Supplement  The purpose of this study is to investigate th...  \n",
       "2        日本体育学会大会予稿集  The theme of this study was made possible by c...  \n",
       "3        日本体育学会大会予稿集  The purpose of this two year symposium is to e...  \n",
       "4        日本体育学会大会予稿集  Lifelong sports have conceptual dimensions tha...  \n",
       "..               ...                                                ...  \n",
       "234        生涯スポーツ学研究  The purpose of this study is to explore sports...  \n",
       "235        社会・経済システム  The market of social human service has been co...  \n",
       "236        スポーツ社会学研究  The Great East Japan Earthquake had a signific...  \n",
       "237        スポーツ社会学研究  According to the Cabinet Office s New Public d...  \n",
       "238  理学療法学Supplement  On April the Kumamoto earthquake caused widesp...  \n",
       "\n",
       "[239 rows x 4 columns]"
      ]
     },
     "execution_count": 9,
     "metadata": {},
     "output_type": "execute_result"
    }
   ],
   "source": [
    "df_jp"
   ]
  },
  {
   "cell_type": "code",
   "execution_count": 10,
   "metadata": {},
   "outputs": [
    {
     "data": {
      "text/plain": [
       "1476"
      ]
     },
     "execution_count": 10,
     "metadata": {},
     "output_type": "execute_result"
    }
   ],
   "source": [
    "# 데이터 concat\n",
    "df = pd.concat([df_jp,df_kr],ignore_index=True)\n",
    "len(df)"
   ]
  },
  {
   "cell_type": "code",
   "execution_count": 11,
   "metadata": {},
   "outputs": [
    {
     "data": {
      "text/plain": [
       "1476"
      ]
     },
     "execution_count": 11,
     "metadata": {},
     "output_type": "execute_result"
    }
   ],
   "source": [
    "# \"Abstract\" 만 따로 추출\n",
    "df_all = df.copy()\n",
    "df_all_abstract = pd.DataFrame(df_all[\"Abstract\"], columns=[\"Abstract\"])\n",
    "len(df_all_abstract)"
   ]
  },
  {
   "cell_type": "code",
   "execution_count": 12,
   "metadata": {},
   "outputs": [],
   "source": [
    "# 명사 추출 및 단.복수 통일 / 불용어 버리기\n",
    "def extract_nouns_and_lemmas(text):   \n",
    "    doc = nlp(text)\n",
    "    nouns_and_lemmas = []\n",
    "    \n",
    "    for token in doc:\n",
    "        if token.pos_ == 'NOUN':\n",
    "            token = token.lemma_\n",
    "            if nlp.vocab[token].is_stop == False:\n",
    "                if len(token) >= 3:\n",
    "                    nouns_and_lemmas.append(token)\n",
    "\n",
    "    return nouns_and_lemmas"
   ]
  },
  {
   "cell_type": "code",
   "execution_count": 13,
   "metadata": {},
   "outputs": [
    {
     "data": {
      "text/plain": [
       "1476"
      ]
     },
     "execution_count": 13,
     "metadata": {},
     "output_type": "execute_result"
    }
   ],
   "source": [
    "abstract_noun = []\n",
    "\n",
    "for text in df_all_abstract[\"Abstract\"]:\n",
    "    nouns = extract_nouns_and_lemmas(text)\n",
    "    abstract_noun.append(nouns)\n",
    "\n",
    "len(abstract_noun)"
   ]
  },
  {
   "cell_type": "code",
   "execution_count": 17,
   "metadata": {},
   "outputs": [],
   "source": [
    "df_all[\"Abstract_token\"] = abstract_noun"
   ]
  },
  {
   "cell_type": "code",
   "execution_count": 18,
   "metadata": {},
   "outputs": [],
   "source": [
    "# 빈도 저장\n",
    "df_all.to_excel(mcfg.all_data_path)"
   ]
  },
  {
   "cell_type": "markdown",
   "metadata": {},
   "source": [
    "## 단어 별 빈도 확인"
   ]
  },
  {
   "cell_type": "code",
   "execution_count": 31,
   "metadata": {},
   "outputs": [
    {
     "name": "stderr",
     "output_type": "stream",
     "text": [
      "c:\\Users\\user\\anaconda3\\envs\\PY39_\\lib\\site-packages\\sklearn\\feature_extraction\\text.py:525: UserWarning: The parameter 'token_pattern' will not be used since 'tokenizer' is not None'\n",
      "  warnings.warn(\n"
     ]
    }
   ],
   "source": [
    "# 추출 단어 확인(5개 이상)\n",
    "cv = CountVectorizer(tokenizer=extract_nouns_and_lemmas , min_df=5)\n",
    "dtm = cv.fit_transform(df_all[\"Abstract\"][239:])"
   ]
  },
  {
   "cell_type": "code",
   "execution_count": 32,
   "metadata": {},
   "outputs": [
    {
     "data": {
      "text/plain": [
       "array(['ability', 'absence', 'acceptance', 'access', 'accessibility',\n",
       "       'accident', 'accomplishment', 'accordance', 'achievement',\n",
       "       'acquisition', 'act', 'action', 'activation', 'activity',\n",
       "       'actualization', 'adaptation', 'addiction', 'addition',\n",
       "       'adherence', 'adjustment', 'administration', 'adolescent', 'adult',\n",
       "       'advertisement', 'advertising', 'advice', 'aerobics', 'affair',\n",
       "       'affect', 'affection', 'age', 'aging', 'ahp', 'aid', 'aim',\n",
       "       'alternative', 'anger', 'answer', 'anxiety', 'appearance',\n",
       "       'application', 'approach', 'appropriateness', 'area', 'art',\n",
       "       'article', 'aspect', 'assessment', 'assignment', 'assistance',\n",
       "       'assistant', 'association', 'assumption', 'athlete', 'athletic',\n",
       "       'atmosphere', 'attachment', 'attention', 'attitude', 'attribute',\n",
       "       'author', 'authority', 'autonomy', 'awareness', 'background',\n",
       "       'badminton', 'balance', 'ball', 'barrier', 'base', 'baseball',\n",
       "       'basis', 'basketball', 'behavior', 'belief', 'benefit', 'birth',\n",
       "       'blood', 'body', 'bowling', 'brain', 'brand', 'budget', 'building',\n",
       "       'burden', 'burnout', 'business', 'campaign', 'capability',\n",
       "       'capacity', 'capital', 'care', 'career', 'case', 'categorization',\n",
       "       'category', 'catharsis', 'cause', 'center', 'certification',\n",
       "       'challenge', 'chance', 'change', 'character', 'characteristic',\n",
       "       'charge', 'child', 'choice', 'chungcheongnam', 'circumstance',\n",
       "       'citizen', 'citizenship', 'city', 'class', 'classification',\n",
       "       'climate', 'club', 'cluster', 'coach', 'coaching', 'coefficient',\n",
       "       'cognition', 'colleague', 'collection', 'college', 'commitment',\n",
       "       'committee', 'communication', 'community', 'companion', 'company',\n",
       "       'comparison', 'compensation', 'competence', 'competency',\n",
       "       'competition', 'component', 'composition', 'computer',\n",
       "       'concentration', 'concept', 'concern', 'condition', 'conference',\n",
       "       'confidence', 'conflict', 'connection', 'consciousness',\n",
       "       'consideration', 'consist', 'consistency', 'constraint',\n",
       "       'construct', 'construction', 'consultation', 'consumer',\n",
       "       'consumption', 'content', 'context', 'continuance', 'continuation',\n",
       "       'continuity', 'contribution', 'control', 'convenience',\n",
       "       'cooperation', 'copy', 'core', 'cost', 'council', 'country',\n",
       "       'course', 'court', 'covid', 'creation', 'criterion', 'cronbach',\n",
       "       'cross', 'culture', 'curiosity', 'curriculum', 'customer', 'cycle',\n",
       "       'daejeon', 'dance', 'data', 'date', 'day', 'deal', 'death',\n",
       "       'decision', 'decrease', 'degree', 'demand', 'department',\n",
       "       'dependence', 'depression', 'depth', 'description', 'design',\n",
       "       'desire', 'detail', 'determinant', 'determination', 'development',\n",
       "       'deviation', 'device', 'diet', 'difference', 'difficulty',\n",
       "       'dimension', 'direction', 'director', 'disability', 'disabled',\n",
       "       'discipline', 'discrimination', 'discussion', 'disease', 'display',\n",
       "       'disposition', 'dissatisfaction', 'dissertation', 'distance',\n",
       "       'distancing', 'distinction', 'distribution', 'district',\n",
       "       'diversification', 'diversity', 'division', 'document', 'domain',\n",
       "       'dropout', 'duration', 'duty', 'economy', 'education',\n",
       "       'effectiveness', 'efficacy', 'efficiency', 'effort', 'elder',\n",
       "       'elderly', 'element', 'emotion', 'employee', 'employment',\n",
       "       'empowerment', 'encouragement', 'end', 'endurance', 'energy',\n",
       "       'engagement', 'enhancement', 'enjoyment', 'enthusiast', 'entry',\n",
       "       'environment', 'equation', 'equipment', 'era', 'essence',\n",
       "       'establishment', 'esteem', 'ethic', 'evaluation', 'event',\n",
       "       'examination', 'example', 'exchange', 'execution', 'exercise',\n",
       "       'existence', 'expansion', 'expectation', 'expenditure', 'expense',\n",
       "       'experience', 'expert', 'expertise', 'expression', 'extent',\n",
       "       'face', 'facility', 'family', 'feature', 'fee', 'feedback',\n",
       "       'feeling', 'female', 'festival', 'field', 'fifth', 'figure',\n",
       "       'finance', 'finding', 'fit', 'fitness', 'flexibility', 'flow',\n",
       "       'focus', 'follow', 'following', 'force', 'form', 'formation',\n",
       "       'foundation', 'framework', 'freedom', 'frequency', 'friend', 'fun',\n",
       "       'function', 'fund', 'future', 'game', 'gender', 'generation',\n",
       "       'goal', 'golf', 'good', 'goodness', 'governance', 'government',\n",
       "       'grade', 'graduate', 'grit', 'ground', 'group', 'growth',\n",
       "       'guidance', 'guideline', 'gun', 'gwangju', 'gyeonggi', 'gym',\n",
       "       'gymnasium', 'gymnastic', 'habit', 'hall', 'hand', 'happiness',\n",
       "       'harmony', 'health', 'help', 'hierarchy', 'hiking', 'history',\n",
       "       'home', 'hour', 'house', 'household', 'housewife', 'hypothesis',\n",
       "       'idea', 'identification', 'identity', 'image', 'immersion',\n",
       "       'impact', 'impairment', 'implementation', 'implication',\n",
       "       'importance', 'improvement', 'incheon', 'income', 'increase',\n",
       "       'indicator', 'individual', 'industrialization', 'industry',\n",
       "       'infant', 'information', 'infrastructure', 'injury', 'input',\n",
       "       'institute', 'institution', 'instruction', 'instructor',\n",
       "       'instrument', 'insurance', 'integration', 'intelligence',\n",
       "       'intensity', 'intention', 'interaction', 'interchange', 'interest',\n",
       "       'internet', 'intimacy', 'introduction', 'invariance', 'inventory',\n",
       "       'investigation', 'investment', 'involvement', 'issue', 'jeolla',\n",
       "       'job', 'judgment', 'kind', 'knowledge', 'kumdo', 'labor', 'lack',\n",
       "       'language', 'latent', 'law', 'leader', 'leadership', 'league',\n",
       "       'learning', 'leisure', 'length', 'lesson', 'level', 'life',\n",
       "       'lifestyle', 'lifetime', 'likert', 'limit', 'limitation', 'line',\n",
       "       'lisrel', 'literature', 'living', 'location', 'loss', 'lot',\n",
       "       'lover', 'loyalty', 'maintenance', 'making', 'male', 'man',\n",
       "       'management', 'manager', 'manner', 'market', 'marketing',\n",
       "       'marriage', 'mass', 'material', 'matter', 'mean', 'meaning',\n",
       "       'measure', 'measurement', 'mechanism', 'mediating', 'mediation',\n",
       "       'mediator', 'medium', 'meet', 'meeting', 'member', 'membership',\n",
       "       'methodology', 'middle', 'mind', 'mobility', 'money', 'month',\n",
       "       'motivation', 'motive', 'movement', 'nation', 'nature',\n",
       "       'necessity', 'need', 'network', 'non', 'norm', 'object',\n",
       "       'objective', 'observation', 'occupation', 'office', 'official',\n",
       "       'opening', 'openness', 'operating', 'operation', 'opinion',\n",
       "       'opportunity', 'optimism', 'order', 'organization', 'orientation',\n",
       "       'outcome', 'package', 'pain', 'panel', 'paradigm', 'parent',\n",
       "       'park', 'participant', 'participate', 'participation',\n",
       "       'participator', 'passion', 'pasw', 'pattern', 'peer', 'people',\n",
       "       'percentage', 'perception', 'perfectionism', 'performance',\n",
       "       'period', 'persistence', 'person', 'personality', 'personnel',\n",
       "       'perspective', 'phenomenon', 'pilot', 'place', 'placement', 'plan',\n",
       "       'planning', 'play', 'player', 'pleasure', 'point', 'policy',\n",
       "       'pool', 'popularity', 'population', 'position', 'possibility',\n",
       "       'post', 'power', 'practice', 'precedent', 'predictor',\n",
       "       'preference', 'preparation', 'presence', 'prevention', 'price',\n",
       "       'pride', 'principle', 'priority', 'probability', 'problem',\n",
       "       'procedure', 'process', 'processing', 'product', 'professionalism',\n",
       "       'professor', 'profit', 'program', 'progress', 'project',\n",
       "       'promotion', 'propensity', 'property', 'proportion', 'proposal',\n",
       "       'prospect', 'province', 'psychology', 'public', 'publicity',\n",
       "       'purchase', 'pursuit', 'quadrant', 'qualification', 'quality',\n",
       "       'question', 'questionarie', 'quota', 'range', 'rank', 'rate',\n",
       "       'rating', 'ratio', 'reality', 'realization', 'reason',\n",
       "       'recognition', 'recommendation', 'recreation', 'reference',\n",
       "       'regard', 'region', 'regulation', 'rehabilitation',\n",
       "       'reinforcement', 'relatedness', 'relation', 'relationship',\n",
       "       'relaxation', 'reliance', 'report', 'requirement', 'researcher',\n",
       "       'residence', 'resident', 'resilience', 'resource', 'respect',\n",
       "       'respondent', 'response', 'responsibility', 'rest', 'restriction',\n",
       "       'retirement', 'revision', 'revitalization', 'reward', 'right',\n",
       "       'risk', 'role', 'rule', 'safety', 'salary', 'sample', 'sas',\n",
       "       'satisfaction', 'school', 'science', 'scope', 'score', 'search',\n",
       "       'section', 'sector', 'security', 'seeking', 'selection', 'self',\n",
       "       'sem', 'senior', 'sensation', 'sense', 'sensitivity', 'sequence',\n",
       "       'series', 'service', 'session', 'set', 'sex', 'sheet',\n",
       "       'significance', 'sincerity', 'site', 'situation', 'size', 'skill',\n",
       "       'soccer', 'sociality', 'socialization', 'society', 'socio',\n",
       "       'sociology', 'software', 'solution', 'sort', 'source', 'space',\n",
       "       'specialist', 'specialization', 'spirit', 'sport', 'sporting',\n",
       "       'spot', 'spradley', 'spss', 'stability', 'stadium', 'staff',\n",
       "       'stage', 'standard', 'state', 'statement', 'statistic', 'status',\n",
       "       'step', 'strategy', 'strength', 'stress', 'structure', 'student',\n",
       "       'style', 'subscale', 'success', 'suggestion', 'summary', 'supply',\n",
       "       'support', 'susceptibility', 'swimming', 'symptom', 'syndrome',\n",
       "       'system', 'tabulation', 'taekwondo', 'target', 'task', 'tax',\n",
       "       'teacher', 'teaching', 'team', 'technique', 'tendency', 'tennis',\n",
       "       'tension', 'term', 'test', 'testing', 'theme', 'thesis', 'thing',\n",
       "       'thinking', 'thirty', 'time', 'tolerance', 'tool', 'topic',\n",
       "       'tourism', 'town', 'trainee', 'trainer', 'training', 'trait',\n",
       "       'transition', 'transportation', 'treatment', 'trend', 'trust',\n",
       "       'turnover', 'type', 'understanding', 'unit', 'unity', 'university',\n",
       "       'usage', 'use', 'user', 'utilization', 'value', 'variance',\n",
       "       'variety', 'ver', 'verification', 'view', 'viewpoint', 'vigor',\n",
       "       'violence', 'vision', 'vitality', 'volleyball', 'volunteer',\n",
       "       'waist', 'water', 'way', 'week', 'weekday', 'weight', 'welfare',\n",
       "       'wellbeing', 'wellness', 'willingness', 'win', 'window',\n",
       "       'withdrawal', 'woman', 'won', 'word', 'work', 'worker', 'working',\n",
       "       'workplace', 'world', 'year', 'yoga', 'youth'], dtype=object)"
      ]
     },
     "execution_count": 32,
     "metadata": {},
     "output_type": "execute_result"
    }
   ],
   "source": [
    "# 단어 목록\n",
    "cv.get_feature_names_out()"
   ]
  },
  {
   "cell_type": "code",
   "execution_count": 34,
   "metadata": {},
   "outputs": [],
   "source": [
    "# 단어 빈도 데이터 프레임\n",
    "word_count = pd.DataFrame({\n",
    "    'word': cv.get_feature_names_out(),\n",
    "    'count': dtm.sum(axis=0).flat\n",
    "})\n",
    "\n",
    "word_count_desc = word_count.sort_values('count', ascending=False)"
   ]
  },
  {
   "cell_type": "code",
   "execution_count": 35,
   "metadata": {},
   "outputs": [],
   "source": [
    "# 빈도 저장\n",
    "word_count_desc.to_excel(mcfg.freq_data_kr_path)"
   ]
  },
  {
   "cell_type": "code",
   "execution_count": 36,
   "metadata": {},
   "outputs": [],
   "source": [
    "# 데이터프레임을 튜플 리스트로 변환\n",
    "word_list = list(zip(word_count_desc['word'], word_count_desc['count']))"
   ]
  },
  {
   "cell_type": "code",
   "execution_count": 37,
   "metadata": {},
   "outputs": [],
   "source": [
    "# 토크나이징한 최종 토큰 수 산출\n",
    "all_words = []\n",
    "\n",
    "for row in df_all[\"Abstract_token\"][239:]:\n",
    "    all_words.extend(row)\n",
    "\n",
    "all_words_df = pd.DataFrame(all_words, columns=[\"words\"])"
   ]
  },
  {
   "cell_type": "code",
   "execution_count": 38,
   "metadata": {},
   "outputs": [],
   "source": [
    "# 모든 단어 저장(중복 허용_워드클라우드용)\n",
    "all_words_df.to_excel(mcfg.for_wc_kr_path)"
   ]
  },
  {
   "cell_type": "code",
   "execution_count": null,
   "metadata": {},
   "outputs": [],
   "source": []
  }
 ],
 "metadata": {
  "colab": {
   "provenance": []
  },
  "kernelspec": {
   "display_name": "Python 3 (ipykernel)",
   "language": "python",
   "name": "python3"
  },
  "language_info": {
   "codemirror_mode": {
    "name": "ipython",
    "version": 3
   },
   "file_extension": ".py",
   "mimetype": "text/x-python",
   "name": "python",
   "nbconvert_exporter": "python",
   "pygments_lexer": "ipython3",
   "version": "3.9.16"
  }
 },
 "nbformat": 4,
 "nbformat_minor": 1
}
