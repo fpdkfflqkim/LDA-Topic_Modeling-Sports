{
 "cells": [
  {
   "cell_type": "code",
   "execution_count": 72,
   "metadata": {},
   "outputs": [],
   "source": [
    "import pandas as pd\n",
    "import re"
   ]
  },
  {
   "cell_type": "markdown",
   "metadata": {},
   "source": [
    "# 0. 데이터 불러오기_v0"
   ]
  },
  {
   "cell_type": "code",
   "execution_count": 301,
   "metadata": {},
   "outputs": [],
   "source": [
    "df_jp_v0 = pd.read_excel(r'C:\\Users\\user\\Desktop\\토픽모델링_교수님\\Data\\DataFrame_JP_v0.xlsx')\n",
    "df_kr_v0 = pd.read_excel(r'C:\\Users\\user\\Desktop\\토픽모델링_교수님\\Data\\DataFrame_KR_v0.xlsx')"
   ]
  },
  {
   "cell_type": "markdown",
   "metadata": {},
   "source": [
    "# 1. jp 수정"
   ]
  },
  {
   "cell_type": "markdown",
   "metadata": {},
   "source": [
    "## 1-1 영문 초록 없는 것 제거"
   ]
  },
  {
   "cell_type": "code",
   "execution_count": 24,
   "metadata": {},
   "outputs": [
    {
     "data": {
      "text/plain": [
       "Index(['Title', 'Publised', 'Journal', 'Abstract'], dtype='object')"
      ]
     },
     "execution_count": 24,
     "metadata": {},
     "output_type": "execute_result"
    }
   ],
   "source": [
    "df_jp_v0.columns"
   ]
  },
  {
   "cell_type": "code",
   "execution_count": 22,
   "metadata": {},
   "outputs": [],
   "source": [
    "df_jp_v1 = df_jp_v0[df_jp_v0[\"Abstract\"].notna()]"
   ]
  },
  {
   "cell_type": "markdown",
   "metadata": {},
   "source": [
    "## 1-2 [in Japanese] View full abstract 제거"
   ]
  },
  {
   "cell_type": "code",
   "execution_count": 25,
   "metadata": {},
   "outputs": [],
   "source": [
    "df_jp_v2 = df_jp_v1[df_jp_v1['Abstract'] != '[in Japanese] View full abstract']"
   ]
  },
  {
   "cell_type": "markdown",
   "metadata": {},
   "source": [
    "## 1-3 [title in Japanese]제거_영어 제목이 없는 데이터"
   ]
  },
  {
   "cell_type": "code",
   "execution_count": 39,
   "metadata": {},
   "outputs": [],
   "source": [
    "df_jp_v3 = df_jp_v2[df_jp_v2[\"Abstract\"]!= '[title in Japanese]']"
   ]
  },
  {
   "cell_type": "code",
   "execution_count": 48,
   "metadata": {},
   "outputs": [],
   "source": [
    "# index 초기화\n",
    "df_jp_v3 = df_jp_v3.reset_index(drop=True)"
   ]
  },
  {
   "cell_type": "code",
   "execution_count": 59,
   "metadata": {},
   "outputs": [
    {
     "name": "stdout",
     "output_type": "stream",
     "text": [
      "Title       0\n",
      "Publised    0\n",
      "Journal     0\n",
      "Abstract    0\n",
      "dtype: int64\n",
      "Title       0\n",
      "Publised    0\n",
      "Journal     0\n",
      "Abstract    0\n",
      "dtype: int64\n"
     ]
    }
   ],
   "source": [
    "# null값 확인\n",
    "print(df_jp_v3.isna().sum())\n",
    "print(df_jp_v3.isnull().sum())"
   ]
  },
  {
   "cell_type": "markdown",
   "metadata": {},
   "source": [
    "## 1-5 엑셀로 저장"
   ]
  },
  {
   "cell_type": "code",
   "execution_count": 54,
   "metadata": {},
   "outputs": [],
   "source": [
    "df_jp_v3.to_excel(r\"C:\\Users\\user\\Desktop\\토픽모델링_교수님\\Data\\DataFrame_jp_v1.xlsx\", index=False)"
   ]
  },
  {
   "cell_type": "markdown",
   "metadata": {},
   "source": [
    "# 2. KR 수정"
   ]
  },
  {
   "cell_type": "markdown",
   "metadata": {},
   "source": [
    "## 2.1 영어 아닌 값 제거(journal)"
   ]
  },
  {
   "cell_type": "code",
   "execution_count": 303,
   "metadata": {},
   "outputs": [],
   "source": [
    "def remove_non_english(text):\n",
    "    return re.sub(r'[^a-zA-Z\\s]', '', text)"
   ]
  },
  {
   "cell_type": "code",
   "execution_count": 304,
   "metadata": {},
   "outputs": [],
   "source": [
    "df_kr_v0['Journal'] = df_kr_v0['Journal'].apply(remove_non_english)"
   ]
  },
  {
   "cell_type": "code",
   "execution_count": 305,
   "metadata": {},
   "outputs": [
    {
     "data": {
      "text/html": [
       "<div>\n",
       "<style scoped>\n",
       "    .dataframe tbody tr th:only-of-type {\n",
       "        vertical-align: middle;\n",
       "    }\n",
       "\n",
       "    .dataframe tbody tr th {\n",
       "        vertical-align: top;\n",
       "    }\n",
       "\n",
       "    .dataframe thead th {\n",
       "        text-align: right;\n",
       "    }\n",
       "</style>\n",
       "<table border=\"1\" class=\"dataframe\">\n",
       "  <thead>\n",
       "    <tr style=\"text-align: right;\">\n",
       "      <th></th>\n",
       "      <th>Title</th>\n",
       "      <th>Journal</th>\n",
       "      <th>Publised</th>\n",
       "      <th>Abstract</th>\n",
       "    </tr>\n",
       "  </thead>\n",
       "  <tbody>\n",
       "    <tr>\n",
       "      <th>0</th>\n",
       "      <td>지역사회 스포츠클럽 참가와 활동 몰입 및 주관적 안녕감의 관계 = The Relat...</td>\n",
       "      <td>Korean Society for the Sociology of Sport</td>\n",
       "      <td>2007</td>\n",
       "      <td>The Relationship between the Subjective Wellbe...</td>\n",
       "    </tr>\n",
       "    <tr>\n",
       "      <th>1</th>\n",
       "      <td>지역사회에서 스포츠클럽 활동과 사회적 자본 형성 = The Building of S...</td>\n",
       "      <td>Korean Society for the Sociology of Sport</td>\n",
       "      <td>2008</td>\n",
       "      <td>The purpose this study was to find out the bui...</td>\n",
       "    </tr>\n",
       "    <tr>\n",
       "      <th>2</th>\n",
       "      <td>지역스포츠클럽 선택속성이 만족과 지속의도에 미치는 영향</td>\n",
       "      <td>The Korean Journal of Sport</td>\n",
       "      <td>2018</td>\n",
       "      <td>This research aimed at investigating the relat...</td>\n",
       "    </tr>\n",
       "    <tr>\n",
       "      <th>3</th>\n",
       "      <td>지역스포츠클럽 정책 선정평가지표의 타당성에 근거한 비전과 과제 = Vision an...</td>\n",
       "      <td>Korean Society of Sport Policy</td>\n",
       "      <td>2017</td>\n",
       "      <td>The purpose of this study was to explore the v...</td>\n",
       "    </tr>\n",
       "    <tr>\n",
       "      <th>4</th>\n",
       "      <td>지역스포츠클럽 관련 정책갈등 현황분석 및 개선방안 = A study on polic...</td>\n",
       "      <td>Korean Society of Sport Policy</td>\n",
       "      <td>2018</td>\n",
       "      <td>The purpose of this study is to analyse presen...</td>\n",
       "    </tr>\n",
       "    <tr>\n",
       "      <th>...</th>\n",
       "      <td>...</td>\n",
       "      <td>...</td>\n",
       "      <td>...</td>\n",
       "      <td>...</td>\n",
       "    </tr>\n",
       "    <tr>\n",
       "      <th>487</th>\n",
       "      <td>치안드론 순찰대 조직 운영 방안에 관한 연구</td>\n",
       "      <td></td>\n",
       "      <td>2019</td>\n",
       "      <td>Operated on an unmanned control basis, drones ...</td>\n",
       "    </tr>\n",
       "    <tr>\n",
       "      <th>488</th>\n",
       "      <td>운동처방 전문인력의 양성과 배치 방안에 관한 연구 = A study on train...</td>\n",
       "      <td>Exercise science</td>\n",
       "      <td>1997</td>\n",
       "      <td>A study on training/certification program and ...</td>\n",
       "    </tr>\n",
       "    <tr>\n",
       "      <th>489</th>\n",
       "      <td>지속적인 운동참가가 경도인지장애에 미치는 영향</td>\n",
       "      <td>Korean society  for Wellness</td>\n",
       "      <td>2018</td>\n",
       "      <td>This study aims to examine the effects of cont...</td>\n",
       "    </tr>\n",
       "    <tr>\n",
       "      <th>490</th>\n",
       "      <td>사회체육 Program 모형 개발 = Development of Sport for ...</td>\n",
       "      <td>The Journal of Physical Education</td>\n",
       "      <td>1997</td>\n",
       "      <td>This study has compared and analyzed the prese...</td>\n",
       "    </tr>\n",
       "    <tr>\n",
       "      <th>491</th>\n",
       "      <td>국가대표 은퇴선수의 진로지원 방안 = A Study on Retirement Pre...</td>\n",
       "      <td>Korean Journal of Sport Science</td>\n",
       "      <td>2008</td>\n",
       "      <td>The purpose of this research is to acquire car...</td>\n",
       "    </tr>\n",
       "  </tbody>\n",
       "</table>\n",
       "<p>492 rows × 4 columns</p>\n",
       "</div>"
      ],
      "text/plain": [
       "                                                 Title  \\\n",
       "0    지역사회 스포츠클럽 참가와 활동 몰입 및 주관적 안녕감의 관계 = The Relat...   \n",
       "1    지역사회에서 스포츠클럽 활동과 사회적 자본 형성 = The Building of S...   \n",
       "2                       지역스포츠클럽 선택속성이 만족과 지속의도에 미치는 영향   \n",
       "3    지역스포츠클럽 정책 선정평가지표의 타당성에 근거한 비전과 과제 = Vision an...   \n",
       "4    지역스포츠클럽 관련 정책갈등 현황분석 및 개선방안 = A study on polic...   \n",
       "..                                                 ...   \n",
       "487                           치안드론 순찰대 조직 운영 방안에 관한 연구   \n",
       "488  운동처방 전문인력의 양성과 배치 방안에 관한 연구 = A study on train...   \n",
       "489                          지속적인 운동참가가 경도인지장애에 미치는 영향   \n",
       "490  사회체육 Program 모형 개발 = Development of Sport for ...   \n",
       "491  국가대표 은퇴선수의 진로지원 방안 = A Study on Retirement Pre...   \n",
       "\n",
       "                                       Journal  Publised  \\\n",
       "0    Korean Society for the Sociology of Sport      2007   \n",
       "1    Korean Society for the Sociology of Sport      2008   \n",
       "2                  The Korean Journal of Sport      2018   \n",
       "3               Korean Society of Sport Policy      2017   \n",
       "4               Korean Society of Sport Policy      2018   \n",
       "..                                         ...       ...   \n",
       "487                                                 2019   \n",
       "488                           Exercise science      1997   \n",
       "489               Korean society  for Wellness      2018   \n",
       "490          The Journal of Physical Education      1997   \n",
       "491            Korean Journal of Sport Science      2008   \n",
       "\n",
       "                                              Abstract  \n",
       "0    The Relationship between the Subjective Wellbe...  \n",
       "1    The purpose this study was to find out the bui...  \n",
       "2    This research aimed at investigating the relat...  \n",
       "3    The purpose of this study was to explore the v...  \n",
       "4    The purpose of this study is to analyse presen...  \n",
       "..                                                 ...  \n",
       "487  Operated on an unmanned control basis, drones ...  \n",
       "488  A study on training/certification program and ...  \n",
       "489  This study aims to examine the effects of cont...  \n",
       "490  This study has compared and analyzed the prese...  \n",
       "491  The purpose of this research is to acquire car...  \n",
       "\n",
       "[492 rows x 4 columns]"
      ]
     },
     "execution_count": 305,
     "metadata": {},
     "output_type": "execute_result"
    }
   ],
   "source": [
    "df_kr_v0"
   ]
  },
  {
   "cell_type": "markdown",
   "metadata": {},
   "source": [
    "## 2.1 영어 아닌 값 제거(Title)"
   ]
  },
  {
   "cell_type": "code",
   "execution_count": 306,
   "metadata": {},
   "outputs": [],
   "source": [
    "def process_title(title):\n",
    "    if '=' not in title:\n",
    "        return None\n",
    "    else:\n",
    "        split_result = title.split('=')\n",
    "        english_part = split_result[1].strip()\n",
    "        return english_part"
   ]
  },
  {
   "cell_type": "code",
   "execution_count": 307,
   "metadata": {},
   "outputs": [],
   "source": [
    "df_kr_v0['Title'] = df_kr_v0['Title'].apply(process_title)"
   ]
  },
  {
   "cell_type": "code",
   "execution_count": 308,
   "metadata": {},
   "outputs": [
    {
     "data": {
      "text/html": [
       "<div>\n",
       "<style scoped>\n",
       "    .dataframe tbody tr th:only-of-type {\n",
       "        vertical-align: middle;\n",
       "    }\n",
       "\n",
       "    .dataframe tbody tr th {\n",
       "        vertical-align: top;\n",
       "    }\n",
       "\n",
       "    .dataframe thead th {\n",
       "        text-align: right;\n",
       "    }\n",
       "</style>\n",
       "<table border=\"1\" class=\"dataframe\">\n",
       "  <thead>\n",
       "    <tr style=\"text-align: right;\">\n",
       "      <th></th>\n",
       "      <th>Title</th>\n",
       "      <th>Journal</th>\n",
       "      <th>Publised</th>\n",
       "      <th>Abstract</th>\n",
       "    </tr>\n",
       "  </thead>\n",
       "  <tbody>\n",
       "    <tr>\n",
       "      <th>0</th>\n",
       "      <td>The Relationship between the Subjective Wellbe...</td>\n",
       "      <td>Korean Society for the Sociology of Sport</td>\n",
       "      <td>2007</td>\n",
       "      <td>The Relationship between the Subjective Wellbe...</td>\n",
       "    </tr>\n",
       "    <tr>\n",
       "      <th>1</th>\n",
       "      <td>The Building of Social Capital and Sport Club ...</td>\n",
       "      <td>Korean Society for the Sociology of Sport</td>\n",
       "      <td>2008</td>\n",
       "      <td>The purpose this study was to find out the bui...</td>\n",
       "    </tr>\n",
       "    <tr>\n",
       "      <th>2</th>\n",
       "      <td>None</td>\n",
       "      <td>The Korean Journal of Sport</td>\n",
       "      <td>2018</td>\n",
       "      <td>This research aimed at investigating the relat...</td>\n",
       "    </tr>\n",
       "    <tr>\n",
       "      <th>3</th>\n",
       "      <td>Vision and Challenge based on the Validity of ...</td>\n",
       "      <td>Korean Society of Sport Policy</td>\n",
       "      <td>2017</td>\n",
       "      <td>The purpose of this study was to explore the v...</td>\n",
       "    </tr>\n",
       "    <tr>\n",
       "      <th>4</th>\n",
       "      <td>A study on policy conflict and improvement pla...</td>\n",
       "      <td>Korean Society of Sport Policy</td>\n",
       "      <td>2018</td>\n",
       "      <td>The purpose of this study is to analyse presen...</td>\n",
       "    </tr>\n",
       "    <tr>\n",
       "      <th>...</th>\n",
       "      <td>...</td>\n",
       "      <td>...</td>\n",
       "      <td>...</td>\n",
       "      <td>...</td>\n",
       "    </tr>\n",
       "    <tr>\n",
       "      <th>487</th>\n",
       "      <td>None</td>\n",
       "      <td></td>\n",
       "      <td>2019</td>\n",
       "      <td>Operated on an unmanned control basis, drones ...</td>\n",
       "    </tr>\n",
       "    <tr>\n",
       "      <th>488</th>\n",
       "      <td>A study on training certification program and ...</td>\n",
       "      <td>Exercise science</td>\n",
       "      <td>1997</td>\n",
       "      <td>A study on training/certification program and ...</td>\n",
       "    </tr>\n",
       "    <tr>\n",
       "      <th>489</th>\n",
       "      <td>None</td>\n",
       "      <td>Korean society  for Wellness</td>\n",
       "      <td>2018</td>\n",
       "      <td>This study aims to examine the effects of cont...</td>\n",
       "    </tr>\n",
       "    <tr>\n",
       "      <th>490</th>\n",
       "      <td>Development of Sport for All on the program model</td>\n",
       "      <td>The Journal of Physical Education</td>\n",
       "      <td>1997</td>\n",
       "      <td>This study has compared and analyzed the prese...</td>\n",
       "    </tr>\n",
       "    <tr>\n",
       "      <th>491</th>\n",
       "      <td>A Study on Retirement Preparation and Career S...</td>\n",
       "      <td>Korean Journal of Sport Science</td>\n",
       "      <td>2008</td>\n",
       "      <td>The purpose of this research is to acquire car...</td>\n",
       "    </tr>\n",
       "  </tbody>\n",
       "</table>\n",
       "<p>492 rows × 4 columns</p>\n",
       "</div>"
      ],
      "text/plain": [
       "                                                 Title  \\\n",
       "0    The Relationship between the Subjective Wellbe...   \n",
       "1    The Building of Social Capital and Sport Club ...   \n",
       "2                                                 None   \n",
       "3    Vision and Challenge based on the Validity of ...   \n",
       "4    A study on policy conflict and improvement pla...   \n",
       "..                                                 ...   \n",
       "487                                               None   \n",
       "488  A study on training certification program and ...   \n",
       "489                                               None   \n",
       "490  Development of Sport for All on the program model   \n",
       "491  A Study on Retirement Preparation and Career S...   \n",
       "\n",
       "                                       Journal  Publised  \\\n",
       "0    Korean Society for the Sociology of Sport      2007   \n",
       "1    Korean Society for the Sociology of Sport      2008   \n",
       "2                  The Korean Journal of Sport      2018   \n",
       "3               Korean Society of Sport Policy      2017   \n",
       "4               Korean Society of Sport Policy      2018   \n",
       "..                                         ...       ...   \n",
       "487                                                 2019   \n",
       "488                           Exercise science      1997   \n",
       "489               Korean society  for Wellness      2018   \n",
       "490          The Journal of Physical Education      1997   \n",
       "491            Korean Journal of Sport Science      2008   \n",
       "\n",
       "                                              Abstract  \n",
       "0    The Relationship between the Subjective Wellbe...  \n",
       "1    The purpose this study was to find out the bui...  \n",
       "2    This research aimed at investigating the relat...  \n",
       "3    The purpose of this study was to explore the v...  \n",
       "4    The purpose of this study is to analyse presen...  \n",
       "..                                                 ...  \n",
       "487  Operated on an unmanned control basis, drones ...  \n",
       "488  A study on training/certification program and ...  \n",
       "489  This study aims to examine the effects of cont...  \n",
       "490  This study has compared and analyzed the prese...  \n",
       "491  The purpose of this research is to acquire car...  \n",
       "\n",
       "[492 rows x 4 columns]"
      ]
     },
     "execution_count": 308,
     "metadata": {},
     "output_type": "execute_result"
    }
   ],
   "source": [
    "df_kr_v0"
   ]
  },
  {
   "cell_type": "markdown",
   "metadata": {},
   "source": [
    "## 2.2 null값 제거"
   ]
  },
  {
   "cell_type": "code",
   "execution_count": 309,
   "metadata": {},
   "outputs": [],
   "source": [
    "df_kr_v1 = df_kr_v0[df_kr_v0[\"Abstract\"].notna()]\n",
    "df_kr_v2 = df_kr_v1[df_kr_v1[\"Title\"].notna()]"
   ]
  },
  {
   "cell_type": "code",
   "execution_count": 310,
   "metadata": {},
   "outputs": [],
   "source": [
    "df_kr_v2 = df_kr_v1[df_kr_v1[\"Title\"].notna()]"
   ]
  },
  {
   "cell_type": "code",
   "execution_count": 311,
   "metadata": {},
   "outputs": [
    {
     "data": {
      "text/plain": [
       "Title       0\n",
       "Journal     0\n",
       "Publised    0\n",
       "Abstract    0\n",
       "dtype: int64"
      ]
     },
     "execution_count": 311,
     "metadata": {},
     "output_type": "execute_result"
    }
   ],
   "source": [
    "df_kr_v2.isnull().sum()"
   ]
  },
  {
   "cell_type": "code",
   "execution_count": 312,
   "metadata": {},
   "outputs": [],
   "source": [
    "# index 초기화\n",
    "df_kr_v3 = df_kr_v2.reset_index(drop=True)"
   ]
  },
  {
   "cell_type": "code",
   "execution_count": 313,
   "metadata": {},
   "outputs": [
    {
     "data": {
      "text/html": [
       "<div>\n",
       "<style scoped>\n",
       "    .dataframe tbody tr th:only-of-type {\n",
       "        vertical-align: middle;\n",
       "    }\n",
       "\n",
       "    .dataframe tbody tr th {\n",
       "        vertical-align: top;\n",
       "    }\n",
       "\n",
       "    .dataframe thead th {\n",
       "        text-align: right;\n",
       "    }\n",
       "</style>\n",
       "<table border=\"1\" class=\"dataframe\">\n",
       "  <thead>\n",
       "    <tr style=\"text-align: right;\">\n",
       "      <th></th>\n",
       "      <th>Title</th>\n",
       "      <th>Journal</th>\n",
       "      <th>Publised</th>\n",
       "      <th>Abstract</th>\n",
       "    </tr>\n",
       "  </thead>\n",
       "  <tbody>\n",
       "    <tr>\n",
       "      <th>0</th>\n",
       "      <td>The Relationship between the Subjective Wellbe...</td>\n",
       "      <td>Korean Society for the Sociology of Sport</td>\n",
       "      <td>2007</td>\n",
       "      <td>The Relationship between the Subjective Wellbe...</td>\n",
       "    </tr>\n",
       "    <tr>\n",
       "      <th>1</th>\n",
       "      <td>The Building of Social Capital and Sport Club ...</td>\n",
       "      <td>Korean Society for the Sociology of Sport</td>\n",
       "      <td>2008</td>\n",
       "      <td>The purpose this study was to find out the bui...</td>\n",
       "    </tr>\n",
       "    <tr>\n",
       "      <th>2</th>\n",
       "      <td>Vision and Challenge based on the Validity of ...</td>\n",
       "      <td>Korean Society of Sport Policy</td>\n",
       "      <td>2017</td>\n",
       "      <td>The purpose of this study was to explore the v...</td>\n",
       "    </tr>\n",
       "    <tr>\n",
       "      <th>3</th>\n",
       "      <td>A study on policy conflict and improvement pla...</td>\n",
       "      <td>Korean Society of Sport Policy</td>\n",
       "      <td>2018</td>\n",
       "      <td>The purpose of this study is to analyse presen...</td>\n",
       "    </tr>\n",
       "    <tr>\n",
       "      <th>4</th>\n",
       "      <td>Autoethnography on Physical Education Teacher’...</td>\n",
       "      <td>The Korean Society of Sports Science</td>\n",
       "      <td>2016</td>\n",
       "      <td>This study has the objective of retrospectivel...</td>\n",
       "    </tr>\n",
       "    <tr>\n",
       "      <th>...</th>\n",
       "      <td>...</td>\n",
       "      <td>...</td>\n",
       "      <td>...</td>\n",
       "      <td>...</td>\n",
       "    </tr>\n",
       "    <tr>\n",
       "      <th>330</th>\n",
       "      <td>The Busan Metropolitan City Sports Facility 50...</td>\n",
       "      <td>NA</td>\n",
       "      <td>2015</td>\n",
       "      <td>This article analyzed the course of 50 Years B...</td>\n",
       "    </tr>\n",
       "    <tr>\n",
       "      <th>331</th>\n",
       "      <td>Analysis on the trend and some leading cases o...</td>\n",
       "      <td>Studies on Public Administration Cases</td>\n",
       "      <td>2014</td>\n",
       "      <td>The french administrative justice system ensur...</td>\n",
       "    </tr>\n",
       "    <tr>\n",
       "      <th>332</th>\n",
       "      <td>A study on training certification program and ...</td>\n",
       "      <td>Exercise science</td>\n",
       "      <td>1997</td>\n",
       "      <td>A study on training/certification program and ...</td>\n",
       "    </tr>\n",
       "    <tr>\n",
       "      <th>333</th>\n",
       "      <td>Development of Sport for All on the program model</td>\n",
       "      <td>The Journal of Physical Education</td>\n",
       "      <td>1997</td>\n",
       "      <td>This study has compared and analyzed the prese...</td>\n",
       "    </tr>\n",
       "    <tr>\n",
       "      <th>334</th>\n",
       "      <td>A Study on Retirement Preparation and Career S...</td>\n",
       "      <td>Korean Journal of Sport Science</td>\n",
       "      <td>2008</td>\n",
       "      <td>The purpose of this research is to acquire car...</td>\n",
       "    </tr>\n",
       "  </tbody>\n",
       "</table>\n",
       "<p>335 rows × 4 columns</p>\n",
       "</div>"
      ],
      "text/plain": [
       "                                                 Title  \\\n",
       "0    The Relationship between the Subjective Wellbe...   \n",
       "1    The Building of Social Capital and Sport Club ...   \n",
       "2    Vision and Challenge based on the Validity of ...   \n",
       "3    A study on policy conflict and improvement pla...   \n",
       "4    Autoethnography on Physical Education Teacher’...   \n",
       "..                                                 ...   \n",
       "330  The Busan Metropolitan City Sports Facility 50...   \n",
       "331  Analysis on the trend and some leading cases o...   \n",
       "332  A study on training certification program and ...   \n",
       "333  Development of Sport for All on the program model   \n",
       "334  A Study on Retirement Preparation and Career S...   \n",
       "\n",
       "                                       Journal  Publised  \\\n",
       "0    Korean Society for the Sociology of Sport      2007   \n",
       "1    Korean Society for the Sociology of Sport      2008   \n",
       "2               Korean Society of Sport Policy      2017   \n",
       "3               Korean Society of Sport Policy      2018   \n",
       "4         The Korean Society of Sports Science      2016   \n",
       "..                                         ...       ...   \n",
       "330                                         NA      2015   \n",
       "331     Studies on Public Administration Cases      2014   \n",
       "332                           Exercise science      1997   \n",
       "333          The Journal of Physical Education      1997   \n",
       "334            Korean Journal of Sport Science      2008   \n",
       "\n",
       "                                              Abstract  \n",
       "0    The Relationship between the Subjective Wellbe...  \n",
       "1    The purpose this study was to find out the bui...  \n",
       "2    The purpose of this study was to explore the v...  \n",
       "3    The purpose of this study is to analyse presen...  \n",
       "4    This study has the objective of retrospectivel...  \n",
       "..                                                 ...  \n",
       "330  This article analyzed the course of 50 Years B...  \n",
       "331  The french administrative justice system ensur...  \n",
       "332  A study on training/certification program and ...  \n",
       "333  This study has compared and analyzed the prese...  \n",
       "334  The purpose of this research is to acquire car...  \n",
       "\n",
       "[335 rows x 4 columns]"
      ]
     },
     "execution_count": 313,
     "metadata": {},
     "output_type": "execute_result"
    }
   ],
   "source": [
    "df_kr_v3"
   ]
  },
  {
   "cell_type": "code",
   "execution_count": 316,
   "metadata": {},
   "outputs": [
    {
     "data": {
      "text/plain": [
       "False"
      ]
     },
     "execution_count": 316,
     "metadata": {},
     "output_type": "execute_result"
    }
   ],
   "source": [
    "df_kr_v3.duplicated().all()"
   ]
  },
  {
   "cell_type": "code",
   "execution_count": 314,
   "metadata": {},
   "outputs": [],
   "source": [
    "df_kr_v3.to_excel(r\"C:\\Users\\user\\Desktop\\토픽모델링_교수님\\Data\\DataFrame_kr_v1.xlsx\", index=False)"
   ]
  },
  {
   "cell_type": "code",
   "execution_count": 315,
   "metadata": {},
   "outputs": [
    {
     "data": {
      "text/plain": [
       "False"
      ]
     },
     "execution_count": 315,
     "metadata": {},
     "output_type": "execute_result"
    }
   ],
   "source": []
  },
  {
   "cell_type": "code",
   "execution_count": null,
   "metadata": {},
   "outputs": [],
   "source": []
  }
 ],
 "metadata": {
  "kernelspec": {
   "display_name": "PY39_",
   "language": "python",
   "name": "python3"
  },
  "language_info": {
   "codemirror_mode": {
    "name": "ipython",
    "version": 3
   },
   "file_extension": ".py",
   "mimetype": "text/x-python",
   "name": "python",
   "nbconvert_exporter": "python",
   "pygments_lexer": "ipython3",
   "version": "3.9.16"
  }
 },
 "nbformat": 4,
 "nbformat_minor": 2
}
