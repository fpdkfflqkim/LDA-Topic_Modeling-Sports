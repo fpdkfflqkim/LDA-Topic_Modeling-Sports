{
 "cells": [
  {
   "cell_type": "code",
   "execution_count": 24,
   "metadata": {},
   "outputs": [],
   "source": [
    "import pandas as pd\n",
    "import re"
   ]
  },
  {
   "cell_type": "markdown",
   "metadata": {},
   "source": [
    "# 0. 데이터 불러오기_v0"
   ]
  },
  {
   "cell_type": "code",
   "execution_count": 25,
   "metadata": {},
   "outputs": [],
   "source": [
    "df_jp_v0 = pd.read_excel(r'C:\\Users\\user\\Desktop\\토픽모델링_교수님\\Data\\DataFrame_JP_v0.xlsx')\n",
    "df_kr_v0 = pd.read_excel(r'C:\\Users\\user\\Desktop\\토픽모델링_교수님\\Data\\DataFrame_KR_v0.xlsx')"
   ]
  },
  {
   "cell_type": "code",
   "execution_count": 26,
   "metadata": {},
   "outputs": [
    {
     "data": {
      "text/plain": [
       "'[in Japanese] View full abstract'"
      ]
     },
     "execution_count": 26,
     "metadata": {},
     "output_type": "execute_result"
    }
   ],
   "source": [
    "df_jp_v0['Abstract'][248]"
   ]
  },
  {
   "cell_type": "code",
   "execution_count": 27,
   "metadata": {},
   "outputs": [],
   "source": [
    "df_jp_v0['Abstract'] = df_jp_v0['Abstract'].str.replace('[in Japanese] View full abstract', \"\", case=False)"
   ]
  },
  {
   "cell_type": "code",
   "execution_count": 31,
   "metadata": {},
   "outputs": [],
   "source": [
    "df_jp_v0 = df_jp_v0.dropna(subset=['Abstract'])\n",
    "df_kr_v0 = df_kr_v0.dropna(subset=['Abstract'])"
   ]
  },
  {
   "cell_type": "code",
   "execution_count": 32,
   "metadata": {},
   "outputs": [],
   "source": [
    "def clean_text(input_text):\n",
    "    if pd.isna(input_text):  # NaN 값 체크\n",
    "        return input_text \n",
    "    \n",
    "    else:\n",
    "        # 정규식을 사용하여 영문자와 공백만 남기고 나머지는 제거\n",
    "        cleaned_text = re.sub(r'[^a-zA-Z\\s]', ' ', input_text)\n",
    "        cleaned_text = cleaned_text.strip()\n",
    "        cleaned_text = re.sub(r'\\s+', ' ', cleaned_text)\n",
    "        cleaned_text = cleaned_text.strip()\n",
    "        return cleaned_text"
   ]
  },
  {
   "cell_type": "code",
   "execution_count": 33,
   "metadata": {},
   "outputs": [],
   "source": [
    "df_kr_v0['Title'] = df_kr_v0['Title'].apply(clean_text)\n",
    "df_jp_v0['Title'] = df_jp_v0['Title'].apply(clean_text)\n",
    "df_kr_v0['Journal'] = df_kr_v0['Journal'].apply(clean_text)\n",
    "df_jp_v0['Journal'] = df_jp_v0['Journal'].apply(clean_text)\n",
    "df_kr_v0['Abstract'] = df_kr_v0['Abstract'].apply(clean_text)\n",
    "df_jp_v0['Abstract'] = df_jp_v0['Abstract'].apply(clean_text)"
   ]
  },
  {
   "cell_type": "code",
   "execution_count": 35,
   "metadata": {},
   "outputs": [],
   "source": [
    "# df_kr_v0 = df_kr_v0.dropna(subset=['Journal'])\n",
    "# df_kr_v0 = df_kr_v0.dropna(subset=['Journal'])\n",
    "df_jp_v1 = df_jp_v0.dropna(subset=['Abstract'])\n",
    "df_kr_v1 = df_kr_v0.dropna(subset=['Abstract'])"
   ]
  },
  {
   "cell_type": "code",
   "execution_count": 36,
   "metadata": {},
   "outputs": [],
   "source": [
    "df_jp_v2 = df_jp_v1[df_jp_v1['Abstract'].apply(len) >= 1]\n",
    "df_kr_v2 = df_kr_v1[df_kr_v1['Abstract'].apply(len) >= 1]"
   ]
  },
  {
   "cell_type": "code",
   "execution_count": 37,
   "metadata": {},
   "outputs": [],
   "source": [
    "# index 초기화\n",
    "df_jp_v3 = df_jp_v2.reset_index(drop=True)\n",
    "df_kr_v3 = df_kr_v2.reset_index(drop=True)"
   ]
  },
  {
   "cell_type": "markdown",
   "metadata": {},
   "source": [
    "## 1-5 엑셀로 저장"
   ]
  },
  {
   "cell_type": "code",
   "execution_count": 39,
   "metadata": {},
   "outputs": [],
   "source": [
    "df_jp_v3.to_excel(r\"C:\\Users\\user\\Desktop\\토픽모델링_교수님\\Data\\DataFrame_jp_v2.xlsx\", index=False)\n",
    "df_kr_v3.to_excel(r\"C:\\Users\\user\\Desktop\\토픽모델링_교수님\\Data\\DataFrame_kr_v2.xlsx\", index=False)"
   ]
  },
  {
   "cell_type": "code",
   "execution_count": null,
   "metadata": {},
   "outputs": [],
   "source": []
  }
 ],
 "metadata": {
  "kernelspec": {
   "display_name": "PY39_",
   "language": "python",
   "name": "python3"
  },
  "language_info": {
   "codemirror_mode": {
    "name": "ipython",
    "version": 3
   },
   "file_extension": ".py",
   "mimetype": "text/x-python",
   "name": "python",
   "nbconvert_exporter": "python",
   "pygments_lexer": "ipython3",
   "version": "3.9.16"
  }
 },
 "nbformat": 4,
 "nbformat_minor": 2
}
