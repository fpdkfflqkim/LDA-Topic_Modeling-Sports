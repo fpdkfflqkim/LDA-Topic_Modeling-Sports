{
 "cells": [
  {
   "cell_type": "code",
   "execution_count": 8,
   "metadata": {},
   "outputs": [],
   "source": [
    "from selenium import webdriver\n",
    "from selenium.webdriver.chrome.service import Service as ChromeService\n",
    "from selenium.webdriver.chrome.options import Options as ChromeOptions\n",
    "from webdriver_manager.chrome import ChromeDriverManager\n",
    "from selenium.webdriver.common.by import By\n",
    "from selenium.webdriver.common.keys import Keys\n",
    "from bs4 import BeautifulSoup\n",
    "import time"
   ]
  },
  {
   "cell_type": "code",
   "execution_count": 9,
   "metadata": {},
   "outputs": [],
   "source": [
    "import pandas as pd"
   ]
  },
  {
   "cell_type": "code",
   "execution_count": 10,
   "metadata": {},
   "outputs": [],
   "source": [
    "options = ChromeOptions()\n",
    "service = ChromeService(executable_path=ChromeDriverManager().install())"
   ]
  },
  {
   "cell_type": "code",
   "execution_count": 11,
   "metadata": {},
   "outputs": [],
   "source": [
    "browser = webdriver.Chrome(service=service, options=options)\n",
    "\n",
    "browser.get(\"https://www.jstage.jst.go.jp/browse/-char/ja\")\n",
    "browser.implicitly_wait(10)\n",
    "\n",
    "# 영어로 변환\n",
    "language = browser.find_element(By.XPATH, '/html/body/span[1]/header/nav/div/div[3]/ul/li[4]/a')\n",
    "language.click()\n",
    "time.sleep(1)\n",
    "\n",
    "eng = browser.find_element(By.XPATH, '/html/body/span[1]/header/nav/div/div[3]/ul/li[4]/ul/li[2]/a')\n",
    "eng.click()\n",
    "time.sleep(1)\n",
    "\n",
    "serch = browser.find_element(By.CSS_SELECTOR, 'input.hm-search-input')\n",
    "serch.click()\n",
    "time.sleep(2)\n",
    "\n",
    "serch.send_keys(\"地域スポーツクラブ\")\n",
    "serch.send_keys(Keys.ENTER)\n",
    "time.sleep(2)\n",
    "\n",
    "check_box = browser.find_element(By.CSS_SELECTOR, 'label[for=\"srySybt1\"].checkbox')\n",
    "check_box.click()\n",
    "time.sleep(2)\n",
    "\n",
    "\n",
    "\n",
    "total_title = []\n",
    "total_date = []\n",
    "total_journal = []\n",
    "total_abstract = []\n",
    "\n",
    "for _ in range(25):\n",
    "    hiddens_1 = browser.find_elements(By.CSS_SELECTOR, \"span.show_abstract\")\n",
    "    hiddens_2 = browser.find_elements(By.CSS_SELECTOR, \"div.print-non-disp\")[4:-3]\n",
    "\n",
    "    for i in range(len(hiddens_1)):\n",
    "        hiddens_1[i].click()\n",
    "        time.sleep(1)\n",
    "        hiddens_2[i].click()\n",
    "        time.sleep(1)\n",
    "        \n",
    "    time.sleep(2)   \n",
    "\n",
    "\n",
    "    search_results_wrap = browser.find_element(By.ID, \"search-resultslist-wrap\")\n",
    "\n",
    "    for i in range(len(search_results_wrap.find_elements(By.TAG_NAME, \"li\"))):\n",
    "        li_tag = search_results_wrap.find_elements(By.TAG_NAME, \"li\")[i]\n",
    "        # 제목\n",
    "        try:\n",
    "            title = li_tag.find_element(By.CLASS_NAME, \"searchlist-title\").text.strip()\n",
    "        except:\n",
    "            title = None\n",
    "        \n",
    "        total_title.append(title)\n",
    "        \n",
    "        # 저널명\n",
    "        try:\n",
    "            journal = li_tag.find_element(By.CLASS_NAME, \"searchlist-additional-info\").find_element(By.TAG_NAME, \"a\").text.strip()\n",
    "        except:\n",
    "            title = None\n",
    "        \n",
    "        total_journal.append(journal)\n",
    "\n",
    "        # 날짜\n",
    "        try:\n",
    "            date = li_tag.find_element(By.CLASS_NAME, \"searchlist-additional-info\")\n",
    "            date = date.get_attribute(\"outerHTML\")\n",
    "            soup = BeautifulSoup(date, \"html.parser\")\n",
    "            date_text = soup.get_text(separator=\"/n\", strip=True)\n",
    "            date_lines = date_text.split(\"/n\")\n",
    "            date = date_lines[2].strip()[-4:]\n",
    "        except:\n",
    "            date = None\n",
    "        \n",
    "        total_date.append(date) \n",
    "\n",
    "        # 초록\n",
    "        try:\n",
    "            # abstract = li_tag.find_element(By.TAG_NAME, \"inner-content abstract datapanel_opend\").text.strip()\n",
    "            abstract = li_tag.find_element(By.CLASS_NAME, \"inner-content.abstract.datapanel_opend\")\n",
    "\n",
    "            # 찾은 요소의 HTML 코드 가져오기\n",
    "            abstract = abstract.get_attribute(\"outerHTML\")\n",
    "\n",
    "            # BeautifulSoup을 사용하여 HTML 파싱\n",
    "            soup = BeautifulSoup(abstract, \"html.parser\")\n",
    "\n",
    "            # 텍스트 추출\n",
    "            abstract = soup.get_text(separator=\" \", strip=True)\n",
    "        except:\n",
    "            abstract = None\n",
    "            \n",
    "        total_abstract.append(abstract) \n",
    "        \n",
    "        \n",
    "    # 페이징 버튼\n",
    "    page = browser.find_elements(By.CSS_SELECTOR, 'a.defaultstyle')\n",
    "    page[-2].click()\n",
    "    time.sleep(2)"
   ]
  },
  {
   "cell_type": "code",
   "execution_count": 12,
   "metadata": {},
   "outputs": [
    {
     "name": "stdout",
     "output_type": "stream",
     "text": [
      "488\n",
      "488\n",
      "488\n",
      "488\n"
     ]
    }
   ],
   "source": [
    "print(len(total_title))\n",
    "print(len(total_date))\n",
    "print(len(total_journal))\n",
    "print(len(total_abstract))"
   ]
  },
  {
   "cell_type": "code",
   "execution_count": 13,
   "metadata": {},
   "outputs": [],
   "source": [
    "df = pd.DataFrame({\"Title\":total_title, \"Publised\":total_date, \"Journal\":total_journal, \"Abstract\":total_abstract})"
   ]
  },
  {
   "cell_type": "code",
   "execution_count": 14,
   "metadata": {},
   "outputs": [],
   "source": [
    "df.to_excel(\"DataFrame_JP.xlsx\", index=False)"
   ]
  },
  {
   "cell_type": "code",
   "execution_count": null,
   "metadata": {},
   "outputs": [],
   "source": []
  }
 ],
 "metadata": {
  "kernelspec": {
   "display_name": "PY39_",
   "language": "python",
   "name": "python3"
  },
  "language_info": {
   "codemirror_mode": {
    "name": "ipython",
    "version": 3
   },
   "file_extension": ".py",
   "mimetype": "text/x-python",
   "name": "python",
   "nbconvert_exporter": "python",
   "pygments_lexer": "ipython3",
   "version": "3.9.16"
  }
 },
 "nbformat": 4,
 "nbformat_minor": 2
}
