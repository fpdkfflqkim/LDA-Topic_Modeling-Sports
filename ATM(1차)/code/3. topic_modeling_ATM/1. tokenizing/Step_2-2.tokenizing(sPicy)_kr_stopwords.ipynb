{
 "cells": [
  {
   "cell_type": "code",
   "execution_count": 1,
   "metadata": {},
   "outputs": [],
   "source": [
    "# 라이브러리 불러오기\n",
    "import spacy\n",
    "import pandas as pd\n",
    "import re\n",
    "from spacy.lang.en import STOP_WORDS\n",
    "import matplotlib.pyplot as plt"
   ]
  },
  {
   "cell_type": "code",
   "execution_count": 2,
   "metadata": {},
   "outputs": [],
   "source": [
    "# 토크나이저 정의\n",
    "nlp = spacy.load('en_core_web_sm')"
   ]
  },
  {
   "cell_type": "code",
   "execution_count": 3,
   "metadata": {},
   "outputs": [],
   "source": [
    "# 불용어에 추가할 단어\n",
    "custom_stop_words = [\"sports\", \"purpose\", \"sport\", \"http\", \"club\", \"clubs\", \"study\", \"results\"]\n",
    "\n",
    "# 기존 불용어에 사용자 정의 불용어 추가\n",
    "for word in custom_stop_words:\n",
    "    STOP_WORDS.add(word)\n",
    "\n",
    "# 다시 모델 로드 (불용어가 추가된 상태)\n",
    "nlp = spacy.load(\"en_core_web_sm\")"
   ]
  },
  {
   "cell_type": "code",
   "execution_count": 4,
   "metadata": {},
   "outputs": [],
   "source": [
    "# 데이터 불러오기\n",
    "df_kr = pd.read_excel(r\"C:\\Users\\user\\Desktop\\토픽모델링_교수님\\Data\\DataFrame_kr_v1.xlsx\")"
   ]
  },
  {
   "cell_type": "code",
   "execution_count": 5,
   "metadata": {},
   "outputs": [
    {
     "data": {
      "text/plain": [
       "312"
      ]
     },
     "execution_count": 5,
     "metadata": {},
     "output_type": "execute_result"
    }
   ],
   "source": [
    "# 데이터 concat\n",
    "df = df_kr.copy()\n",
    "len(df)"
   ]
  },
  {
   "cell_type": "code",
   "execution_count": 6,
   "metadata": {},
   "outputs": [
    {
     "data": {
      "text/plain": [
       "312"
      ]
     },
     "execution_count": 6,
     "metadata": {},
     "output_type": "execute_result"
    }
   ],
   "source": [
    "# \"Abstract\" 만 따로 추출\n",
    "df_all = df.copy()\n",
    "df_all_abstract = pd.DataFrame(df_all[\"Abstract\"], columns=[\"Abstract\"])\n",
    "len(df_all_abstract)"
   ]
  },
  {
   "cell_type": "code",
   "execution_count": 7,
   "metadata": {},
   "outputs": [],
   "source": [
    "# 특수문자 제거 함수\n",
    "def remove_special_chars(text):\n",
    "    # 정규표현식을 사용하여 특수문자와 제어문자 제거\n",
    "    cleaned_text = re.sub(r'[^a-zA-Z가-힣\\s]', ' ', text)\n",
    "    return cleaned_text"
   ]
  },
  {
   "cell_type": "code",
   "execution_count": 8,
   "metadata": {},
   "outputs": [
    {
     "data": {
      "text/html": [
       "<div>\n",
       "<style scoped>\n",
       "    .dataframe tbody tr th:only-of-type {\n",
       "        vertical-align: middle;\n",
       "    }\n",
       "\n",
       "    .dataframe tbody tr th {\n",
       "        vertical-align: top;\n",
       "    }\n",
       "\n",
       "    .dataframe thead th {\n",
       "        text-align: right;\n",
       "    }\n",
       "</style>\n",
       "<table border=\"1\" class=\"dataframe\">\n",
       "  <thead>\n",
       "    <tr style=\"text-align: right;\">\n",
       "      <th></th>\n",
       "      <th>Abstract</th>\n",
       "      <th>Cleaned_Abstract</th>\n",
       "    </tr>\n",
       "  </thead>\n",
       "  <tbody>\n",
       "    <tr>\n",
       "      <th>0</th>\n",
       "      <td>The Relationship between the Subjective Wellbe...</td>\n",
       "      <td>The Relationship between the Subjective Wellbe...</td>\n",
       "    </tr>\n",
       "    <tr>\n",
       "      <th>1</th>\n",
       "      <td>The purpose this study was to find out the bui...</td>\n",
       "      <td>The purpose this study was to find out the bui...</td>\n",
       "    </tr>\n",
       "    <tr>\n",
       "      <th>2</th>\n",
       "      <td>The purpose of this study was to explore the v...</td>\n",
       "      <td>The purpose of this study was to explore the v...</td>\n",
       "    </tr>\n",
       "    <tr>\n",
       "      <th>3</th>\n",
       "      <td>The purpose of this study is to analyse presen...</td>\n",
       "      <td>The purpose of this study is to analyse presen...</td>\n",
       "    </tr>\n",
       "    <tr>\n",
       "      <th>4</th>\n",
       "      <td>This study has the objective of retrospectivel...</td>\n",
       "      <td>This study has the objective of retrospectivel...</td>\n",
       "    </tr>\n",
       "    <tr>\n",
       "      <th>...</th>\n",
       "      <td>...</td>\n",
       "      <td>...</td>\n",
       "    </tr>\n",
       "    <tr>\n",
       "      <th>307</th>\n",
       "      <td>Pupose : The purpose of this study was to exam...</td>\n",
       "      <td>Pupose   The purpose of this study was to exam...</td>\n",
       "    </tr>\n",
       "    <tr>\n",
       "      <th>308</th>\n",
       "      <td>The french administrative justice system ensur...</td>\n",
       "      <td>The french administrative justice system ensur...</td>\n",
       "    </tr>\n",
       "    <tr>\n",
       "      <th>309</th>\n",
       "      <td>A study on training/certification program and ...</td>\n",
       "      <td>A study on training certification program and ...</td>\n",
       "    </tr>\n",
       "    <tr>\n",
       "      <th>310</th>\n",
       "      <td>This study has compared and analyzed the prese...</td>\n",
       "      <td>This study has compared and analyzed the prese...</td>\n",
       "    </tr>\n",
       "    <tr>\n",
       "      <th>311</th>\n",
       "      <td>The purpose of this research is to acquire car...</td>\n",
       "      <td>The purpose of this research is to acquire car...</td>\n",
       "    </tr>\n",
       "  </tbody>\n",
       "</table>\n",
       "<p>312 rows × 2 columns</p>\n",
       "</div>"
      ],
      "text/plain": [
       "                                              Abstract  \\\n",
       "0    The Relationship between the Subjective Wellbe...   \n",
       "1    The purpose this study was to find out the bui...   \n",
       "2    The purpose of this study was to explore the v...   \n",
       "3    The purpose of this study is to analyse presen...   \n",
       "4    This study has the objective of retrospectivel...   \n",
       "..                                                 ...   \n",
       "307  Pupose : The purpose of this study was to exam...   \n",
       "308  The french administrative justice system ensur...   \n",
       "309  A study on training/certification program and ...   \n",
       "310  This study has compared and analyzed the prese...   \n",
       "311  The purpose of this research is to acquire car...   \n",
       "\n",
       "                                      Cleaned_Abstract  \n",
       "0    The Relationship between the Subjective Wellbe...  \n",
       "1    The purpose this study was to find out the bui...  \n",
       "2    The purpose of this study was to explore the v...  \n",
       "3    The purpose of this study is to analyse presen...  \n",
       "4    This study has the objective of retrospectivel...  \n",
       "..                                                 ...  \n",
       "307  Pupose   The purpose of this study was to exam...  \n",
       "308  The french administrative justice system ensur...  \n",
       "309  A study on training certification program and ...  \n",
       "310  This study has compared and analyzed the prese...  \n",
       "311  The purpose of this research is to acquire car...  \n",
       "\n",
       "[312 rows x 2 columns]"
      ]
     },
     "execution_count": 8,
     "metadata": {},
     "output_type": "execute_result"
    }
   ],
   "source": [
    "# 특수문자 제거\n",
    "df_all_abstract[\"Cleaned_Abstract\"] = df_all_abstract[\"Abstract\"].apply(remove_special_chars)\n",
    "df_all_abstract"
   ]
  },
  {
   "cell_type": "code",
   "execution_count": 9,
   "metadata": {},
   "outputs": [],
   "source": [
    "# 명사 추출 함수(길이 3 이상)\n",
    "def extract_nouns_and_remove_stopwords(text):\n",
    "    doc = nlp(text)\n",
    "    nouns = [token.text for token in doc if token.pos_ == 'NOUN' and len(token.text) >= 3 and token.text.lower() not in STOP_WORDS]\n",
    "    return nouns"
   ]
  },
  {
   "cell_type": "code",
   "execution_count": 10,
   "metadata": {},
   "outputs": [
    {
     "data": {
      "text/plain": [
       "312"
      ]
     },
     "execution_count": 10,
     "metadata": {},
     "output_type": "execute_result"
    }
   ],
   "source": [
    "# 명사 추출 \n",
    "abstract_noun = []\n",
    "\n",
    "for text in df_all_abstract[\"Cleaned_Abstract\"]:\n",
    "    nouns = extract_nouns_and_remove_stopwords(text)\n",
    "    abstract_noun.append(nouns)\n",
    "\n",
    "len(abstract_noun)"
   ]
  },
  {
   "cell_type": "code",
   "execution_count": 11,
   "metadata": {},
   "outputs": [],
   "source": [
    "# 데이터 프레임에 합치기\n",
    "df_all[\"cleaned_abstract\"] = df_all_abstract[\"Cleaned_Abstract\"]\n",
    "df_all[\"tokenized_abstract\"] = abstract_noun"
   ]
  },
  {
   "cell_type": "code",
   "execution_count": 12,
   "metadata": {},
   "outputs": [
    {
     "name": "stdout",
     "output_type": "stream",
     "text": [
      "<class 'pandas.core.frame.DataFrame'>\n",
      "RangeIndex: 312 entries, 0 to 311\n",
      "Data columns (total 7 columns):\n",
      " #   Column              Non-Null Count  Dtype \n",
      "---  ------              --------------  ----- \n",
      " 0   Country             312 non-null    object\n",
      " 1   Title               312 non-null    object\n",
      " 2   Journal             312 non-null    object\n",
      " 3   Publised            312 non-null    int64 \n",
      " 4   Abstract            312 non-null    object\n",
      " 5   cleaned_abstract    312 non-null    object\n",
      " 6   tokenized_abstract  312 non-null    object\n",
      "dtypes: int64(1), object(6)\n",
      "memory usage: 17.2+ KB\n"
     ]
    }
   ],
   "source": [
    "df_all.info()"
   ]
  },
  {
   "cell_type": "code",
   "execution_count": 13,
   "metadata": {},
   "outputs": [],
   "source": [
    "# 빈도 저장\n",
    "df_all.to_excel(r\"C:/Users/user/Desktop/토픽모델링_교수님/Data/df_kr_final_stopwords.xlsx\")"
   ]
  },
  {
   "cell_type": "markdown",
   "metadata": {},
   "source": [
    "## 단어 별 빈도 확인"
   ]
  },
  {
   "cell_type": "code",
   "execution_count": 14,
   "metadata": {},
   "outputs": [
    {
     "name": "stderr",
     "output_type": "stream",
     "text": [
      "c:\\Users\\user\\anaconda3\\envs\\PY39_\\lib\\site-packages\\sklearn\\feature_extraction\\text.py:525: UserWarning: The parameter 'token_pattern' will not be used since 'tokenizer' is not None'\n",
      "  warnings.warn(\n"
     ]
    }
   ],
   "source": [
    "# 추출 단어 확인(10개 이상)\n",
    "from sklearn.feature_extraction.text import CountVectorizer\n",
    "cv = CountVectorizer(tokenizer=extract_nouns_and_remove_stopwords , min_df=5)\n",
    "dtm = cv.fit_transform(df_all[\"cleaned_abstract\"])"
   ]
  },
  {
   "cell_type": "code",
   "execution_count": 15,
   "metadata": {},
   "outputs": [
    {
     "data": {
      "text/plain": [
       "array(['ability', 'access', 'accordance', 'achievement', 'acquisition',\n",
       "       'act', 'activation', 'activities', 'activity', 'addition',\n",
       "       'adjustment', 'administration', 'adult', 'adults', 'advantage',\n",
       "       'age', 'agencies', 'aim', 'alternatives', 'analyses', 'analysis',\n",
       "       'application', 'approach', 'area', 'areas', 'art', 'article',\n",
       "       'arts', 'aspect', 'aspects', 'association', 'associations',\n",
       "       'athlete', 'athletes', 'atmosphere', 'attachment', 'attention',\n",
       "       'attitude', 'attributes', 'author', 'authority', 'awareness',\n",
       "       'background', 'badminton', 'base', 'baseball', 'basis', 'behavior',\n",
       "       'behaviors', 'benefit', 'benefits', 'birth', 'board', 'bodies',\n",
       "       'body', 'bowling', 'brand', 'budget', 'building', 'burden',\n",
       "       'business', 'campaign', 'capacity', 'capital', 'care', 'career',\n",
       "       'case', 'cases', 'categories', 'category', 'center', 'centers',\n",
       "       'century', 'certification', 'challenges', 'change', 'changes',\n",
       "       'character', 'characteristics', 'charge', 'children',\n",
       "       'circumstances', 'cities', 'citizen', 'citizens', 'city', 'class',\n",
       "       'classes', 'classification', 'coach', 'coaches', 'colleagues',\n",
       "       'collection', 'college', 'commitment', 'committee',\n",
       "       'communication', 'communities', 'community', 'companies',\n",
       "       'company', 'comparison', 'competence', 'competition',\n",
       "       'competitions', 'competitiveness', 'composition', 'computer',\n",
       "       'concept', 'concepts', 'concern', 'conclusion', 'conclusions',\n",
       "       'condition', 'conditions', 'confidence', 'conflict', 'conflicts',\n",
       "       'connection', 'connections', 'consciousness', 'consensus',\n",
       "       'consideration', 'construction', 'consumer', 'consumers',\n",
       "       'consumption', 'content', 'contents', 'context', 'contribution',\n",
       "       'control', 'convenience', 'cooperation', 'copies', 'core',\n",
       "       'correlation', 'cost', 'council', 'countries', 'country', 'course',\n",
       "       'courses', 'creation', 'crisis', 'criteria', 'culture',\n",
       "       'curriculum', 'customer', 'customers', 'cycle', 'data', 'day',\n",
       "       'days', 'degree', 'demand', 'demonstration', 'department', 'depth',\n",
       "       'determination', 'development', 'difference', 'differences',\n",
       "       'difficulties', 'difficulty', 'dimensions', 'direction',\n",
       "       'director', 'directors', 'disabilities', 'disability',\n",
       "       'discussion', 'distribution', 'district', 'diversification',\n",
       "       'diversity', 'diving', 'documents', 'domain', 'donation', 'duty',\n",
       "       'economy', 'education', 'effect', 'effectiveness', 'effects',\n",
       "       'efficacy', 'efficiency', 'effort', 'efforts', 'emotions',\n",
       "       'employees', 'employment', 'enactment', 'end', 'enhancement',\n",
       "       'enterprises', 'environment', 'environments', 'equation',\n",
       "       'equipment', 'establishment', 'evaluation', 'event', 'events',\n",
       "       'examination', 'example', 'examples', 'exchange', 'execution',\n",
       "       'executives', 'exercise', 'expansion', 'expenses', 'experience',\n",
       "       'experiences', 'expert', 'experts', 'facilities', 'facility',\n",
       "       'fact', 'factor', 'factors', 'family', 'fan', 'fans', 'fee',\n",
       "       'field', 'fields', 'finance', 'findings', 'fitness', 'flow',\n",
       "       'focus', 'followings', 'football', 'force', 'form', 'formation',\n",
       "       'forms', 'foundation', 'framework', 'frequency', 'friendship',\n",
       "       'fun', 'function', 'functions', 'fund', 'funds', 'future', 'game',\n",
       "       'games', 'gender', 'goal', 'goals', 'golf', 'goodness', 'goods',\n",
       "       'governance', 'governing', 'government', 'governments', 'grade',\n",
       "       'group', 'groups', 'growth', 'gyeonggi', 'gym', 'hand',\n",
       "       'happiness', 'head', 'health', 'history', 'home', 'hometown',\n",
       "       'hours', 'hypothesis', 'identification', 'identity', 'image',\n",
       "       'impact', 'implementation', 'implication', 'implications',\n",
       "       'importance', 'improvement', 'improvements', 'incheon', 'income',\n",
       "       'increase', 'independence', 'index', 'individual', 'individuals',\n",
       "       'industry', 'influence', 'influences', 'information',\n",
       "       'infrastructure', 'institution', 'institutions', 'instructor',\n",
       "       'instructors', 'instrument', 'integration', 'intention',\n",
       "       'interaction', 'interest', 'interests', 'internet', 'interview',\n",
       "       'interviews', 'introduction', 'investigation', 'investment',\n",
       "       'issues', 'item', 'items', 'job', 'kind', 'kinds', 'knowledge',\n",
       "       'lack', 'law', 'leader', 'leaders', 'leadership', 'league',\n",
       "       'leagues', 'learning', 'leisure', 'lessons', 'level', 'levels',\n",
       "       'life', 'lifestyle', 'limitation', 'limitations', 'linkage',\n",
       "       'literature', 'lives', 'location', 'loss', 'lot', 'maintenance',\n",
       "       'man', 'management', 'manager', 'managers', 'market', 'marketing',\n",
       "       'material', 'materials', 'meaning', 'means', 'measurement',\n",
       "       'measures', 'media', 'mediating', 'meeting', 'meetings', 'member',\n",
       "       'members', 'membership', 'men', 'method', 'methodology', 'methods',\n",
       "       'model', 'models', 'months', 'motivation', 'movement', 'nation',\n",
       "       'nature', 'necessity', 'need', 'needs', 'network', 'networks',\n",
       "       'norms', 'number', 'object', 'objective', 'observation',\n",
       "       'obstacles', 'office', 'officials', 'opening', 'operating',\n",
       "       'operation', 'operations', 'opinion', 'opinions', 'opportunities',\n",
       "       'opportunity', 'order', 'organization', 'organizations', 'paper',\n",
       "       'papers', 'parents', 'park', 'participants', 'participation',\n",
       "       'past', 'peer', 'people', 'perception', 'performance', 'period',\n",
       "       'person', 'personality', 'personnel', 'persons', 'perspective',\n",
       "       'phenomenon', 'pilot', 'place', 'places', 'plan', 'plans',\n",
       "       'player', 'players', 'point', 'points', 'policies', 'policy',\n",
       "       'population', 'position', 'possibility', 'power', 'practice',\n",
       "       'preference', 'preparation', 'priority', 'problem', 'problems',\n",
       "       'procedure', 'procedures', 'process', 'processing', 'product',\n",
       "       'products', 'professionals', 'program', 'programs', 'project',\n",
       "       'projects', 'promotion', 'province', 'provision', 'public',\n",
       "       'publicity', 'purposes', 'quality', 'questionnaire',\n",
       "       'questionnaires', 'questions', 'range', 'rate', 'rates', 'ratio',\n",
       "       'reasons', 'recognition', 'record', 'recreation', 'reduction',\n",
       "       'reference', 'regard', 'region', 'regions', 'registration',\n",
       "       'regression', 'regulations', 'relation', 'relations',\n",
       "       'relationship', 'relationships', 'reliability', 'reports',\n",
       "       'research', 'researcher', 'researchers', 'researches',\n",
       "       'reservation', 'residents', 'resource', 'resources', 'respondents',\n",
       "       'response', 'responsibility', 'rest', 'restriction', 'result',\n",
       "       'review', 'revitalization', 'right', 'rights', 'risk', 'role',\n",
       "       'roles', 'rule', 'safety', 'sample', 'samples', 'sampling',\n",
       "       'satisfaction', 'scale', 'school', 'schools', 'scope', 'score',\n",
       "       'second', 'sector', 'security', 'selection', 'self', 'sem',\n",
       "       'semester', 'sense', 'service', 'services', 'sex', 'significance',\n",
       "       'site', 'situation', 'size', 'skills', 'soccer', 'society',\n",
       "       'solidarity', 'sorts', 'source', 'space', 'spectators', 'spirit',\n",
       "       'spread', 'stability', 'stadium', 'stadiums', 'staff', 'stage',\n",
       "       'stages', 'star', 'state', 'statistics', 'status', 'step',\n",
       "       'strategies', 'strategy', 'strength', 'stress', 'structure',\n",
       "       'student', 'students', 'studies', 'style', 'sub', 'subject',\n",
       "       'subjects', 'success', 'suggestions', 'supply', 'support',\n",
       "       'supports', 'survey', 'surveys', 'swimming', 'system', 'talent',\n",
       "       'target', 'tasks', 'tax', 'teacher', 'teachers', 'teaching',\n",
       "       'team', 'teams', 'technique', 'tendency', 'tennis', 'term',\n",
       "       'terms', 'test', 'text', 'theory', 'time', 'times', 'tool',\n",
       "       'tools', 'total', 'tourism', 'town', 'training', 'treatment',\n",
       "       'trend', 'trust', 'type', 'types', 'understanding', 'universities',\n",
       "       'university', 'usage', 'use', 'users', 'utilization', 'validity',\n",
       "       'value', 'values', 'variable', 'variables', 'variety', 'ver',\n",
       "       'verification', 'version', 'view', 'volleyball', 'volunteer',\n",
       "       'volunteers', 'war', 'water', 'way', 'ways', 'week', 'weight',\n",
       "       'welfare', 'win', 'window', 'women', 'words', 'work', 'workers',\n",
       "       'world', 'year', 'years', 'youth'], dtype=object)"
      ]
     },
     "execution_count": 15,
     "metadata": {},
     "output_type": "execute_result"
    }
   ],
   "source": [
    "# 단어 목록\n",
    "cv.get_feature_names_out()"
   ]
  },
  {
   "cell_type": "code",
   "execution_count": 16,
   "metadata": {},
   "outputs": [
    {
     "data": {
      "text/html": [
       "<div>\n",
       "<style scoped>\n",
       "    .dataframe tbody tr th:only-of-type {\n",
       "        vertical-align: middle;\n",
       "    }\n",
       "\n",
       "    .dataframe tbody tr th {\n",
       "        vertical-align: top;\n",
       "    }\n",
       "\n",
       "    .dataframe thead th {\n",
       "        text-align: right;\n",
       "    }\n",
       "</style>\n",
       "<table border=\"1\" class=\"dataframe\">\n",
       "  <thead>\n",
       "    <tr style=\"text-align: right;\">\n",
       "      <th></th>\n",
       "      <th>word</th>\n",
       "      <th>count</th>\n",
       "    </tr>\n",
       "  </thead>\n",
       "  <tbody>\n",
       "    <tr>\n",
       "      <th>509</th>\n",
       "      <td>school</td>\n",
       "      <td>546</td>\n",
       "    </tr>\n",
       "    <tr>\n",
       "      <th>20</th>\n",
       "      <td>analysis</td>\n",
       "      <td>361</td>\n",
       "    </tr>\n",
       "    <tr>\n",
       "      <th>182</th>\n",
       "      <td>education</td>\n",
       "      <td>230</td>\n",
       "    </tr>\n",
       "    <tr>\n",
       "      <th>151</th>\n",
       "      <td>data</td>\n",
       "      <td>229</td>\n",
       "    </tr>\n",
       "    <tr>\n",
       "      <th>7</th>\n",
       "      <td>activities</td>\n",
       "      <td>226</td>\n",
       "    </tr>\n",
       "    <tr>\n",
       "      <th>218</th>\n",
       "      <td>facilities</td>\n",
       "      <td>224</td>\n",
       "    </tr>\n",
       "    <tr>\n",
       "      <th>404</th>\n",
       "      <td>participation</td>\n",
       "      <td>204</td>\n",
       "    </tr>\n",
       "    <tr>\n",
       "      <th>98</th>\n",
       "      <td>community</td>\n",
       "      <td>201</td>\n",
       "    </tr>\n",
       "    <tr>\n",
       "      <th>569</th>\n",
       "      <td>system</td>\n",
       "      <td>198</td>\n",
       "    </tr>\n",
       "    <tr>\n",
       "      <th>555</th>\n",
       "      <td>students</td>\n",
       "      <td>197</td>\n",
       "    </tr>\n",
       "    <tr>\n",
       "      <th>445</th>\n",
       "      <td>program</td>\n",
       "      <td>177</td>\n",
       "    </tr>\n",
       "    <tr>\n",
       "      <th>481</th>\n",
       "      <td>research</td>\n",
       "      <td>158</td>\n",
       "    </tr>\n",
       "    <tr>\n",
       "      <th>507</th>\n",
       "      <td>satisfaction</td>\n",
       "      <td>158</td>\n",
       "    </tr>\n",
       "    <tr>\n",
       "      <th>222</th>\n",
       "      <td>factors</td>\n",
       "      <td>156</td>\n",
       "    </tr>\n",
       "    <tr>\n",
       "      <th>183</th>\n",
       "      <td>effect</td>\n",
       "      <td>155</td>\n",
       "    </tr>\n",
       "  </tbody>\n",
       "</table>\n",
       "</div>"
      ],
      "text/plain": [
       "              word  count\n",
       "509         school    546\n",
       "20        analysis    361\n",
       "182      education    230\n",
       "151           data    229\n",
       "7       activities    226\n",
       "218     facilities    224\n",
       "404  participation    204\n",
       "98       community    201\n",
       "569         system    198\n",
       "555       students    197\n",
       "445        program    177\n",
       "481       research    158\n",
       "507   satisfaction    158\n",
       "222        factors    156\n",
       "183         effect    155"
      ]
     },
     "execution_count": 16,
     "metadata": {},
     "output_type": "execute_result"
    }
   ],
   "source": [
    "# 단어 빈도 데이터 프레임\n",
    "word_count = pd.DataFrame({\n",
    "    'word': cv.get_feature_names_out(),\n",
    "    'count': dtm.sum(axis=0).flat\n",
    "})\n",
    "\n",
    "word_count_desc = word_count.sort_values('count', ascending=False)\n",
    "word_count_desc.head(15)"
   ]
  },
  {
   "cell_type": "code",
   "execution_count": 17,
   "metadata": {},
   "outputs": [],
   "source": [
    "# 빈도 저장\n",
    "word_count_desc.to_excel(r\"C:/Users/user/Desktop/토픽모델링_교수님/Data/kr_extract_nouns_Frequency_stopwords.xlsx\")"
   ]
  },
  {
   "cell_type": "code",
   "execution_count": 18,
   "metadata": {},
   "outputs": [],
   "source": [
    "# 데이터프레임을 튜플 리스트로 변환\n",
    "word_list = list(zip(word_count_desc['word'], word_count_desc['count']))"
   ]
  },
  {
   "cell_type": "code",
   "execution_count": 19,
   "metadata": {},
   "outputs": [],
   "source": [
    "# 토크나이징한 최종 토큰 수 산출\n",
    "all_words = []\n",
    "\n",
    "for row in df_all[\"tokenized_abstract\"]:\n",
    "    all_words.extend(row)\n",
    "\n",
    "all_words_df = pd.DataFrame(all_words, columns=[\"words\"])"
   ]
  },
  {
   "cell_type": "code",
   "execution_count": 20,
   "metadata": {},
   "outputs": [],
   "source": [
    "# 모든 단어 저장(중복 허용_워드클라우드용)\n",
    "all_words_df.to_excel(r\"C:/Users/user/Desktop/토픽모델링_교수님/Data/kr_extract_nouns_stopwords.xlsx\")"
   ]
  },
  {
   "cell_type": "code",
   "execution_count": null,
   "metadata": {},
   "outputs": [],
   "source": []
  }
 ],
 "metadata": {
  "colab": {
   "provenance": []
  },
  "kernelspec": {
   "display_name": "Python 3 (ipykernel)",
   "language": "python",
   "name": "python3"
  },
  "language_info": {
   "codemirror_mode": {
    "name": "ipython",
    "version": 3
   },
   "file_extension": ".py",
   "mimetype": "text/x-python",
   "name": "python",
   "nbconvert_exporter": "python",
   "pygments_lexer": "ipython3",
   "version": "3.9.16"
  }
 },
 "nbformat": 4,
 "nbformat_minor": 1
}
