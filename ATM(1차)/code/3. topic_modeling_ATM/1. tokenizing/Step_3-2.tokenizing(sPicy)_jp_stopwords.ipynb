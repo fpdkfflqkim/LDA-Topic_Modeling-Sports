{
 "cells": [
  {
   "cell_type": "code",
   "execution_count": 1,
   "metadata": {},
   "outputs": [],
   "source": [
    "# 라이브러리 불러오기\n",
    "import spacy\n",
    "import pandas as pd\n",
    "import re\n",
    "from spacy.lang.en import STOP_WORDS\n",
    "import matplotlib.pyplot as plt"
   ]
  },
  {
   "cell_type": "code",
   "execution_count": 2,
   "metadata": {},
   "outputs": [],
   "source": [
    "# 토크나이저 정의\n",
    "nlp = spacy.load('en_core_web_sm')"
   ]
  },
  {
   "cell_type": "code",
   "execution_count": 3,
   "metadata": {},
   "outputs": [],
   "source": [
    "# 불용어에 추가할 단어\n",
    "custom_stop_words = [\"sports\", \"purpose\", \"sport\", \"http\", \"club\", \"clubs\", \"study\", \"results\"]\n",
    "\n",
    "# 기존 불용어에 사용자 정의 불용어 추가\n",
    "for word in custom_stop_words:\n",
    "    STOP_WORDS.add(word)\n",
    "\n",
    "# 다시 모델 로드 (불용어가 추가된 상태)\n",
    "nlp = spacy.load(\"en_core_web_sm\")"
   ]
  },
  {
   "cell_type": "code",
   "execution_count": 4,
   "metadata": {},
   "outputs": [],
   "source": [
    "# 데이터 불러오기\n",
    "df_kr = pd.read_excel(r\"C:\\Users\\user\\Desktop\\토픽모델링_교수님\\Data\\DataFrame_jp_v1.xlsx\")"
   ]
  },
  {
   "cell_type": "code",
   "execution_count": 5,
   "metadata": {},
   "outputs": [
    {
     "data": {
      "text/plain": [
       "263"
      ]
     },
     "execution_count": 5,
     "metadata": {},
     "output_type": "execute_result"
    }
   ],
   "source": [
    "# 데이터 concat\n",
    "df = df_kr.copy()\n",
    "len(df)"
   ]
  },
  {
   "cell_type": "code",
   "execution_count": 6,
   "metadata": {},
   "outputs": [
    {
     "data": {
      "text/plain": [
       "263"
      ]
     },
     "execution_count": 6,
     "metadata": {},
     "output_type": "execute_result"
    }
   ],
   "source": [
    "# \"Abstract\" 만 따로 추출\n",
    "df_all = df.copy()\n",
    "df_all_abstract = pd.DataFrame(df_all[\"Abstract\"], columns=[\"Abstract\"])\n",
    "len(df_all_abstract)"
   ]
  },
  {
   "cell_type": "code",
   "execution_count": 7,
   "metadata": {},
   "outputs": [],
   "source": [
    "# 특수문자 제거 함수\n",
    "def remove_special_chars(text):\n",
    "    # 정규표현식을 사용하여 특수문자와 제어문자 제거\n",
    "    cleaned_text = re.sub(r'[^a-zA-Z가-힣\\s]', ' ', text)\n",
    "    return cleaned_text"
   ]
  },
  {
   "cell_type": "code",
   "execution_count": 8,
   "metadata": {},
   "outputs": [
    {
     "data": {
      "text/html": [
       "<div>\n",
       "<style scoped>\n",
       "    .dataframe tbody tr th:only-of-type {\n",
       "        vertical-align: middle;\n",
       "    }\n",
       "\n",
       "    .dataframe tbody tr th {\n",
       "        vertical-align: top;\n",
       "    }\n",
       "\n",
       "    .dataframe thead th {\n",
       "        text-align: right;\n",
       "    }\n",
       "</style>\n",
       "<table border=\"1\" class=\"dataframe\">\n",
       "  <thead>\n",
       "    <tr style=\"text-align: right;\">\n",
       "      <th></th>\n",
       "      <th>Abstract</th>\n",
       "      <th>Cleaned_Abstract</th>\n",
       "    </tr>\n",
       "  </thead>\n",
       "  <tbody>\n",
       "    <tr>\n",
       "      <th>0</th>\n",
       "      <td>The purpose of this literature review study wa...</td>\n",
       "      <td>The purpose of this literature review study wa...</td>\n",
       "    </tr>\n",
       "    <tr>\n",
       "      <th>1</th>\n",
       "      <td>This study focused on highly sustainable compr...</td>\n",
       "      <td>This study focused on highly sustainable compr...</td>\n",
       "    </tr>\n",
       "    <tr>\n",
       "      <th>2</th>\n",
       "      <td>The sustainable growth of comprehensive commun...</td>\n",
       "      <td>The sustainable growth of comprehensive commun...</td>\n",
       "    </tr>\n",
       "    <tr>\n",
       "      <th>3</th>\n",
       "      <td>This study attempts to clarify the factors of ...</td>\n",
       "      <td>This study attempts to clarify the factors of ...</td>\n",
       "    </tr>\n",
       "    <tr>\n",
       "      <th>4</th>\n",
       "      <td>The purpose of the present article was to desc...</td>\n",
       "      <td>The purpose of the present article was to desc...</td>\n",
       "    </tr>\n",
       "    <tr>\n",
       "      <th>...</th>\n",
       "      <td>...</td>\n",
       "      <td>...</td>\n",
       "    </tr>\n",
       "    <tr>\n",
       "      <th>258</th>\n",
       "      <td>As the management organization of the Extracur...</td>\n",
       "      <td>As the management organization of the Extracur...</td>\n",
       "    </tr>\n",
       "    <tr>\n",
       "      <th>259</th>\n",
       "      <td>The purpose of this paper is to : ⑴ identify t...</td>\n",
       "      <td>The purpose of this paper is to     identify t...</td>\n",
       "    </tr>\n",
       "    <tr>\n",
       "      <th>260</th>\n",
       "      <td>The purpose of this study was to interpret the...</td>\n",
       "      <td>The purpose of this study was to interpret the...</td>\n",
       "    </tr>\n",
       "    <tr>\n",
       "      <th>261</th>\n",
       "      <td>The purpose of this paper is to conduct a lite...</td>\n",
       "      <td>The purpose of this paper is to conduct a lite...</td>\n",
       "    </tr>\n",
       "    <tr>\n",
       "      <th>262</th>\n",
       "      <td>The purpose of this study is to get the manage...</td>\n",
       "      <td>The purpose of this study is to get the manage...</td>\n",
       "    </tr>\n",
       "  </tbody>\n",
       "</table>\n",
       "<p>263 rows × 2 columns</p>\n",
       "</div>"
      ],
      "text/plain": [
       "                                              Abstract  \\\n",
       "0    The purpose of this literature review study wa...   \n",
       "1    This study focused on highly sustainable compr...   \n",
       "2    The sustainable growth of comprehensive commun...   \n",
       "3    This study attempts to clarify the factors of ...   \n",
       "4    The purpose of the present article was to desc...   \n",
       "..                                                 ...   \n",
       "258  As the management organization of the Extracur...   \n",
       "259  The purpose of this paper is to : ⑴ identify t...   \n",
       "260  The purpose of this study was to interpret the...   \n",
       "261  The purpose of this paper is to conduct a lite...   \n",
       "262  The purpose of this study is to get the manage...   \n",
       "\n",
       "                                      Cleaned_Abstract  \n",
       "0    The purpose of this literature review study wa...  \n",
       "1    This study focused on highly sustainable compr...  \n",
       "2    The sustainable growth of comprehensive commun...  \n",
       "3    This study attempts to clarify the factors of ...  \n",
       "4    The purpose of the present article was to desc...  \n",
       "..                                                 ...  \n",
       "258  As the management organization of the Extracur...  \n",
       "259  The purpose of this paper is to     identify t...  \n",
       "260  The purpose of this study was to interpret the...  \n",
       "261  The purpose of this paper is to conduct a lite...  \n",
       "262  The purpose of this study is to get the manage...  \n",
       "\n",
       "[263 rows x 2 columns]"
      ]
     },
     "execution_count": 8,
     "metadata": {},
     "output_type": "execute_result"
    }
   ],
   "source": [
    "# 특수문자 제거\n",
    "df_all_abstract[\"Cleaned_Abstract\"] = df_all_abstract[\"Abstract\"].apply(remove_special_chars)\n",
    "df_all_abstract"
   ]
  },
  {
   "cell_type": "code",
   "execution_count": 9,
   "metadata": {},
   "outputs": [],
   "source": [
    "# 명사 추출 함수(길이 3 이상)\n",
    "def extract_nouns_and_remove_stopwords(text):\n",
    "    doc = nlp(text)\n",
    "    nouns = [token.text for token in doc if token.pos_ == 'NOUN' and len(token.text) >= 3 and token.text.lower() not in STOP_WORDS]\n",
    "    return nouns"
   ]
  },
  {
   "cell_type": "code",
   "execution_count": 10,
   "metadata": {},
   "outputs": [
    {
     "data": {
      "text/plain": [
       "263"
      ]
     },
     "execution_count": 10,
     "metadata": {},
     "output_type": "execute_result"
    }
   ],
   "source": [
    "# 명사 추출 \n",
    "abstract_noun = []\n",
    "\n",
    "for text in df_all_abstract[\"Cleaned_Abstract\"]:\n",
    "    nouns = extract_nouns_and_remove_stopwords(text)\n",
    "    abstract_noun.append(nouns)\n",
    "\n",
    "len(abstract_noun)"
   ]
  },
  {
   "cell_type": "code",
   "execution_count": 11,
   "metadata": {},
   "outputs": [],
   "source": [
    "# 데이터 프레임에 합치기\n",
    "df_all[\"cleaned_abstract\"] = df_all_abstract[\"Cleaned_Abstract\"]\n",
    "df_all[\"tokenized_abstract\"] = abstract_noun"
   ]
  },
  {
   "cell_type": "code",
   "execution_count": 12,
   "metadata": {},
   "outputs": [
    {
     "name": "stdout",
     "output_type": "stream",
     "text": [
      "<class 'pandas.core.frame.DataFrame'>\n",
      "RangeIndex: 263 entries, 0 to 262\n",
      "Data columns (total 7 columns):\n",
      " #   Column              Non-Null Count  Dtype \n",
      "---  ------              --------------  ----- \n",
      " 0   Country             263 non-null    object\n",
      " 1   Title               263 non-null    object\n",
      " 2   Publised            263 non-null    int64 \n",
      " 3   Journal             263 non-null    object\n",
      " 4   Abstract            263 non-null    object\n",
      " 5   cleaned_abstract    263 non-null    object\n",
      " 6   tokenized_abstract  263 non-null    object\n",
      "dtypes: int64(1), object(6)\n",
      "memory usage: 14.5+ KB\n"
     ]
    }
   ],
   "source": [
    "df_all.info()"
   ]
  },
  {
   "cell_type": "code",
   "execution_count": 13,
   "metadata": {},
   "outputs": [],
   "source": [
    "# 빈도 저장\n",
    "df_all.to_excel(r\"C:/Users/user/Desktop/토픽모델링_교수님/Data/df_jp_final_stopwords.xlsx\")"
   ]
  },
  {
   "cell_type": "markdown",
   "metadata": {},
   "source": [
    "## 단어 별 빈도 확인"
   ]
  },
  {
   "cell_type": "code",
   "execution_count": 14,
   "metadata": {},
   "outputs": [
    {
     "name": "stderr",
     "output_type": "stream",
     "text": [
      "c:\\Users\\user\\anaconda3\\envs\\PY39_\\lib\\site-packages\\sklearn\\feature_extraction\\text.py:525: UserWarning: The parameter 'token_pattern' will not be used since 'tokenizer' is not None'\n",
      "  warnings.warn(\n"
     ]
    }
   ],
   "source": [
    "# 추출 단어 확인(10개 이상)\n",
    "from sklearn.feature_extraction.text import CountVectorizer\n",
    "cv = CountVectorizer(tokenizer=extract_nouns_and_remove_stopwords , min_df=5)\n",
    "dtm = cv.fit_transform(df_all[\"cleaned_abstract\"])"
   ]
  },
  {
   "cell_type": "code",
   "execution_count": 15,
   "metadata": {},
   "outputs": [
    {
     "data": {
      "text/plain": [
       "array(['abilities', 'ability', 'absence', 'achievement', 'acquisition',\n",
       "       'act', 'actions', 'activities', 'activity', 'addition',\n",
       "       'administration', 'adulthood', 'adults', 'advantages', 'age',\n",
       "       'agency', 'ages', 'aim', 'ambiguity', 'analyses', 'analysis',\n",
       "       'answers', 'approach', 'approaches', 'area', 'areas', 'article',\n",
       "       'articles', 'aspects', 'association', 'associations', 'athlete',\n",
       "       'athletes', 'attention', 'attitude', 'attitudes', 'attributes',\n",
       "       'author', 'authorities', 'authority', 'autonomy', 'awareness',\n",
       "       'background', 'base', 'baseball', 'basis', 'basketball',\n",
       "       'behavior', 'behaviors', 'benefit', 'benefits', 'board', 'boards',\n",
       "       'body', 'boys', 'budget', 'building', 'burden', 'business',\n",
       "       'businesses', 'capacity', 'capital', 'care', 'career', 'case',\n",
       "       'cases', 'categories', 'category', 'center', 'challenge',\n",
       "       'challenges', 'change', 'changes', 'characteristics', 'charge',\n",
       "       'child', 'childhood', 'children', 'circumstances', 'cities',\n",
       "       'citizens', 'city', 'class', 'classes', 'coach', 'coaches',\n",
       "       'coaching', 'collaboration', 'commitment', 'commons',\n",
       "       'communication', 'communities', 'community', 'companies',\n",
       "       'company', 'comparison', 'competition', 'competitions',\n",
       "       'components', 'composition', 'concept', 'concepts', 'concerns',\n",
       "       'conclusion', 'conclusions', 'condition', 'conditions', 'conflict',\n",
       "       'conflicts', 'connection', 'connections', 'consciousness',\n",
       "       'consideration', 'content', 'context', 'continuation', 'contrast',\n",
       "       'contribution', 'control', 'cooperation', 'coordination', 'core',\n",
       "       'corporations', 'correlation', 'countries', 'country', 'course',\n",
       "       'creation', 'crisis', 'culture', 'data', 'date', 'day', 'days',\n",
       "       'decision', 'decline', 'decrease', 'degree', 'democracy',\n",
       "       'departments', 'design', 'development', 'difference',\n",
       "       'differences', 'difficulties', 'dimensions', 'direction',\n",
       "       'disabilities', 'disability', 'disaster', 'discourse',\n",
       "       'discussion', 'discussions', 'distance', 'district', 'division',\n",
       "       'donations', 'earthquake', 'economy', 'education', 'effect',\n",
       "       'effectiveness', 'effects', 'efficacy', 'efforts', 'element',\n",
       "       'elements', 'employment', 'end', 'engagement', 'enjoyment',\n",
       "       'environment', 'environments', 'equipment', 'establishment',\n",
       "       'evaluation', 'event', 'events', 'examination', 'example',\n",
       "       'examples', 'exchange', 'exercise', 'exercises', 'existence',\n",
       "       'expectations', 'experience', 'experiences', 'expertise',\n",
       "       'experts', 'facilities', 'facility', 'fact', 'factor', 'factors',\n",
       "       'family', 'features', 'field', 'fields', 'fieldwork', 'findings',\n",
       "       'fitness', 'focus', 'food', 'football', 'form', 'formation',\n",
       "       'framework', 'frequency', 'function', 'future', 'game', 'games',\n",
       "       'gender', 'generation', 'girls', 'goal', 'goals', 'government',\n",
       "       'governments', 'grade', 'group', 'groups', 'growth', 'guidance',\n",
       "       'half', 'hand', 'health', 'height', 'history', 'home', 'idea',\n",
       "       'ideas', 'identification', 'image', 'impact', 'implementation',\n",
       "       'importance', 'improvement', 'income', 'increase', 'index',\n",
       "       'individual', 'individuals', 'industry', 'influence', 'influences',\n",
       "       'information', 'innovation', 'institution', 'institutions',\n",
       "       'instruction', 'instructors', 'integration', 'intention',\n",
       "       'interaction', 'interactions', 'interest', 'interests',\n",
       "       'intervention', 'interview', 'interviews', 'introduction',\n",
       "       'investigation', 'involvement', 'issue', 'issues', 'item', 'items',\n",
       "       'job', 'kind', 'kinds', 'knowledge', 'lack', 'leaders',\n",
       "       'leadership', 'league', 'learning', 'legitimacy', 'level',\n",
       "       'levels', 'life', 'lifestyle', 'limitations', 'literature',\n",
       "       'lives', 'loss', 'lot', 'maintenance', 'males', 'management',\n",
       "       'managers', 'manner', 'market', 'mass', 'materials', 'means',\n",
       "       'measurement', 'measures', 'mechanisms', 'media', 'meeting',\n",
       "       'member', 'members', 'membership', 'men', 'method', 'methods',\n",
       "       'model', 'mothers', 'motivation', 'movement', 'movements',\n",
       "       'municipalities', 'muscle', 'nation', 'nature', 'need', 'needs',\n",
       "       'network', 'networks', 'npo', 'npos', 'number', 'obesity',\n",
       "       'object', 'objective', 'opportunities', 'opportunity', 'order',\n",
       "       'organization', 'organizations', 'outcome', 'paper', 'parents',\n",
       "       'participants', 'participation', 'patterns', 'people',\n",
       "       'percentage', 'performance', 'period', 'person', 'persons',\n",
       "       'perspective', 'perspectives', 'phase', 'philosophy', 'place',\n",
       "       'plan', 'planning', 'play', 'players', 'point', 'points',\n",
       "       'policies', 'policy', 'population', 'position', 'positions',\n",
       "       'possibilities', 'possibility', 'potential', 'power', 'practice',\n",
       "       'practices', 'practitioners', 'prefecture', 'prefectures',\n",
       "       'presence', 'problem', 'problems', 'process', 'processes',\n",
       "       'profit', 'program', 'programs', 'project', 'projects',\n",
       "       'promotion', 'prospects', 'public', 'publicness', 'purposes',\n",
       "       'quality', 'question', 'questionnaire', 'questionnaires', 'range',\n",
       "       'rate', 'rates', 'ratio', 'reason', 'reasons', 'recognition',\n",
       "       'reference', 'regard', 'region', 'regions', 'regression',\n",
       "       'regulations', 'relation', 'relations', 'relationship',\n",
       "       'relationships', 'reliability', 'report', 'reports',\n",
       "       'representatives', 'research', 'researchers', 'residents',\n",
       "       'resource', 'resources', 'respect', 'respondents', 'response',\n",
       "       'responses', 'responsibility', 'result', 'review',\n",
       "       'revitalization', 'rights', 'risk', 'role', 'roles', 'rule',\n",
       "       'rules', 'safety', 'sample', 'satisfaction', 'scale', 'school',\n",
       "       'schools', 'science', 'sciences', 'score', 'scores', 'sector',\n",
       "       'sectors', 'self', 'sense', 'service', 'services', 'sex',\n",
       "       'significance', 'situation', 'situations', 'size', 'skill',\n",
       "       'skills', 'soccer', 'society', 'sociology', 'space', 'sphere',\n",
       "       'sporting', 'staff', 'stage', 'stages', 'stakeholders', 'state',\n",
       "       'status', 'step', 'strategies', 'strategy', 'strength',\n",
       "       'structure', 'student', 'students', 'studies', 'style', 'subjects',\n",
       "       'support', 'survey', 'surveys', 'system', 'systems', 'target',\n",
       "       'task', 'tasks', 'teacher', 'teachers', 'team', 'teams',\n",
       "       'technology', 'tendency', 'term', 'terms', 'test', 'text',\n",
       "       'theories', 'theory', 'time', 'times', 'today', 'topics', 'total',\n",
       "       'town', 'training', 'transition', 'trend', 'trends', 'trust',\n",
       "       'type', 'types', 'understanding', 'universities', 'university',\n",
       "       'ups', 'use', 'users', 'utilization', 'validity', 'value',\n",
       "       'values', 'variable', 'variables', 'variety', 'view', 'viewpoint',\n",
       "       'volleyball', 'volunteer', 'volunteers', 'way', 'ways', 'week',\n",
       "       'weight', 'welfare', 'women', 'word', 'words', 'work', 'workers',\n",
       "       'world', 'year', 'years', 'youth'], dtype=object)"
      ]
     },
     "execution_count": 15,
     "metadata": {},
     "output_type": "execute_result"
    }
   ],
   "source": [
    "# 단어 목록\n",
    "cv.get_feature_names_out()"
   ]
  },
  {
   "cell_type": "code",
   "execution_count": 16,
   "metadata": {},
   "outputs": [
    {
     "data": {
      "text/html": [
       "<div>\n",
       "<style scoped>\n",
       "    .dataframe tbody tr th:only-of-type {\n",
       "        vertical-align: middle;\n",
       "    }\n",
       "\n",
       "    .dataframe tbody tr th {\n",
       "        vertical-align: top;\n",
       "    }\n",
       "\n",
       "    .dataframe thead th {\n",
       "        text-align: right;\n",
       "    }\n",
       "</style>\n",
       "<table border=\"1\" class=\"dataframe\">\n",
       "  <thead>\n",
       "    <tr style=\"text-align: right;\">\n",
       "      <th></th>\n",
       "      <th>word</th>\n",
       "      <th>count</th>\n",
       "    </tr>\n",
       "  </thead>\n",
       "  <tbody>\n",
       "    <tr>\n",
       "      <th>92</th>\n",
       "      <td>community</td>\n",
       "      <td>296</td>\n",
       "    </tr>\n",
       "    <tr>\n",
       "      <th>7</th>\n",
       "      <td>activities</td>\n",
       "      <td>214</td>\n",
       "    </tr>\n",
       "    <tr>\n",
       "      <th>432</th>\n",
       "      <td>school</td>\n",
       "      <td>184</td>\n",
       "    </tr>\n",
       "    <tr>\n",
       "      <th>159</th>\n",
       "      <td>education</td>\n",
       "      <td>165</td>\n",
       "    </tr>\n",
       "    <tr>\n",
       "      <th>331</th>\n",
       "      <td>organizations</td>\n",
       "      <td>158</td>\n",
       "    </tr>\n",
       "    <tr>\n",
       "      <th>77</th>\n",
       "      <td>children</td>\n",
       "      <td>132</td>\n",
       "    </tr>\n",
       "    <tr>\n",
       "      <th>182</th>\n",
       "      <td>exercise</td>\n",
       "      <td>132</td>\n",
       "    </tr>\n",
       "    <tr>\n",
       "      <th>303</th>\n",
       "      <td>members</td>\n",
       "      <td>132</td>\n",
       "    </tr>\n",
       "    <tr>\n",
       "      <th>409</th>\n",
       "      <td>research</td>\n",
       "      <td>130</td>\n",
       "    </tr>\n",
       "    <tr>\n",
       "      <th>469</th>\n",
       "      <td>students</td>\n",
       "      <td>127</td>\n",
       "    </tr>\n",
       "    <tr>\n",
       "      <th>20</th>\n",
       "      <td>analysis</td>\n",
       "      <td>124</td>\n",
       "    </tr>\n",
       "    <tr>\n",
       "      <th>290</th>\n",
       "      <td>management</td>\n",
       "      <td>123</td>\n",
       "    </tr>\n",
       "    <tr>\n",
       "      <th>281</th>\n",
       "      <td>life</td>\n",
       "      <td>119</td>\n",
       "    </tr>\n",
       "    <tr>\n",
       "      <th>194</th>\n",
       "      <td>factors</td>\n",
       "      <td>116</td>\n",
       "    </tr>\n",
       "    <tr>\n",
       "      <th>221</th>\n",
       "      <td>group</td>\n",
       "      <td>115</td>\n",
       "    </tr>\n",
       "  </tbody>\n",
       "</table>\n",
       "</div>"
      ],
      "text/plain": [
       "              word  count\n",
       "92       community    296\n",
       "7       activities    214\n",
       "432         school    184\n",
       "159      education    165\n",
       "331  organizations    158\n",
       "77        children    132\n",
       "182       exercise    132\n",
       "303        members    132\n",
       "409       research    130\n",
       "469       students    127\n",
       "20        analysis    124\n",
       "290     management    123\n",
       "281           life    119\n",
       "194        factors    116\n",
       "221          group    115"
      ]
     },
     "execution_count": 16,
     "metadata": {},
     "output_type": "execute_result"
    }
   ],
   "source": [
    "# 단어 빈도 데이터 프레임\n",
    "word_count = pd.DataFrame({\n",
    "    'word': cv.get_feature_names_out(),\n",
    "    'count': dtm.sum(axis=0).flat\n",
    "})\n",
    "\n",
    "word_count_desc = word_count.sort_values('count', ascending=False)\n",
    "word_count_desc.head(15)"
   ]
  },
  {
   "cell_type": "code",
   "execution_count": 17,
   "metadata": {},
   "outputs": [],
   "source": [
    "# 빈도 저장\n",
    "word_count_desc.to_excel(r\"C:/Users/user/Desktop/토픽모델링_교수님/Data/jp_extract_nouns_Frequency_stopwords.xlsx\")"
   ]
  },
  {
   "cell_type": "code",
   "execution_count": 18,
   "metadata": {},
   "outputs": [],
   "source": [
    "# 데이터프레임을 튜플 리스트로 변환\n",
    "word_list = list(zip(word_count_desc['word'], word_count_desc['count']))"
   ]
  },
  {
   "cell_type": "code",
   "execution_count": 19,
   "metadata": {},
   "outputs": [],
   "source": [
    "# 토크나이징한 최종 토큰 수 산출\n",
    "all_words = []\n",
    "\n",
    "for row in df_all[\"tokenized_abstract\"]:\n",
    "    all_words.extend(row)\n",
    "\n",
    "all_words_df = pd.DataFrame(all_words, columns=[\"words\"])"
   ]
  },
  {
   "cell_type": "code",
   "execution_count": 20,
   "metadata": {},
   "outputs": [],
   "source": [
    "# 모든 단어 저장(중복 허용_워드클라우드용)\n",
    "all_words_df.to_excel(r\"C:/Users/user/Desktop/토픽모델링_교수님/Data/jp_extract_nouns_stopwords.xlsx\")"
   ]
  },
  {
   "cell_type": "code",
   "execution_count": null,
   "metadata": {},
   "outputs": [],
   "source": []
  }
 ],
 "metadata": {
  "colab": {
   "provenance": []
  },
  "kernelspec": {
   "display_name": "Python 3 (ipykernel)",
   "language": "python",
   "name": "python3"
  },
  "language_info": {
   "codemirror_mode": {
    "name": "ipython",
    "version": 3
   },
   "file_extension": ".py",
   "mimetype": "text/x-python",
   "name": "python",
   "nbconvert_exporter": "python",
   "pygments_lexer": "ipython3",
   "version": "3.9.16"
  }
 },
 "nbformat": 4,
 "nbformat_minor": 1
}
