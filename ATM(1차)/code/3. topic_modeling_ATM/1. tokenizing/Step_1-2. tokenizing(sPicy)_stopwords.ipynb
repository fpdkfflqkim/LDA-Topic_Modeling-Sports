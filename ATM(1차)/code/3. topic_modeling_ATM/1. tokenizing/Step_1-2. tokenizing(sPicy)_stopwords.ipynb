{
 "cells": [
  {
   "cell_type": "code",
   "execution_count": 1,
   "metadata": {},
   "outputs": [],
   "source": [
    "# 라이브러리 불러오기\n",
    "import spacy\n",
    "import pandas as pd\n",
    "import re\n",
    "from spacy.lang.en import STOP_WORDS\n",
    "import matplotlib.pyplot as plt"
   ]
  },
  {
   "cell_type": "code",
   "execution_count": 2,
   "metadata": {},
   "outputs": [],
   "source": [
    "# 토크나이저 정의\n",
    "nlp = spacy.load('en_core_web_sm')"
   ]
  },
  {
   "cell_type": "code",
   "execution_count": 3,
   "metadata": {},
   "outputs": [],
   "source": [
    "# 불용어에 추가할 단어\n",
    "custom_stop_words = [\"sports\", \"purpose\", \"sport\", \"http\", \"club\", \"clubs\", \"study\", \"results\"]\n",
    "\n",
    "# 기존 불용어에 사용자 정의 불용어 추가\n",
    "for word in custom_stop_words:\n",
    "    STOP_WORDS.add(word)\n",
    "\n",
    "# 다시 모델 로드 (불용어가 추가된 상태)\n",
    "nlp = spacy.load(\"en_core_web_sm\")"
   ]
  },
  {
   "cell_type": "code",
   "execution_count": 4,
   "metadata": {},
   "outputs": [],
   "source": [
    "# 데이터 불러오기\n",
    "df_jp = pd.read_excel(r\"C:\\Users\\user\\Desktop\\토픽모델링_교수님\\Data\\DataFrame_jp_v1.xlsx\")\n",
    "df_kr = pd.read_excel(r\"C:\\Users\\user\\Desktop\\토픽모델링_교수님\\Data\\DataFrame_kr_v1.xlsx\")"
   ]
  },
  {
   "cell_type": "code",
   "execution_count": 5,
   "metadata": {},
   "outputs": [
    {
     "data": {
      "text/plain": [
       "575"
      ]
     },
     "execution_count": 5,
     "metadata": {},
     "output_type": "execute_result"
    }
   ],
   "source": [
    "# 데이터 concat\n",
    "df = pd.concat([df_jp,df_kr],ignore_index=True)\n",
    "len(df)"
   ]
  },
  {
   "cell_type": "code",
   "execution_count": 6,
   "metadata": {},
   "outputs": [
    {
     "data": {
      "text/plain": [
       "575"
      ]
     },
     "execution_count": 6,
     "metadata": {},
     "output_type": "execute_result"
    }
   ],
   "source": [
    "# \"Abstract\" 만 따로 추출\n",
    "df_all = df.copy()\n",
    "df_all_abstract = pd.DataFrame(df_all[\"Abstract\"], columns=[\"Abstract\"])\n",
    "len(df_all_abstract)"
   ]
  },
  {
   "cell_type": "code",
   "execution_count": 7,
   "metadata": {},
   "outputs": [],
   "source": [
    "# 특수문자 제거 함수\n",
    "def remove_special_chars(text):\n",
    "    # 정규표현식을 사용하여 특수문자와 제어문자 제거\n",
    "    cleaned_text = re.sub(r'[^a-zA-Z가-힣\\s]', ' ', text)\n",
    "    return cleaned_text"
   ]
  },
  {
   "cell_type": "code",
   "execution_count": 8,
   "metadata": {},
   "outputs": [
    {
     "data": {
      "text/html": [
       "<div>\n",
       "<style scoped>\n",
       "    .dataframe tbody tr th:only-of-type {\n",
       "        vertical-align: middle;\n",
       "    }\n",
       "\n",
       "    .dataframe tbody tr th {\n",
       "        vertical-align: top;\n",
       "    }\n",
       "\n",
       "    .dataframe thead th {\n",
       "        text-align: right;\n",
       "    }\n",
       "</style>\n",
       "<table border=\"1\" class=\"dataframe\">\n",
       "  <thead>\n",
       "    <tr style=\"text-align: right;\">\n",
       "      <th></th>\n",
       "      <th>Abstract</th>\n",
       "      <th>Cleaned_Abstract</th>\n",
       "    </tr>\n",
       "  </thead>\n",
       "  <tbody>\n",
       "    <tr>\n",
       "      <th>0</th>\n",
       "      <td>The purpose of this literature review study wa...</td>\n",
       "      <td>The purpose of this literature review study wa...</td>\n",
       "    </tr>\n",
       "    <tr>\n",
       "      <th>1</th>\n",
       "      <td>This study focused on highly sustainable compr...</td>\n",
       "      <td>This study focused on highly sustainable compr...</td>\n",
       "    </tr>\n",
       "    <tr>\n",
       "      <th>2</th>\n",
       "      <td>The sustainable growth of comprehensive commun...</td>\n",
       "      <td>The sustainable growth of comprehensive commun...</td>\n",
       "    </tr>\n",
       "    <tr>\n",
       "      <th>3</th>\n",
       "      <td>This study attempts to clarify the factors of ...</td>\n",
       "      <td>This study attempts to clarify the factors of ...</td>\n",
       "    </tr>\n",
       "    <tr>\n",
       "      <th>4</th>\n",
       "      <td>The purpose of the present article was to desc...</td>\n",
       "      <td>The purpose of the present article was to desc...</td>\n",
       "    </tr>\n",
       "    <tr>\n",
       "      <th>...</th>\n",
       "      <td>...</td>\n",
       "      <td>...</td>\n",
       "    </tr>\n",
       "    <tr>\n",
       "      <th>570</th>\n",
       "      <td>Pupose : The purpose of this study was to exam...</td>\n",
       "      <td>Pupose   The purpose of this study was to exam...</td>\n",
       "    </tr>\n",
       "    <tr>\n",
       "      <th>571</th>\n",
       "      <td>The french administrative justice system ensur...</td>\n",
       "      <td>The french administrative justice system ensur...</td>\n",
       "    </tr>\n",
       "    <tr>\n",
       "      <th>572</th>\n",
       "      <td>A study on training/certification program and ...</td>\n",
       "      <td>A study on training certification program and ...</td>\n",
       "    </tr>\n",
       "    <tr>\n",
       "      <th>573</th>\n",
       "      <td>This study has compared and analyzed the prese...</td>\n",
       "      <td>This study has compared and analyzed the prese...</td>\n",
       "    </tr>\n",
       "    <tr>\n",
       "      <th>574</th>\n",
       "      <td>The purpose of this research is to acquire car...</td>\n",
       "      <td>The purpose of this research is to acquire car...</td>\n",
       "    </tr>\n",
       "  </tbody>\n",
       "</table>\n",
       "<p>575 rows × 2 columns</p>\n",
       "</div>"
      ],
      "text/plain": [
       "                                              Abstract  \\\n",
       "0    The purpose of this literature review study wa...   \n",
       "1    This study focused on highly sustainable compr...   \n",
       "2    The sustainable growth of comprehensive commun...   \n",
       "3    This study attempts to clarify the factors of ...   \n",
       "4    The purpose of the present article was to desc...   \n",
       "..                                                 ...   \n",
       "570  Pupose : The purpose of this study was to exam...   \n",
       "571  The french administrative justice system ensur...   \n",
       "572  A study on training/certification program and ...   \n",
       "573  This study has compared and analyzed the prese...   \n",
       "574  The purpose of this research is to acquire car...   \n",
       "\n",
       "                                      Cleaned_Abstract  \n",
       "0    The purpose of this literature review study wa...  \n",
       "1    This study focused on highly sustainable compr...  \n",
       "2    The sustainable growth of comprehensive commun...  \n",
       "3    This study attempts to clarify the factors of ...  \n",
       "4    The purpose of the present article was to desc...  \n",
       "..                                                 ...  \n",
       "570  Pupose   The purpose of this study was to exam...  \n",
       "571  The french administrative justice system ensur...  \n",
       "572  A study on training certification program and ...  \n",
       "573  This study has compared and analyzed the prese...  \n",
       "574  The purpose of this research is to acquire car...  \n",
       "\n",
       "[575 rows x 2 columns]"
      ]
     },
     "execution_count": 8,
     "metadata": {},
     "output_type": "execute_result"
    }
   ],
   "source": [
    "# 특수문자 제거\n",
    "df_all_abstract[\"Cleaned_Abstract\"] = df_all_abstract[\"Abstract\"].apply(remove_special_chars)\n",
    "df_all_abstract"
   ]
  },
  {
   "cell_type": "code",
   "execution_count": 9,
   "metadata": {},
   "outputs": [],
   "source": [
    "# 명사 추출 함수(길이 3 이상)\n",
    "def extract_nouns_and_remove_stopwords(text):\n",
    "    doc = nlp(text)\n",
    "    nouns = [token.text for token in doc if token.pos_ == 'NOUN' and len(token.text) >= 3 and token.text.lower() not in STOP_WORDS]\n",
    "    return nouns"
   ]
  },
  {
   "cell_type": "code",
   "execution_count": 10,
   "metadata": {},
   "outputs": [
    {
     "data": {
      "text/plain": [
       "575"
      ]
     },
     "execution_count": 10,
     "metadata": {},
     "output_type": "execute_result"
    }
   ],
   "source": [
    "# 명사 추출 \n",
    "abstract_noun = []\n",
    "\n",
    "for text in df_all_abstract[\"Cleaned_Abstract\"]:\n",
    "    nouns = extract_nouns_and_remove_stopwords(text)\n",
    "    abstract_noun.append(nouns)\n",
    "\n",
    "len(abstract_noun)"
   ]
  },
  {
   "cell_type": "code",
   "execution_count": 11,
   "metadata": {},
   "outputs": [],
   "source": [
    "# 데이터 프레임에 합치기\n",
    "df_all[\"cleaned_abstract\"] = df_all_abstract[\"Cleaned_Abstract\"]\n",
    "df_all[\"tokenized_abstract\"] = abstract_noun"
   ]
  },
  {
   "cell_type": "code",
   "execution_count": 12,
   "metadata": {},
   "outputs": [
    {
     "name": "stdout",
     "output_type": "stream",
     "text": [
      "<class 'pandas.core.frame.DataFrame'>\n",
      "RangeIndex: 575 entries, 0 to 574\n",
      "Data columns (total 7 columns):\n",
      " #   Column              Non-Null Count  Dtype \n",
      "---  ------              --------------  ----- \n",
      " 0   Country             575 non-null    object\n",
      " 1   Title               575 non-null    object\n",
      " 2   Publised            575 non-null    int64 \n",
      " 3   Journal             575 non-null    object\n",
      " 4   Abstract            575 non-null    object\n",
      " 5   cleaned_abstract    575 non-null    object\n",
      " 6   tokenized_abstract  575 non-null    object\n",
      "dtypes: int64(1), object(6)\n",
      "memory usage: 31.6+ KB\n"
     ]
    }
   ],
   "source": [
    "df_all.info()"
   ]
  },
  {
   "cell_type": "code",
   "execution_count": 13,
   "metadata": {},
   "outputs": [],
   "source": [
    "# 빈도 저장\n",
    "df_all.to_excel(r\"C:/Users/user/Desktop/토픽모델링_교수님/Data/df_final_stopwords.xlsx\")"
   ]
  },
  {
   "cell_type": "markdown",
   "metadata": {},
   "source": [
    "## 단어 별 빈도 확인"
   ]
  },
  {
   "cell_type": "code",
   "execution_count": 14,
   "metadata": {},
   "outputs": [
    {
     "name": "stderr",
     "output_type": "stream",
     "text": [
      "c:\\Users\\user\\anaconda3\\envs\\PY39_\\lib\\site-packages\\sklearn\\feature_extraction\\text.py:525: UserWarning: The parameter 'token_pattern' will not be used since 'tokenizer' is not None'\n",
      "  warnings.warn(\n"
     ]
    }
   ],
   "source": [
    "# 추출 단어 확인(10개 이상)\n",
    "from sklearn.feature_extraction.text import CountVectorizer\n",
    "cv = CountVectorizer(tokenizer=extract_nouns_and_remove_stopwords , min_df=5)\n",
    "dtm = cv.fit_transform(df_all[\"cleaned_abstract\"])"
   ]
  },
  {
   "cell_type": "code",
   "execution_count": 15,
   "metadata": {},
   "outputs": [
    {
     "data": {
      "text/plain": [
       "array(['abilities', 'ability', 'absence', 'academia', 'acceptance',\n",
       "       'access', 'accessibility', 'accordance', 'achievement',\n",
       "       'achievements', 'acquisition', 'act', 'actions', 'activation',\n",
       "       'activities', 'activity', 'actors', 'addition', 'adherence',\n",
       "       'adjustment', 'administration', 'adolescents', 'adult',\n",
       "       'adulthood', 'adults', 'advance', 'advantage', 'advantages',\n",
       "       'advertisement', 'age', 'agencies', 'agency', 'agents', 'ages',\n",
       "       'aim', 'alternatives', 'ambiguity', 'analyses', 'analysis',\n",
       "       'answers', 'anxiety', 'application', 'approach', 'approaches',\n",
       "       'area', 'areas', 'arrangement', 'art', 'article', 'articles',\n",
       "       'arts', 'aspect', 'aspects', 'assessment', 'association',\n",
       "       'associations', 'athlete', 'athletes', 'atmosphere', 'attachment',\n",
       "       'attempt', 'attempts', 'attention', 'attitude', 'attitudes',\n",
       "       'attributes', 'author', 'authorities', 'authority', 'autonomy',\n",
       "       'awareness', 'background', 'badminton', 'balance', 'ball',\n",
       "       'barriers', 'base', 'baseball', 'basis', 'basketball', 'beginning',\n",
       "       'behavior', 'behaviors', 'belief', 'benefit', 'benefits', 'birth',\n",
       "       'board', 'boards', 'bodies', 'body', 'books', 'boundary',\n",
       "       'bowling', 'boys', 'brand', 'budget', 'budgets', 'building',\n",
       "       'burden', 'business', 'businesses', 'campaign', 'capacity',\n",
       "       'capital', 'care', 'career', 'case', 'cases', 'categories',\n",
       "       'category', 'cause', 'center', 'centers', 'century',\n",
       "       'certification', 'challenge', 'challenges', 'chance', 'change',\n",
       "       'changes', 'character', 'characteristic', 'characteristics',\n",
       "       'charge', 'child', 'childhood', 'children', 'choice',\n",
       "       'circumstances', 'cities', 'citizen', 'citizens', 'city', 'class',\n",
       "       'classes', 'classification', 'cluster', 'coach', 'coaches',\n",
       "       'coaching', 'collaboration', 'colleagues', 'collection', 'college',\n",
       "       'commission', 'commitment', 'committee', 'commons',\n",
       "       'communication', 'communities', 'community', 'companies',\n",
       "       'company', 'comparison', 'competence', 'competition',\n",
       "       'competitions', 'competitiveness', 'component', 'components',\n",
       "       'composition', 'computer', 'concept', 'concepts', 'concern',\n",
       "       'concerns', 'conclusion', 'conclusions', 'condition', 'conditions',\n",
       "       'confidence', 'conflict', 'conflicts', 'connection', 'connections',\n",
       "       'consciousness', 'consensus', 'consideration', 'constraints',\n",
       "       'construct', 'construction', 'consumer', 'consumers',\n",
       "       'consumption', 'content', 'contents', 'context', 'continuation',\n",
       "       'continuity', 'contrast', 'contribution', 'control', 'convenience',\n",
       "       'cooperation', 'coordination', 'copies', 'core', 'corporation',\n",
       "       'corporations', 'correlation', 'cost', 'council', 'countries',\n",
       "       'country', 'course', 'courses', 'covariance', 'creation',\n",
       "       'creativity', 'crisis', 'criteria', 'cross', 'culture', 'cultures',\n",
       "       'curriculum', 'customer', 'customers', 'cycle', 'data', 'date',\n",
       "       'day', 'days', 'decision', 'decline', 'decrease', 'degree',\n",
       "       'demand', 'democracy', 'demonstration', 'department',\n",
       "       'departments', 'depression', 'depth', 'design', 'detail',\n",
       "       'determination', 'development', 'deviation', 'difference',\n",
       "       'differences', 'difficulties', 'difficulty', 'dimensions',\n",
       "       'direction', 'director', 'directors', 'disabilities', 'disability',\n",
       "       'disadvantages', 'disaster', 'discourse', 'discussion',\n",
       "       'discussions', 'diseases', 'distance', 'distribution', 'district',\n",
       "       'districts', 'diversification', 'diversity', 'diving', 'division',\n",
       "       'document', 'documents', 'domain', 'domains', 'donation',\n",
       "       'donations', 'duration', 'duty', 'earthquake', 'economies',\n",
       "       'economy', 'education', 'effect', 'effectiveness', 'effects',\n",
       "       'efficacy', 'efficiency', 'effort', 'efforts', 'element',\n",
       "       'elements', 'emergence', 'emotions', 'emphasis', 'employees',\n",
       "       'employment', 'enactment', 'end', 'endurance', 'engagement',\n",
       "       'enhancement', 'enjoyment', 'enterprises', 'entertainment',\n",
       "       'enthusiasts', 'entity', 'entrance', 'environment', 'environments',\n",
       "       'equation', 'equipment', 'era', 'establishment', 'evaluation',\n",
       "       'evaluations', 'event', 'events', 'evidence', 'examination',\n",
       "       'example', 'examples', 'exchange', 'execution', 'executives',\n",
       "       'exercise', 'exercises', 'existence', 'expansion', 'expectation',\n",
       "       'expectations', 'expenses', 'experience', 'experiences', 'expert',\n",
       "       'expertise', 'experts', 'extension', 'facilities', 'facility',\n",
       "       'fact', 'factor', 'factors', 'families', 'family', 'fan', 'fans',\n",
       "       'fat', 'features', 'federations', 'fee', 'feeling', 'fees',\n",
       "       'female', 'females', 'festival', 'field', 'fields', 'fieldwork',\n",
       "       'finance', 'findings', 'fit', 'fitness', 'flow', 'focus',\n",
       "       'followings', 'food', 'football', 'force', 'form', 'formation',\n",
       "       'forms', 'foundation', 'framework', 'frequency', 'friends',\n",
       "       'friendship', 'fun', 'function', 'functions', 'fund', 'funding',\n",
       "       'funds', 'future', 'game', 'games', 'gap', 'gender', 'generation',\n",
       "       'generations', 'girls', 'goal', 'goals', 'golf', 'goodness',\n",
       "       'goods', 'governance', 'governing', 'government', 'governments',\n",
       "       'grade', 'graduates', 'ground', 'group', 'groups', 'growth',\n",
       "       'guidance', 'guidelines', 'gyeonggi', 'gym', 'gymnastics', 'gyms',\n",
       "       'habits', 'half', 'hand', 'happiness', 'head', 'health', 'height',\n",
       "       'history', 'home', 'hometown', 'hours', 'hypothesis', 'idea',\n",
       "       'ideas', 'identification', 'identity', 'image', 'images', 'impact',\n",
       "       'implementation', 'implication', 'implications', 'importance',\n",
       "       'improvement', 'improvements', 'incheon', 'income', 'increase',\n",
       "       'independence', 'index', 'indicators', 'individual', 'individuals',\n",
       "       'industry', 'influence', 'influences', 'information',\n",
       "       'infrastructure', 'initiative', 'innovation', 'institution',\n",
       "       'institutions', 'instruction', 'instructor', 'instructors',\n",
       "       'instrument', 'insurance', 'integration', 'intention',\n",
       "       'intentions', 'inter', 'interaction', 'interactions', 'interest',\n",
       "       'interests', 'internet', 'intervention', 'interview', 'interviews',\n",
       "       'introduction', 'investigation', 'investment', 'involvement',\n",
       "       'issue', 'issues', 'item', 'items', 'job', 'journal', 'journals',\n",
       "       'justification', 'kind', 'kinds', 'knowledge', 'labor', 'lack',\n",
       "       'law', 'leader', 'leaders', 'leadership', 'league', 'leagues',\n",
       "       'learning', 'legislation', 'legitimacy', 'leisure', 'lesson',\n",
       "       'lessons', 'level', 'levels', 'life', 'lifestyle', 'lifestyles',\n",
       "       'lifetime', 'light', 'limitation', 'limitations', 'line',\n",
       "       'linkage', 'literature', 'lives', 'living', 'location', 'loss',\n",
       "       'lot', 'maintenance', 'majority', 'makers', 'males', 'man',\n",
       "       'management', 'manager', 'managers', 'manner', 'map', 'market',\n",
       "       'marketing', 'mass', 'masters', 'material', 'materials', 'matter',\n",
       "       'matters', 'meaning', 'meanings', 'means', 'measure',\n",
       "       'measurement', 'measures', 'mechanisms', 'media', 'mediating',\n",
       "       'medicine', 'meeting', 'meetings', 'member', 'members',\n",
       "       'membership', 'men', 'method', 'methodology', 'methods', 'middle',\n",
       "       'mind', 'mining', 'mobilization', 'model', 'modeling', 'models',\n",
       "       'money', 'month', 'months', 'mothers', 'motivation', 'mountain',\n",
       "       'movement', 'movements', 'municipalities', 'muscle', 'nation',\n",
       "       'nature', 'necessity', 'need', 'needs', 'neighbors', 'network',\n",
       "       'networks', 'norms', 'npo', 'npos', 'number', 'numbers', 'obesity',\n",
       "       'object', 'objective', 'objectives', 'observation', 'obstacles',\n",
       "       'occupation', 'office', 'officials', 'ones', 'opening',\n",
       "       'operating', 'operation', 'operations', 'opinion', 'opinions',\n",
       "       'opportunities', 'opportunity', 'order', 'organization',\n",
       "       'organizations', 'organizing', 'orientation', 'outcome',\n",
       "       'outcomes', 'pain', 'paper', 'papers', 'paradigm', 'parent',\n",
       "       'parents', 'park', 'participants', 'participation', 'parties',\n",
       "       'partnership', 'parts', 'party', 'past', 'path', 'patterns',\n",
       "       'peer', 'people', 'percent', 'percentage', 'perception',\n",
       "       'perceptions', 'performance', 'period', 'person', 'personality',\n",
       "       'personnel', 'persons', 'perspective', 'perspectives', 'phase',\n",
       "       'phenomenon', 'philosophy', 'pilot', 'place', 'places', 'plan',\n",
       "       'planning', 'plans', 'platform', 'play', 'player', 'players',\n",
       "       'point', 'points', 'policies', 'policy', 'politics', 'pool',\n",
       "       'popularization', 'population', 'position', 'positions',\n",
       "       'possibilities', 'possibility', 'potential', 'power', 'practice',\n",
       "       'practices', 'practitioners', 'prefecture', 'prefectures',\n",
       "       'preference', 'preparation', 'presence', 'presentation',\n",
       "       'prevention', 'price', 'priority', 'problem', 'problems',\n",
       "       'procedure', 'procedures', 'process', 'processes', 'processing',\n",
       "       'product', 'products', 'professionals', 'profit', 'program',\n",
       "       'programs', 'progress', 'project', 'projects', 'promotion',\n",
       "       'proportion', 'prospects', 'province', 'provision', 'psychology',\n",
       "       'public', 'publicity', 'publicness', 'purposes', 'qualifications',\n",
       "       'quality', 'question', 'questionnaire', 'questionnaires',\n",
       "       'questions', 'range', 'rate', 'rates', 'ratio', 'reaction',\n",
       "       'realization', 'reason', 'reasons', 'recognition',\n",
       "       'recommendation', 'recommendations', 'record', 'records',\n",
       "       'recreation', 'reduction', 'reference', 'regard', 'region',\n",
       "       'regions', 'registration', 'regression', 'regulations', 'relation',\n",
       "       'relations', 'relationship', 'relationships', 'reliability',\n",
       "       'report', 'reports', 'representatives', 'research', 'researcher',\n",
       "       'researchers', 'researches', 'reservation', 'residence',\n",
       "       'resident', 'residents', 'resource', 'resources', 'respect',\n",
       "       'respondents', 'response', 'responses', 'responsibility', 'rest',\n",
       "       'restriction', 'restrictions', 'result', 'review',\n",
       "       'revitalization', 'right', 'rights', 'rise', 'risk', 'role',\n",
       "       'roles', 'rule', 'rules', 'safety', 'sales', 'sample', 'samples',\n",
       "       'sampling', 'satisfaction', 'scale', 'school', 'schools',\n",
       "       'science', 'sciences', 'scope', 'score', 'scores', 'search',\n",
       "       'season', 'second', 'section', 'sector', 'sectors', 'security',\n",
       "       'selection', 'self', 'sem', 'semester', 'sense', 'service',\n",
       "       'services', 'sex', 'sharing', 'significance', 'site', 'sites',\n",
       "       'situation', 'situations', 'size', 'skill', 'skills', 'soccer',\n",
       "       'sociality', 'society', 'sociology', 'solidarity', 'solution',\n",
       "       'solutions', 'sorts', 'source', 'sources', 'space', 'spectator',\n",
       "       'spectators', 'sphere', 'spirit', 'sponsorship', 'sporting',\n",
       "       'spread', 'stability', 'stadium', 'stadiums', 'staff', 'stage',\n",
       "       'stages', 'stakeholders', 'standard', 'star', 'state',\n",
       "       'statements', 'statistics', 'status', 'step', 'steps',\n",
       "       'strategies', 'strategy', 'strength', 'strengths', 'stress',\n",
       "       'structure', 'structures', 'student', 'students', 'studies',\n",
       "       'style', 'sub', 'subject', 'subjects', 'success', 'suggestion',\n",
       "       'suggestions', 'summer', 'supervisors', 'supply', 'support',\n",
       "       'supports', 'survey', 'surveys', 'sustainability', 'swimming',\n",
       "       'symbol', 'system', 'systems', 'talent', 'target', 'targets',\n",
       "       'task', 'tasks', 'tax', 'teacher', 'teachers', 'teaching', 'team',\n",
       "       'teams', 'technique', 'technology', 'tendency', 'tennis', 'term',\n",
       "       'terms', 'test', 'tests', 'text', 'theories', 'theory', 'thinking',\n",
       "       'thoughts', 'time', 'times', 'today', 'tool', 'tools', 'topics',\n",
       "       'total', 'tour', 'tourism', 'town', 'track', 'tradition',\n",
       "       'training', 'transition', 'treatment', 'trend', 'trends',\n",
       "       'triangulation', 'trust', 'type', 'types', 'understanding', 'unit',\n",
       "       'unity', 'universities', 'university', 'ups', 'usage', 'use',\n",
       "       'users', 'utilization', 'validity', 'value', 'values', 'variable',\n",
       "       'variables', 'variance', 'variation', 'variety', 'ver',\n",
       "       'verification', 'version', 'view', 'viewpoint', 'views', 'vision',\n",
       "       'vitality', 'volleyball', 'volunteer', 'volunteers', 'war',\n",
       "       'water', 'way', 'ways', 'weakness', 'week', 'weight', 'welfare',\n",
       "       'win', 'window', 'woman', 'women', 'word', 'words', 'work',\n",
       "       'workers', 'world', 'year', 'years', 'youth'], dtype=object)"
      ]
     },
     "execution_count": 15,
     "metadata": {},
     "output_type": "execute_result"
    }
   ],
   "source": [
    "# 단어 목록\n",
    "cv.get_feature_names_out()"
   ]
  },
  {
   "cell_type": "code",
   "execution_count": 16,
   "metadata": {},
   "outputs": [
    {
     "data": {
      "text/html": [
       "<div>\n",
       "<style scoped>\n",
       "    .dataframe tbody tr th:only-of-type {\n",
       "        vertical-align: middle;\n",
       "    }\n",
       "\n",
       "    .dataframe tbody tr th {\n",
       "        vertical-align: top;\n",
       "    }\n",
       "\n",
       "    .dataframe thead th {\n",
       "        text-align: right;\n",
       "    }\n",
       "</style>\n",
       "<table border=\"1\" class=\"dataframe\">\n",
       "  <thead>\n",
       "    <tr style=\"text-align: right;\">\n",
       "      <th></th>\n",
       "      <th>word</th>\n",
       "      <th>count</th>\n",
       "    </tr>\n",
       "  </thead>\n",
       "  <tbody>\n",
       "    <tr>\n",
       "      <th>768</th>\n",
       "      <td>school</td>\n",
       "      <td>730</td>\n",
       "    </tr>\n",
       "    <tr>\n",
       "      <th>151</th>\n",
       "      <td>community</td>\n",
       "      <td>497</td>\n",
       "    </tr>\n",
       "    <tr>\n",
       "      <th>38</th>\n",
       "      <td>analysis</td>\n",
       "      <td>485</td>\n",
       "    </tr>\n",
       "    <tr>\n",
       "      <th>14</th>\n",
       "      <td>activities</td>\n",
       "      <td>440</td>\n",
       "    </tr>\n",
       "    <tr>\n",
       "      <th>274</th>\n",
       "      <td>education</td>\n",
       "      <td>395</td>\n",
       "    </tr>\n",
       "    <tr>\n",
       "      <th>840</th>\n",
       "      <td>students</td>\n",
       "      <td>324</td>\n",
       "    </tr>\n",
       "    <tr>\n",
       "      <th>609</th>\n",
       "      <td>participation</td>\n",
       "      <td>304</td>\n",
       "    </tr>\n",
       "    <tr>\n",
       "      <th>219</th>\n",
       "      <td>data</td>\n",
       "      <td>302</td>\n",
       "    </tr>\n",
       "    <tr>\n",
       "      <th>732</th>\n",
       "      <td>research</td>\n",
       "      <td>288</td>\n",
       "    </tr>\n",
       "    <tr>\n",
       "      <th>540</th>\n",
       "      <td>members</td>\n",
       "      <td>285</td>\n",
       "    </tr>\n",
       "    <tr>\n",
       "      <th>330</th>\n",
       "      <td>facilities</td>\n",
       "      <td>277</td>\n",
       "    </tr>\n",
       "    <tr>\n",
       "      <th>334</th>\n",
       "      <td>factors</td>\n",
       "      <td>272</td>\n",
       "    </tr>\n",
       "    <tr>\n",
       "      <th>317</th>\n",
       "      <td>exercise</td>\n",
       "      <td>270</td>\n",
       "    </tr>\n",
       "    <tr>\n",
       "      <th>859</th>\n",
       "      <td>system</td>\n",
       "      <td>264</td>\n",
       "    </tr>\n",
       "    <tr>\n",
       "      <th>237</th>\n",
       "      <td>development</td>\n",
       "      <td>235</td>\n",
       "    </tr>\n",
       "  </tbody>\n",
       "</table>\n",
       "</div>"
      ],
      "text/plain": [
       "              word  count\n",
       "768         school    730\n",
       "151      community    497\n",
       "38        analysis    485\n",
       "14      activities    440\n",
       "274      education    395\n",
       "840       students    324\n",
       "609  participation    304\n",
       "219           data    302\n",
       "732       research    288\n",
       "540        members    285\n",
       "330     facilities    277\n",
       "334        factors    272\n",
       "317       exercise    270\n",
       "859         system    264\n",
       "237    development    235"
      ]
     },
     "execution_count": 16,
     "metadata": {},
     "output_type": "execute_result"
    }
   ],
   "source": [
    "# 단어 빈도 데이터 프레임\n",
    "word_count = pd.DataFrame({\n",
    "    'word': cv.get_feature_names_out(),\n",
    "    'count': dtm.sum(axis=0).flat\n",
    "})\n",
    "\n",
    "word_count_desc = word_count.sort_values('count', ascending=False)\n",
    "word_count_desc.head(15)"
   ]
  },
  {
   "cell_type": "code",
   "execution_count": 17,
   "metadata": {},
   "outputs": [],
   "source": [
    "# 빈도 저장\n",
    "word_count_desc.to_excel(r\"C:/Users/user/Desktop/토픽모델링_교수님/Data/extract_nouns_Frequency_stopwords.xlsx\")"
   ]
  },
  {
   "cell_type": "code",
   "execution_count": 18,
   "metadata": {},
   "outputs": [],
   "source": [
    "# 데이터프레임을 튜플 리스트로 변환\n",
    "word_list = list(zip(word_count_desc['word'], word_count_desc['count']))"
   ]
  },
  {
   "cell_type": "code",
   "execution_count": 19,
   "metadata": {},
   "outputs": [],
   "source": [
    "# 토크나이징한 최종 토큰 수 산출\n",
    "all_words = []\n",
    "\n",
    "for row in df_all[\"tokenized_abstract\"]:\n",
    "    all_words.extend(row)\n",
    "\n",
    "all_words_df = pd.DataFrame(all_words, columns=[\"words\"])"
   ]
  },
  {
   "cell_type": "code",
   "execution_count": 20,
   "metadata": {},
   "outputs": [],
   "source": [
    "# 모든 단어 저장(중복 허용_워드클라우드용)\n",
    "all_words_df.to_excel(r\"C:/Users/user/Desktop/토픽모델링_교수님/Data/all_extract_nouns_stopwords.xlsx\")"
   ]
  },
  {
   "cell_type": "code",
   "execution_count": null,
   "metadata": {},
   "outputs": [],
   "source": []
  }
 ],
 "metadata": {
  "colab": {
   "provenance": []
  },
  "kernelspec": {
   "display_name": "Python 3 (ipykernel)",
   "language": "python",
   "name": "python3"
  },
  "language_info": {
   "codemirror_mode": {
    "name": "ipython",
    "version": 3
   },
   "file_extension": ".py",
   "mimetype": "text/x-python",
   "name": "python",
   "nbconvert_exporter": "python",
   "pygments_lexer": "ipython3",
   "version": "3.9.16"
  }
 },
 "nbformat": 4,
 "nbformat_minor": 1
}
