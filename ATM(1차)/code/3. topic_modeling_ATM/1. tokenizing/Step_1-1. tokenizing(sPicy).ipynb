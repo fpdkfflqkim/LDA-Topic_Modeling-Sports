{
 "cells": [
  {
   "cell_type": "code",
   "execution_count": 1,
   "metadata": {},
   "outputs": [],
   "source": [
    "# 라이브러리 불러오기\n",
    "import spacy\n",
    "import pandas as pd\n",
    "import re\n",
    "from spacy.lang.en import STOP_WORDS\n",
    "import matplotlib.pyplot as plt"
   ]
  },
  {
   "cell_type": "code",
   "execution_count": 2,
   "metadata": {},
   "outputs": [],
   "source": [
    "# 토크나이저 정의\n",
    "nlp = spacy.load('en_core_web_sm')"
   ]
  },
  {
   "cell_type": "code",
   "execution_count": 3,
   "metadata": {},
   "outputs": [],
   "source": [
    "# 데이터 불러오기\n",
    "df_jp = pd.read_excel(r\"C:\\Users\\user\\Desktop\\토픽모델링_교수님\\Data\\DataFrame_jp_v1.xlsx\")\n",
    "df_kr = pd.read_excel(r\"C:\\Users\\user\\Desktop\\토픽모델링_교수님\\Data\\DataFrame_kr_v1.xlsx\")"
   ]
  },
  {
   "cell_type": "code",
   "execution_count": 4,
   "metadata": {},
   "outputs": [
    {
     "data": {
      "text/plain": [
       "575"
      ]
     },
     "execution_count": 4,
     "metadata": {},
     "output_type": "execute_result"
    }
   ],
   "source": [
    "# 데이터 concat\n",
    "df = pd.concat([df_jp,df_kr],ignore_index=True)\n",
    "len(df)"
   ]
  },
  {
   "cell_type": "code",
   "execution_count": 5,
   "metadata": {},
   "outputs": [
    {
     "data": {
      "text/plain": [
       "575"
      ]
     },
     "execution_count": 5,
     "metadata": {},
     "output_type": "execute_result"
    }
   ],
   "source": [
    "# \"Abstract\" 만 따로 추출\n",
    "df_all = df.copy()\n",
    "df_all_abstract = pd.DataFrame(df_all[\"Abstract\"], columns=[\"Abstract\"])\n",
    "len(df_all_abstract)"
   ]
  },
  {
   "cell_type": "code",
   "execution_count": 7,
   "metadata": {},
   "outputs": [],
   "source": [
    "# 특수문자 제거 함수\n",
    "def remove_special_chars(text):\n",
    "    # 정규표현식을 사용하여 특수문자와 제어문자 제거\n",
    "    cleaned_text = re.sub(r'[^a-zA-Z가-힣\\s]', ' ', text)\n",
    "    return cleaned_text"
   ]
  },
  {
   "cell_type": "code",
   "execution_count": 8,
   "metadata": {},
   "outputs": [
    {
     "data": {
      "text/html": [
       "<div>\n",
       "<style scoped>\n",
       "    .dataframe tbody tr th:only-of-type {\n",
       "        vertical-align: middle;\n",
       "    }\n",
       "\n",
       "    .dataframe tbody tr th {\n",
       "        vertical-align: top;\n",
       "    }\n",
       "\n",
       "    .dataframe thead th {\n",
       "        text-align: right;\n",
       "    }\n",
       "</style>\n",
       "<table border=\"1\" class=\"dataframe\">\n",
       "  <thead>\n",
       "    <tr style=\"text-align: right;\">\n",
       "      <th></th>\n",
       "      <th>Abstract</th>\n",
       "      <th>Cleaned_Abstract</th>\n",
       "    </tr>\n",
       "  </thead>\n",
       "  <tbody>\n",
       "    <tr>\n",
       "      <th>0</th>\n",
       "      <td>The purpose of this literature review study wa...</td>\n",
       "      <td>The purpose of this literature review study wa...</td>\n",
       "    </tr>\n",
       "    <tr>\n",
       "      <th>1</th>\n",
       "      <td>This study focused on highly sustainable compr...</td>\n",
       "      <td>This study focused on highly sustainable compr...</td>\n",
       "    </tr>\n",
       "    <tr>\n",
       "      <th>2</th>\n",
       "      <td>The sustainable growth of comprehensive commun...</td>\n",
       "      <td>The sustainable growth of comprehensive commun...</td>\n",
       "    </tr>\n",
       "    <tr>\n",
       "      <th>3</th>\n",
       "      <td>This study attempts to clarify the factors of ...</td>\n",
       "      <td>This study attempts to clarify the factors of ...</td>\n",
       "    </tr>\n",
       "    <tr>\n",
       "      <th>4</th>\n",
       "      <td>The purpose of the present article was to desc...</td>\n",
       "      <td>The purpose of the present article was to desc...</td>\n",
       "    </tr>\n",
       "    <tr>\n",
       "      <th>...</th>\n",
       "      <td>...</td>\n",
       "      <td>...</td>\n",
       "    </tr>\n",
       "    <tr>\n",
       "      <th>570</th>\n",
       "      <td>Pupose : The purpose of this study was to exam...</td>\n",
       "      <td>Pupose   The purpose of this study was to exam...</td>\n",
       "    </tr>\n",
       "    <tr>\n",
       "      <th>571</th>\n",
       "      <td>The french administrative justice system ensur...</td>\n",
       "      <td>The french administrative justice system ensur...</td>\n",
       "    </tr>\n",
       "    <tr>\n",
       "      <th>572</th>\n",
       "      <td>A study on training/certification program and ...</td>\n",
       "      <td>A study on training certification program and ...</td>\n",
       "    </tr>\n",
       "    <tr>\n",
       "      <th>573</th>\n",
       "      <td>This study has compared and analyzed the prese...</td>\n",
       "      <td>This study has compared and analyzed the prese...</td>\n",
       "    </tr>\n",
       "    <tr>\n",
       "      <th>574</th>\n",
       "      <td>The purpose of this research is to acquire car...</td>\n",
       "      <td>The purpose of this research is to acquire car...</td>\n",
       "    </tr>\n",
       "  </tbody>\n",
       "</table>\n",
       "<p>575 rows × 2 columns</p>\n",
       "</div>"
      ],
      "text/plain": [
       "                                              Abstract  \\\n",
       "0    The purpose of this literature review study wa...   \n",
       "1    This study focused on highly sustainable compr...   \n",
       "2    The sustainable growth of comprehensive commun...   \n",
       "3    This study attempts to clarify the factors of ...   \n",
       "4    The purpose of the present article was to desc...   \n",
       "..                                                 ...   \n",
       "570  Pupose : The purpose of this study was to exam...   \n",
       "571  The french administrative justice system ensur...   \n",
       "572  A study on training/certification program and ...   \n",
       "573  This study has compared and analyzed the prese...   \n",
       "574  The purpose of this research is to acquire car...   \n",
       "\n",
       "                                      Cleaned_Abstract  \n",
       "0    The purpose of this literature review study wa...  \n",
       "1    This study focused on highly sustainable compr...  \n",
       "2    The sustainable growth of comprehensive commun...  \n",
       "3    This study attempts to clarify the factors of ...  \n",
       "4    The purpose of the present article was to desc...  \n",
       "..                                                 ...  \n",
       "570  Pupose   The purpose of this study was to exam...  \n",
       "571  The french administrative justice system ensur...  \n",
       "572  A study on training certification program and ...  \n",
       "573  This study has compared and analyzed the prese...  \n",
       "574  The purpose of this research is to acquire car...  \n",
       "\n",
       "[575 rows x 2 columns]"
      ]
     },
     "execution_count": 8,
     "metadata": {},
     "output_type": "execute_result"
    }
   ],
   "source": [
    "# 특수문자 제거\n",
    "df_all_abstract[\"Cleaned_Abstract\"] = df_all_abstract[\"Abstract\"].apply(remove_special_chars)\n",
    "df_all_abstract"
   ]
  },
  {
   "cell_type": "code",
   "execution_count": 9,
   "metadata": {},
   "outputs": [],
   "source": [
    "# 명사 추출 함수(길이 3 이상)\n",
    "def extract_nouns(text):\n",
    "    doc = nlp(text)\n",
    "    nouns = [token.text for token in doc if token.pos_ == 'NOUN' and len(token.text) >= 3]\n",
    "    return nouns"
   ]
  },
  {
   "cell_type": "code",
   "execution_count": 10,
   "metadata": {},
   "outputs": [
    {
     "data": {
      "text/plain": [
       "575"
      ]
     },
     "execution_count": 10,
     "metadata": {},
     "output_type": "execute_result"
    }
   ],
   "source": [
    "# 명사 추출 \n",
    "abstract_noun = []\n",
    "\n",
    "for text in df_all_abstract[\"Cleaned_Abstract\"]:\n",
    "    nouns = extract_nouns(text)\n",
    "    abstract_noun.append(nouns)\n",
    "\n",
    "len(abstract_noun)"
   ]
  },
  {
   "cell_type": "code",
   "execution_count": 11,
   "metadata": {},
   "outputs": [],
   "source": [
    "# 데이터 프레임에 합치기\n",
    "df_all[\"cleaned_abstract\"] = df_all_abstract[\"Cleaned_Abstract\"]\n",
    "df_all[\"tokenized_abstract\"] = abstract_noun"
   ]
  },
  {
   "cell_type": "markdown",
   "metadata": {},
   "source": [
    "## 불용어 처리(우선 생략)"
   ]
  },
  {
   "cell_type": "code",
   "execution_count": 12,
   "metadata": {},
   "outputs": [
    {
     "name": "stdout",
     "output_type": "stream",
     "text": [
      "<class 'pandas.core.frame.DataFrame'>\n",
      "RangeIndex: 575 entries, 0 to 574\n",
      "Data columns (total 7 columns):\n",
      " #   Column              Non-Null Count  Dtype \n",
      "---  ------              --------------  ----- \n",
      " 0   Country             575 non-null    object\n",
      " 1   Title               575 non-null    object\n",
      " 2   Publised            575 non-null    int64 \n",
      " 3   Journal             575 non-null    object\n",
      " 4   Abstract            575 non-null    object\n",
      " 5   cleaned_abstract    575 non-null    object\n",
      " 6   tokenized_abstract  575 non-null    object\n",
      "dtypes: int64(1), object(6)\n",
      "memory usage: 31.6+ KB\n"
     ]
    }
   ],
   "source": [
    "df_all.info()"
   ]
  },
  {
   "cell_type": "code",
   "execution_count": 13,
   "metadata": {},
   "outputs": [],
   "source": [
    "# 빈도 저장\n",
    "df_all.to_excel(r\"C:/Users/user/Desktop/토픽모델링_교수님/Data/df_final.xlsx\")"
   ]
  },
  {
   "cell_type": "markdown",
   "metadata": {},
   "source": [
    "## 단어 별 빈도 확인"
   ]
  },
  {
   "cell_type": "code",
   "execution_count": 14,
   "metadata": {},
   "outputs": [
    {
     "name": "stderr",
     "output_type": "stream",
     "text": [
      "c:\\Users\\user\\anaconda3\\envs\\PY39_\\lib\\site-packages\\sklearn\\feature_extraction\\text.py:525: UserWarning: The parameter 'token_pattern' will not be used since 'tokenizer' is not None'\n",
      "  warnings.warn(\n"
     ]
    }
   ],
   "source": [
    "# 추출 단어 확인(10개 이상)\n",
    "from sklearn.feature_extraction.text import CountVectorizer\n",
    "cv = CountVectorizer(tokenizer=extract_nouns , min_df=5)\n",
    "dtm = cv.fit_transform(df_all[\"cleaned_abstract\"])"
   ]
  },
  {
   "cell_type": "code",
   "execution_count": 15,
   "metadata": {},
   "outputs": [
    {
     "data": {
      "text/plain": [
       "array(['abilities', 'ability', 'absence', 'academia', 'acceptance',\n",
       "       'access', 'accessibility', 'accordance', 'achievement',\n",
       "       'achievements', 'acquisition', 'act', 'actions', 'activation',\n",
       "       'activities', 'activity', 'actors', 'addition', 'adherence',\n",
       "       'adjustment', 'administration', 'adolescents', 'adult',\n",
       "       'adulthood', 'adults', 'advance', 'advantage', 'advantages',\n",
       "       'advertisement', 'age', 'agencies', 'agency', 'agents', 'ages',\n",
       "       'aim', 'alternatives', 'ambiguity', 'amount', 'analyses',\n",
       "       'analysis', 'answers', 'anxiety', 'application', 'approach',\n",
       "       'approaches', 'area', 'areas', 'arrangement', 'art', 'article',\n",
       "       'articles', 'arts', 'aspect', 'aspects', 'assessment',\n",
       "       'association', 'associations', 'athlete', 'athletes', 'atmosphere',\n",
       "       'attachment', 'attempt', 'attempts', 'attention', 'attitude',\n",
       "       'attitudes', 'attributes', 'author', 'authorities', 'authority',\n",
       "       'autonomy', 'awareness', 'background', 'badminton', 'balance',\n",
       "       'ball', 'barriers', 'base', 'baseball', 'basis', 'basketball',\n",
       "       'beginning', 'behavior', 'behaviors', 'belief', 'benefit',\n",
       "       'benefits', 'birth', 'board', 'boards', 'bodies', 'body', 'books',\n",
       "       'boundary', 'bowling', 'boys', 'brand', 'budget', 'budgets',\n",
       "       'building', 'burden', 'business', 'businesses', 'campaign',\n",
       "       'capacity', 'capital', 'care', 'career', 'case', 'cases',\n",
       "       'categories', 'category', 'cause', 'center', 'centers', 'century',\n",
       "       'certification', 'challenge', 'challenges', 'chance', 'change',\n",
       "       'changes', 'character', 'characteristic', 'characteristics',\n",
       "       'charge', 'child', 'childhood', 'children', 'choice',\n",
       "       'circumstances', 'cities', 'citizen', 'citizens', 'city', 'class',\n",
       "       'classes', 'classification', 'club', 'clubs', 'cluster', 'coach',\n",
       "       'coaches', 'coaching', 'collaboration', 'colleagues', 'collection',\n",
       "       'college', 'commission', 'commitment', 'committee', 'commons',\n",
       "       'communication', 'communities', 'community', 'companies',\n",
       "       'company', 'comparison', 'competence', 'competition',\n",
       "       'competitions', 'competitiveness', 'component', 'components',\n",
       "       'composition', 'computer', 'concept', 'concepts', 'concern',\n",
       "       'concerns', 'conclusion', 'conclusions', 'condition', 'conditions',\n",
       "       'confidence', 'conflict', 'conflicts', 'connection', 'connections',\n",
       "       'consciousness', 'consensus', 'consideration', 'constraints',\n",
       "       'construct', 'construction', 'consumer', 'consumers',\n",
       "       'consumption', 'content', 'contents', 'context', 'continuation',\n",
       "       'continuity', 'contrast', 'contribution', 'control', 'convenience',\n",
       "       'cooperation', 'coordination', 'copies', 'core', 'corporation',\n",
       "       'corporations', 'correlation', 'cost', 'council', 'countries',\n",
       "       'country', 'course', 'courses', 'covariance', 'creation',\n",
       "       'creativity', 'crisis', 'criteria', 'cross', 'culture', 'cultures',\n",
       "       'curriculum', 'customer', 'customers', 'cycle', 'data', 'date',\n",
       "       'day', 'days', 'decision', 'decline', 'decrease', 'degree',\n",
       "       'demand', 'democracy', 'demonstration', 'department',\n",
       "       'departments', 'depression', 'depth', 'design', 'detail',\n",
       "       'determination', 'development', 'deviation', 'difference',\n",
       "       'differences', 'difficulties', 'difficulty', 'dimensions',\n",
       "       'direction', 'director', 'directors', 'disabilities', 'disability',\n",
       "       'disadvantages', 'disaster', 'discourse', 'discussion',\n",
       "       'discussions', 'diseases', 'distance', 'distribution', 'district',\n",
       "       'districts', 'diversification', 'diversity', 'diving', 'division',\n",
       "       'document', 'documents', 'domain', 'domains', 'donation',\n",
       "       'donations', 'duration', 'duty', 'earthquake', 'economies',\n",
       "       'economy', 'education', 'effect', 'effectiveness', 'effects',\n",
       "       'efficacy', 'efficiency', 'effort', 'efforts', 'element',\n",
       "       'elements', 'emergence', 'emotions', 'emphasis', 'employees',\n",
       "       'employment', 'enactment', 'end', 'endurance', 'engagement',\n",
       "       'enhancement', 'enjoyment', 'enterprises', 'entertainment',\n",
       "       'enthusiasts', 'entity', 'entrance', 'environment', 'environments',\n",
       "       'equation', 'equipment', 'era', 'establishment', 'evaluation',\n",
       "       'evaluations', 'event', 'events', 'evidence', 'examination',\n",
       "       'example', 'examples', 'exchange', 'execution', 'executives',\n",
       "       'exercise', 'exercises', 'existence', 'expansion', 'expectation',\n",
       "       'expectations', 'expenses', 'experience', 'experiences', 'expert',\n",
       "       'expertise', 'experts', 'extension', 'facilities', 'facility',\n",
       "       'fact', 'factor', 'factors', 'families', 'family', 'fan', 'fans',\n",
       "       'fat', 'features', 'federations', 'fee', 'feeling', 'fees',\n",
       "       'female', 'females', 'festival', 'field', 'fields', 'fieldwork',\n",
       "       'finance', 'findings', 'fit', 'fitness', 'flow', 'focus',\n",
       "       'followings', 'food', 'football', 'force', 'form', 'formation',\n",
       "       'forms', 'foundation', 'framework', 'frequency', 'friends',\n",
       "       'friendship', 'fun', 'function', 'functions', 'fund', 'funding',\n",
       "       'funds', 'future', 'game', 'games', 'gap', 'gender', 'generation',\n",
       "       'generations', 'girls', 'goal', 'goals', 'golf', 'goodness',\n",
       "       'goods', 'governance', 'governing', 'government', 'governments',\n",
       "       'grade', 'graduates', 'ground', 'group', 'groups', 'growth',\n",
       "       'guidance', 'guidelines', 'gyeonggi', 'gym', 'gymnastics', 'gyms',\n",
       "       'habits', 'half', 'hand', 'happiness', 'head', 'health', 'height',\n",
       "       'history', 'home', 'hometown', 'hours', 'hypothesis', 'idea',\n",
       "       'ideas', 'identification', 'identity', 'image', 'images', 'impact',\n",
       "       'implementation', 'implication', 'implications', 'importance',\n",
       "       'improvement', 'improvements', 'incheon', 'income', 'increase',\n",
       "       'independence', 'index', 'indicators', 'individual', 'individuals',\n",
       "       'industry', 'influence', 'influences', 'information',\n",
       "       'infrastructure', 'initiative', 'innovation', 'institution',\n",
       "       'institutions', 'instruction', 'instructor', 'instructors',\n",
       "       'instrument', 'insurance', 'integration', 'intention',\n",
       "       'intentions', 'inter', 'interaction', 'interactions', 'interest',\n",
       "       'interests', 'internet', 'intervention', 'interview', 'interviews',\n",
       "       'introduction', 'investigation', 'investment', 'involvement',\n",
       "       'issue', 'issues', 'item', 'items', 'job', 'journal', 'journals',\n",
       "       'justification', 'kind', 'kinds', 'knowledge', 'labor', 'lack',\n",
       "       'law', 'leader', 'leaders', 'leadership', 'league', 'leagues',\n",
       "       'learning', 'legislation', 'legitimacy', 'leisure', 'lesson',\n",
       "       'lessons', 'level', 'levels', 'life', 'lifestyle', 'lifestyles',\n",
       "       'lifetime', 'light', 'limitation', 'limitations', 'line',\n",
       "       'linkage', 'literature', 'lives', 'living', 'location', 'loss',\n",
       "       'lot', 'maintenance', 'majority', 'makers', 'males', 'man',\n",
       "       'management', 'manager', 'managers', 'manner', 'map', 'market',\n",
       "       'marketing', 'mass', 'masters', 'material', 'materials', 'matter',\n",
       "       'matters', 'meaning', 'meanings', 'means', 'measure',\n",
       "       'measurement', 'measures', 'mechanisms', 'media', 'mediating',\n",
       "       'medicine', 'meeting', 'meetings', 'member', 'members',\n",
       "       'membership', 'men', 'method', 'methodology', 'methods', 'middle',\n",
       "       'mind', 'mining', 'mobilization', 'model', 'modeling', 'models',\n",
       "       'money', 'month', 'months', 'mothers', 'motivation', 'mountain',\n",
       "       'movement', 'movements', 'municipalities', 'muscle', 'name',\n",
       "       'nation', 'nature', 'necessity', 'need', 'needs', 'neighbors',\n",
       "       'network', 'networks', 'norms', 'npo', 'npos', 'number', 'numbers',\n",
       "       'obesity', 'object', 'objective', 'objectives', 'observation',\n",
       "       'obstacles', 'occupation', 'office', 'officials', 'one', 'ones',\n",
       "       'opening', 'operating', 'operation', 'operations', 'opinion',\n",
       "       'opinions', 'opportunities', 'opportunity', 'order',\n",
       "       'organization', 'organizations', 'organizing', 'orientation',\n",
       "       'others', 'outcome', 'outcomes', 'pain', 'paper', 'papers',\n",
       "       'paradigm', 'parent', 'parents', 'park', 'part', 'participants',\n",
       "       'participation', 'parties', 'partnership', 'parts', 'party',\n",
       "       'past', 'path', 'patterns', 'peer', 'people', 'percent',\n",
       "       'percentage', 'perception', 'perceptions', 'performance', 'period',\n",
       "       'person', 'personality', 'personnel', 'persons', 'perspective',\n",
       "       'perspectives', 'phase', 'phenomenon', 'philosophy', 'pilot',\n",
       "       'place', 'places', 'plan', 'planning', 'plans', 'platform', 'play',\n",
       "       'player', 'players', 'point', 'points', 'policies', 'policy',\n",
       "       'politics', 'pool', 'popularization', 'population', 'position',\n",
       "       'positions', 'possibilities', 'possibility', 'potential', 'power',\n",
       "       'practice', 'practices', 'practitioners', 'prefecture',\n",
       "       'prefectures', 'preference', 'preparation', 'presence',\n",
       "       'presentation', 'prevention', 'price', 'priority', 'problem',\n",
       "       'problems', 'procedure', 'procedures', 'process', 'processes',\n",
       "       'processing', 'product', 'products', 'professionals', 'profit',\n",
       "       'program', 'programs', 'progress', 'project', 'projects',\n",
       "       'promotion', 'proportion', 'prospects', 'province', 'provision',\n",
       "       'psychology', 'public', 'publicity', 'publicness', 'purpose',\n",
       "       'purposes', 'qualifications', 'quality', 'question',\n",
       "       'questionnaire', 'questionnaires', 'questions', 'range', 'rate',\n",
       "       'rates', 'ratio', 'reaction', 'realization', 'reason', 'reasons',\n",
       "       'recognition', 'recommendation', 'recommendations', 'record',\n",
       "       'records', 'recreation', 'reduction', 'reference', 'regard',\n",
       "       'region', 'regions', 'registration', 'regression', 'regulations',\n",
       "       'relation', 'relations', 'relationship', 'relationships',\n",
       "       'reliability', 'report', 'reports', 'representatives', 'research',\n",
       "       'researcher', 'researchers', 'researches', 'reservation',\n",
       "       'residence', 'resident', 'residents', 'resource', 'resources',\n",
       "       'respect', 'respondents', 'response', 'responses',\n",
       "       'responsibility', 'rest', 'restriction', 'restrictions', 'result',\n",
       "       'results', 'review', 'revitalization', 'right', 'rights', 'rise',\n",
       "       'risk', 'role', 'roles', 'rule', 'rules', 'safety', 'sales',\n",
       "       'sample', 'samples', 'sampling', 'satisfaction', 'scale', 'school',\n",
       "       'schools', 'science', 'sciences', 'scope', 'score', 'scores',\n",
       "       'search', 'season', 'second', 'section', 'sector', 'sectors',\n",
       "       'security', 'selection', 'self', 'sem', 'semester', 'sense',\n",
       "       'service', 'services', 'sex', 'sharing', 'side', 'significance',\n",
       "       'site', 'sites', 'situation', 'situations', 'size', 'skill',\n",
       "       'skills', 'soccer', 'sociality', 'society', 'sociology',\n",
       "       'solidarity', 'solution', 'solutions', 'sorts', 'source',\n",
       "       'sources', 'space', 'spectator', 'spectators', 'sphere', 'spirit',\n",
       "       'sponsorship', 'sport', 'sporting', 'sports', 'spread',\n",
       "       'stability', 'stadium', 'stadiums', 'staff', 'stage', 'stages',\n",
       "       'stakeholders', 'standard', 'star', 'state', 'statements',\n",
       "       'statistics', 'status', 'step', 'steps', 'strategies', 'strategy',\n",
       "       'strength', 'strengths', 'stress', 'structure', 'structures',\n",
       "       'student', 'students', 'studies', 'study', 'style', 'sub',\n",
       "       'subject', 'subjects', 'success', 'suggestion', 'suggestions',\n",
       "       'summer', 'supervisors', 'supply', 'support', 'supports', 'survey',\n",
       "       'surveys', 'sustainability', 'swimming', 'symbol', 'system',\n",
       "       'systems', 'talent', 'target', 'targets', 'task', 'tasks', 'tax',\n",
       "       'teacher', 'teachers', 'teaching', 'team', 'teams', 'technique',\n",
       "       'technology', 'tendency', 'tennis', 'term', 'terms', 'test',\n",
       "       'tests', 'text', 'theories', 'theory', 'thinking', 'thoughts',\n",
       "       'time', 'times', 'today', 'tool', 'tools', 'top', 'topics',\n",
       "       'total', 'tour', 'tourism', 'town', 'track', 'tradition',\n",
       "       'training', 'transition', 'treatment', 'trend', 'trends',\n",
       "       'triangulation', 'trust', 'type', 'types', 'understanding', 'unit',\n",
       "       'unity', 'universities', 'university', 'ups', 'usage', 'use',\n",
       "       'users', 'utilization', 'validity', 'value', 'values', 'variable',\n",
       "       'variables', 'variance', 'variation', 'variety', 'ver',\n",
       "       'verification', 'version', 'view', 'viewpoint', 'views', 'vision',\n",
       "       'vitality', 'volleyball', 'volunteer', 'volunteers', 'war',\n",
       "       'water', 'way', 'ways', 'weakness', 'week', 'weight', 'welfare',\n",
       "       'well', 'win', 'window', 'woman', 'women', 'word', 'words', 'work',\n",
       "       'workers', 'world', 'year', 'years', 'youth'], dtype=object)"
      ]
     },
     "execution_count": 15,
     "metadata": {},
     "output_type": "execute_result"
    }
   ],
   "source": [
    "# 단어 목록\n",
    "cv.get_feature_names_out()"
   ]
  },
  {
   "cell_type": "code",
   "execution_count": 16,
   "metadata": {},
   "outputs": [
    {
     "data": {
      "text/html": [
       "<div>\n",
       "<style scoped>\n",
       "    .dataframe tbody tr th:only-of-type {\n",
       "        vertical-align: middle;\n",
       "    }\n",
       "\n",
       "    .dataframe tbody tr th {\n",
       "        vertical-align: top;\n",
       "    }\n",
       "\n",
       "    .dataframe thead th {\n",
       "        text-align: right;\n",
       "    }\n",
       "</style>\n",
       "<table border=\"1\" class=\"dataframe\">\n",
       "  <thead>\n",
       "    <tr style=\"text-align: right;\">\n",
       "      <th></th>\n",
       "      <th>word</th>\n",
       "      <th>count</th>\n",
       "    </tr>\n",
       "  </thead>\n",
       "  <tbody>\n",
       "    <tr>\n",
       "      <th>827</th>\n",
       "      <td>sports</td>\n",
       "      <td>2261</td>\n",
       "    </tr>\n",
       "    <tr>\n",
       "      <th>138</th>\n",
       "      <td>club</td>\n",
       "      <td>1019</td>\n",
       "    </tr>\n",
       "    <tr>\n",
       "      <th>854</th>\n",
       "      <td>study</td>\n",
       "      <td>888</td>\n",
       "    </tr>\n",
       "    <tr>\n",
       "      <th>825</th>\n",
       "      <td>sport</td>\n",
       "      <td>872</td>\n",
       "    </tr>\n",
       "    <tr>\n",
       "      <th>777</th>\n",
       "      <td>school</td>\n",
       "      <td>730</td>\n",
       "    </tr>\n",
       "    <tr>\n",
       "      <th>139</th>\n",
       "      <td>clubs</td>\n",
       "      <td>546</td>\n",
       "    </tr>\n",
       "    <tr>\n",
       "      <th>154</th>\n",
       "      <td>community</td>\n",
       "      <td>497</td>\n",
       "    </tr>\n",
       "    <tr>\n",
       "      <th>39</th>\n",
       "      <td>analysis</td>\n",
       "      <td>485</td>\n",
       "    </tr>\n",
       "    <tr>\n",
       "      <th>14</th>\n",
       "      <td>activities</td>\n",
       "      <td>440</td>\n",
       "    </tr>\n",
       "    <tr>\n",
       "      <th>277</th>\n",
       "      <td>education</td>\n",
       "      <td>395</td>\n",
       "    </tr>\n",
       "    <tr>\n",
       "      <th>702</th>\n",
       "      <td>purpose</td>\n",
       "      <td>357</td>\n",
       "    </tr>\n",
       "    <tr>\n",
       "      <th>759</th>\n",
       "      <td>results</td>\n",
       "      <td>333</td>\n",
       "    </tr>\n",
       "    <tr>\n",
       "      <th>852</th>\n",
       "      <td>students</td>\n",
       "      <td>324</td>\n",
       "    </tr>\n",
       "    <tr>\n",
       "      <th>616</th>\n",
       "      <td>participation</td>\n",
       "      <td>304</td>\n",
       "    </tr>\n",
       "    <tr>\n",
       "      <th>222</th>\n",
       "      <td>data</td>\n",
       "      <td>302</td>\n",
       "    </tr>\n",
       "  </tbody>\n",
       "</table>\n",
       "</div>"
      ],
      "text/plain": [
       "              word  count\n",
       "827         sports   2261\n",
       "138           club   1019\n",
       "854          study    888\n",
       "825          sport    872\n",
       "777         school    730\n",
       "139          clubs    546\n",
       "154      community    497\n",
       "39        analysis    485\n",
       "14      activities    440\n",
       "277      education    395\n",
       "702        purpose    357\n",
       "759        results    333\n",
       "852       students    324\n",
       "616  participation    304\n",
       "222           data    302"
      ]
     },
     "execution_count": 16,
     "metadata": {},
     "output_type": "execute_result"
    }
   ],
   "source": [
    "# 단어 빈도 데이터 프레임\n",
    "word_count = pd.DataFrame({\n",
    "    'word': cv.get_feature_names_out(),\n",
    "    'count': dtm.sum(axis=0).flat\n",
    "})\n",
    "\n",
    "word_count_desc = word_count.sort_values('count', ascending=False)\n",
    "word_count_desc.head(15)"
   ]
  },
  {
   "cell_type": "code",
   "execution_count": 17,
   "metadata": {},
   "outputs": [],
   "source": [
    "# 빈도 저장\n",
    "word_count_desc.to_excel(r\"C:/Users/user/Desktop/토픽모델링_교수님/Data/extract_nouns_Frequency.xlsx\")"
   ]
  },
  {
   "cell_type": "code",
   "execution_count": 18,
   "metadata": {},
   "outputs": [],
   "source": [
    "# 데이터프레임을 튜플 리스트로 변환\n",
    "word_list = list(zip(word_count_desc['word'], word_count_desc['count']))"
   ]
  },
  {
   "cell_type": "code",
   "execution_count": 19,
   "metadata": {},
   "outputs": [],
   "source": [
    "# 토크나이징한 최종 토큰 수 산출\n",
    "all_words = []\n",
    "\n",
    "for row in df_all[\"tokenized_abstract\"]:\n",
    "    all_words.extend(row)\n",
    "\n",
    "all_words_df = pd.DataFrame(all_words, columns=[\"words\"])"
   ]
  },
  {
   "cell_type": "code",
   "execution_count": 20,
   "metadata": {},
   "outputs": [],
   "source": [
    "# 모든 단어 저장(중복 허용_워드클라우드용)\n",
    "all_words_df.to_excel(r\"C:/Users/user/Desktop/토픽모델링_교수님/Data/all_extract_nouns.xlsx\")"
   ]
  },
  {
   "cell_type": "code",
   "execution_count": null,
   "metadata": {},
   "outputs": [],
   "source": []
  }
 ],
 "metadata": {
  "colab": {
   "provenance": []
  },
  "kernelspec": {
   "display_name": "Python 3 (ipykernel)",
   "language": "python",
   "name": "python3"
  },
  "language_info": {
   "codemirror_mode": {
    "name": "ipython",
    "version": 3
   },
   "file_extension": ".py",
   "mimetype": "text/x-python",
   "name": "python",
   "nbconvert_exporter": "python",
   "pygments_lexer": "ipython3",
   "version": "3.9.16"
  }
 },
 "nbformat": 4,
 "nbformat_minor": 1
}
